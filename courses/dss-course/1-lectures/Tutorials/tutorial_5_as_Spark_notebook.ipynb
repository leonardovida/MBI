{
 "cells": [
  {
   "cell_type": "code",
   "execution_count": 20,
   "metadata": {},
   "outputs": [],
   "source": [
    "from pyspark.sql import SparkSession"
   ]
  },
  {
   "cell_type": "code",
   "execution_count": 21,
   "metadata": {},
   "outputs": [],
   "source": [
    "def split_words(line):\n",
    "  return line.split()\n",
    "\n",
    "def create_pair(word):\n",
    "  return (word, 1) \n",
    "  \n",
    "def sun_counts(a, b):\n",
    "  return a + b"
   ]
  },
  {
   "cell_type": "code",
   "execution_count": 22,
   "metadata": {},
   "outputs": [],
   "source": [
    "spark = SparkSession.builder.appName(\"wordCount\").getOrCreate()\n",
    "sc = spark.sparkContext"
   ]
  },
  {
   "cell_type": "code",
   "execution_count": 23,
   "metadata": {},
   "outputs": [],
   "source": [
    "text_RDD = sc.textFile(\"/home/labuser/wordcount_spark/testfile\")\n",
    "pairs_RDD = text_RDD.flatMap(split_words).map(create_pair)\n",
    "wordcounts_RDD = pairs_RDD.reduceByKey(sun_counts, numPartitions = 1)"
   ]
  },
  {
   "cell_type": "code",
   "execution_count": 24,
   "metadata": {},
   "outputs": [],
   "source": [
    "wordcounts_RDD.saveAsTextFile(\"/home/labuser/wordcount_spark/output\");"
   ]
  },
  {
   "cell_type": "code",
   "execution_count": 25,
   "metadata": {},
   "outputs": [
    {
     "name": "stdout",
     "output_type": "stream",
     "text": [
      "('ago,', 1)\n",
      "('far', 2)\n",
      "('in', 1)\n",
      "('long', 3)\n",
      "('a', 1)\n",
      "('galaxy', 1)\n",
      "('away...', 1)\n",
      "('A', 1)\n",
      "('time', 1)\n",
      "\n"
     ]
    }
   ],
   "source": [
    "f = open(\"/home/labuser/wordcount_spark/output/part-00000\")\n",
    "s = f.read()\n",
    "print(s)"
   ]
  },
  {
   "cell_type": "code",
   "execution_count": null,
   "metadata": {},
   "outputs": [],
   "source": []
  }
 ],
 "metadata": {
  "kernelspec": {
   "display_name": "Python 3 Spark - local",
   "language": "python",
   "name": "spark-3-python"
  }
 },
 "nbformat": 4,
 "nbformat_minor": 2
}

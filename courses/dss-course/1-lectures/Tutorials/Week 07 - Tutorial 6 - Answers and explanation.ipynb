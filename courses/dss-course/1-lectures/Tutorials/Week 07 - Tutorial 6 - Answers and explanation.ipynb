{
 "cells": [
  {
   "cell_type": "markdown",
   "metadata": {},
   "source": [
    "# Preperation\n",
    "\n",
    "## Download the data:\n",
    "\n",
    "See tutorial for the defails:\n",
    "\n",
    "```\n",
    "$ mkdir /home/labuser/epidemiology && cd \"$_\" # mkdir and cd\n",
    "$ wget https://transfer.sh/zGqkG/CHD.zip\n",
    "$ wget https://transfer.sh/10rhH9/MENO.zip\n",
    "$ wget https://transfer.sh/fiFTX/T2D.zip\n",
    "```\n",
    "\n",
    "## Get Checksum Files\n",
    "\n",
    "```\n",
    "$ wget https://raw.githubusercontent.com/Infomdss2018/infomdss/master/tutorial_6/check_sum_files/CHD.zip.sha1  \n",
    "$ wget https://raw.githubusercontent.com/Infomdss2018/infomdss/master/tutorial_6/check_sum_files/MENO.zip.sha1 \n",
    "$ wget https://raw.githubusercontent.com/Infomdss2018/infomdss/master/tutorial_6/check_sum_files/T2D.zip.sha1 \n",
    "```\n",
    "\n",
    "## Execute Checksum\n",
    "\n",
    "```\n",
    "$ sha1sum -c CHD.zip.sha1\n",
    "$ sha1sum -c MENO.zip.sha1\n",
    "$ sha1sum -c T2D.zip.sha1\n",
    "```\n",
    "\n",
    "## Unzip Epidemiology Data\n",
    "\n",
    "```\n",
    "$ unzip CHD.zip -d data/\n",
    "$ unzip MENO.zip -d data/\n",
    "$ unzip T2D.zip -d data/\n",
    "```\n",
    "\n",
    "## Give Permissions\n",
    "\n",
    "```\n",
    "$ chmod 777 data/*\n",
    "```\n",
    "\n",
    "## Step 6: Open Notebook\n",
    "\n",
    "```\n",
    "https://vmlabaXXX.westeurope.cloudapp.azure.com:8000 (replace XXX with the number of your VM)\n",
    "```"
   ]
  },
  {
   "cell_type": "markdown",
   "metadata": {},
   "source": [
    "# Assignments "
   ]
  },
  {
   "cell_type": "markdown",
   "metadata": {},
   "source": [
    "## 1. Load the three datasets within your Spark environment."
   ]
  },
  {
   "cell_type": "code",
   "execution_count": 1,
   "metadata": {},
   "outputs": [],
   "source": [
    "from pyspark.sql import SparkSession\n",
    "\n",
    "spark = SparkSession.builder.appName(\"epidemiology\").getOrCreate()\n",
    "sc = spark.sparkContext\n",
    "\n",
    "chd_path = \"/home/labuser/epidemiology/data/CHD_coronary_heart_disease_SAMPLE.csv\"\n",
    "men_path = \"/home/labuser/epidemiology/data/MENO_Menopause_HapMap2_DayNG2015_18112015_SAMPLE.csv\"\n",
    "t2d_path = \"/home/labuser/epidemiology/data/T2D_diabetes_type_two_SAMPLE.csv\"\n",
    "\n",
    "# Note that only the SAMPLE data is used, if you want to test the real data you can uncommend the following lines\n",
    "#chd_path = \"/home/labuser/epidemiology/data/CHD_coronary_heart_disease.csv\"\n",
    "#men_path = \"/home/labuser/epidemiology/data/MENO_Menopause_HapMap2_DayNG2015_18112015.csv\"\n",
    "#t2d_path = \"/home/labuser/epidemiology/data/T2D_diabetes_type_two.csv\"\n",
    "\n",
    "# We need this path in question 2\n",
    "epi_path = \"/home/labuser/epidemiology/data/epi_tutorial_7.csv\"\n",
    "\n",
    "chd_RDD = sc.textFile(chd_path)\n",
    "men_RDD = sc.textFile(men_path)\n",
    "t2d_RDD = sc.textFile(t2d_path)"
   ]
  },
  {
   "cell_type": "markdown",
   "metadata": {},
   "source": [
    "Note that a good way of manipulating data is by using data frames, which can be created from your RDD data, for example we can create a dataframe, meno_df, from meno_RDD:"
   ]
  },
  {
   "cell_type": "code",
   "execution_count": 2,
   "metadata": {},
   "outputs": [],
   "source": [
    "header = chd_RDD.first()\n",
    "\n",
    "# split data set\n",
    "temp_var = chd_RDD.filter(lambda line: line != header).map(lambda k: k.split(\";\"))\n",
    "chd_df = temp_var.toDF(header.split(\";\"))"
   ]
  },
  {
   "cell_type": "markdown",
   "metadata": {},
   "source": [
    "Now we have a dataframe, we can for example show the first twenty rows:"
   ]
  },
  {
   "cell_type": "code",
   "execution_count": 3,
   "metadata": {
    "scrolled": true
   },
   "outputs": [
    {
     "name": "stdout",
     "output_type": "stream",
     "text": [
      "+----------------+---+---------+-------------+----------------+------------------+-----------+-----+--------+--------+--------+----------+---------+\n",
      "|      markername|chr|  bp_hg19|effect_allele|noneffect_allele|effect_allele_freq|median_info|model|    beta|  se_dgc|   p_dgc|het_pvalue|n_studies|\n",
      "+----------------+---+---------+-------------+----------------+------------------+-----------+-----+--------+--------+--------+----------+---------+\n",
      "|       rs7540212|  1|157259747|            G|               T|           .675984|        993|FIXED| .010379|.0101002| .304137|   .852783|       48|\n",
      "|      rs35174775|  6| 24847434|            G|               A|           .685355|    .981575|FIXED|-.003668|.0102143|.7195163|    .85337|       47|\n",
      "|      rs17717184| 16| 77829273|            C|               T|           .836133|        971|FIXED|-.008041|.0127475|.5281767|   .375501|       46|\n",
      "|       rs6896654|  5| 78024784|            T|               A|           .785148|     .60226|FIXED| .020604|.0163985|.2089493|    .93901|       37|\n",
      "|      rs10514937| 17| 46322298|            G|               A|           .987164|        718|FIXED|-.055547|.0521946|.2872248|   .215135|       41|\n",
      "|      rs56336286|  2| 20835450|            A|               G|           .799745|     .98173|FIXED|-.012964|.0118339|.2732995|   .959998|       47|\n",
      "|      rs72633026|  8| 39958554|            C|               G|           .963277|     .98391|FIXED| .021478|.0262738|.4136609|   .735646|       45|\n",
      "|      rs11937467|  4| 35492268|            C|               G|           .832058|     .99786|FIXED|-.002148|.0123238|.8616324|   .984634|       48|\n",
      "|       rs4542601| 15| 58565099|            T|               C|           .496025|        .97|FIXED|-.015124|.0092985| .103845|   .557601|       48|\n",
      "|chr5:161737169:D|  5|161737169|            D|               I|           .590875|     .91517|FIXED| .024215| .009947|.0149169|    .79342|       47|\n",
      "|       rs2964449|  5|  5414800|            T|               G|           .604048|     .99742|FIXED|-.014085|.0094322|.1353596|   .484547|       48|\n",
      "|      rs58541550|  2| 25839551|            C|               T|           .837458|     .99407|FIXED|  .00508|.0126866|.6888463|   .460232|       48|\n",
      "|      rs13360903|  5|141821413|            G|               A|           .618473|     .99618|FIXED|  .00582|.0095375|.5417151|   .813124|       47|\n",
      "|       rs6562633| 13| 71071896|            A|               G|           .778649|    .994095|FIXED|-.001171|.0115808|.9194587|   .328035|       47|\n",
      "|      rs60116510| 19| 43447347|            C|               T|           .855267|        953|FIXED| .031161|.0147223|.0342954|   .113555|       44|\n",
      "|      rs78768893|  4|170804226|            C|               T|           .949142|     .98224|FIXED|  .02727|.0219385|.2138598|   .694209|       45|\n",
      "|      rs13264028|  8| 54859940|            T|               C|           .774645|     .89181|FIXED|-.008844|.0118437|.4552285|   .023507|       47|\n",
      "|      rs62481284|  7|155612556|            G|               A|           .673493|     .90879|FIXED| .003688|.0105402|.7264138|   .733154|       46|\n",
      "|      rs61052895|  3| 10147516|            G|               A|           .826415|        994|FIXED| -.00611|.0121022|.6136531|   .088752|       48|\n",
      "|      rs61052895|  3| 10147516|            G|               A|           .826415|           |FIXED| -.00611|.0121022|.6136531|   .088752|       48|\n",
      "+----------------+---+---------+-------------+----------------+------------------+-----------+-----+--------+--------+--------+----------+---------+\n",
      "only showing top 20 rows\n",
      "\n"
     ]
    }
   ],
   "source": [
    "chd_df.show()"
   ]
  },
  {
   "cell_type": "markdown",
   "metadata": {},
   "source": [
    "Or we can look-up the types of data in every column:"
   ]
  },
  {
   "cell_type": "code",
   "execution_count": 4,
   "metadata": {
    "scrolled": true
   },
   "outputs": [
    {
     "data": {
      "text/plain": [
       "StructType(List(StructField(markername,StringType,true),StructField(chr,StringType,true),StructField(bp_hg19,StringType,true),StructField(effect_allele,StringType,true),StructField(noneffect_allele,StringType,true),StructField(effect_allele_freq,StringType,true),StructField(median_info,StringType,true),StructField(model,StringType,true),StructField(beta,StringType,true),StructField(se_dgc,StringType,true),StructField(p_dgc,StringType,true),StructField(het_pvalue,StringType,true),StructField(n_studies,StringType,true)))"
      ]
     },
     "execution_count": 4,
     "metadata": {},
     "output_type": "execute_result"
    }
   ],
   "source": [
    "chd_df.schema"
   ]
  },
  {
   "cell_type": "markdown",
   "metadata": {},
   "source": [
    "Or we can show all column names:"
   ]
  },
  {
   "cell_type": "code",
   "execution_count": 5,
   "metadata": {
    "scrolled": true
   },
   "outputs": [
    {
     "data": {
      "text/plain": [
       "['markername',\n",
       " 'chr',\n",
       " 'bp_hg19',\n",
       " 'effect_allele',\n",
       " 'noneffect_allele',\n",
       " 'effect_allele_freq',\n",
       " 'median_info',\n",
       " 'model',\n",
       " 'beta',\n",
       " 'se_dgc',\n",
       " 'p_dgc',\n",
       " 'het_pvalue',\n",
       " 'n_studies']"
      ]
     },
     "execution_count": 5,
     "metadata": {},
     "output_type": "execute_result"
    }
   ],
   "source": [
    "chd_df.columns"
   ]
  },
  {
   "cell_type": "markdown",
   "metadata": {},
   "source": [
    "Or we can create a new matrices with a selection of available columns:"
   ]
  },
  {
   "cell_type": "code",
   "execution_count": 6,
   "metadata": {
    "scrolled": true
   },
   "outputs": [
    {
     "name": "stdout",
     "output_type": "stream",
     "text": [
      "+----------------+---+---------+\n",
      "|      markername|chr|  bp_hg19|\n",
      "+----------------+---+---------+\n",
      "|       rs7540212|  1|157259747|\n",
      "|      rs35174775|  6| 24847434|\n",
      "|      rs17717184| 16| 77829273|\n",
      "|       rs6896654|  5| 78024784|\n",
      "|      rs10514937| 17| 46322298|\n",
      "|      rs56336286|  2| 20835450|\n",
      "|      rs72633026|  8| 39958554|\n",
      "|      rs11937467|  4| 35492268|\n",
      "|       rs4542601| 15| 58565099|\n",
      "|chr5:161737169:D|  5|161737169|\n",
      "|       rs2964449|  5|  5414800|\n",
      "|      rs58541550|  2| 25839551|\n",
      "|      rs13360903|  5|141821413|\n",
      "|       rs6562633| 13| 71071896|\n",
      "|      rs60116510| 19| 43447347|\n",
      "|      rs78768893|  4|170804226|\n",
      "|      rs13264028|  8| 54859940|\n",
      "|      rs62481284|  7|155612556|\n",
      "|      rs61052895|  3| 10147516|\n",
      "|      rs61052895|  3| 10147516|\n",
      "+----------------+---+---------+\n",
      "only showing top 20 rows\n",
      "\n"
     ]
    }
   ],
   "source": [
    "chd_df.select([\"markername\", \"chr\", \"bp_hg19\"]).show()"
   ]
  },
  {
   "cell_type": "markdown",
   "metadata": {},
   "source": [
    "### Answer to question 1\n",
    "\n",
    "A fast way of opening a file, spliting the data on a specified deliminator and creating a dataframe with an automated way to infer the schema is shown below:"
   ]
  },
  {
   "cell_type": "code",
   "execution_count": 7,
   "metadata": {
    "scrolled": true
   },
   "outputs": [
    {
     "name": "stdout",
     "output_type": "stream",
     "text": [
      "+----------------+---+---------+-------------+----------------+------------------+-----------+-----+---------+---------+---------+----------+---------+\n",
      "|      markername|chr|  bp_hg19|effect_allele|noneffect_allele|effect_allele_freq|median_info|model|     beta|   se_dgc|    p_dgc|het_pvalue|n_studies|\n",
      "+----------------+---+---------+-------------+----------------+------------------+-----------+-----+---------+---------+---------+----------+---------+\n",
      "|       rs7540212|  1|157259747|            G|               T|          0.675984|      993.0|FIXED| 0.010379|0.0101002| 0.304137|  0.852783|       48|\n",
      "|      rs35174775|  6| 24847434|            G|               A|          0.685355|   0.981575|FIXED|-0.003668|0.0102143|0.7195163|   0.85337|       47|\n",
      "|      rs17717184| 16| 77829273|            C|               T|          0.836133|      971.0|FIXED|-0.008041|0.0127475|0.5281767|  0.375501|       46|\n",
      "|       rs6896654|  5| 78024784|            T|               A|          0.785148|    0.60226|FIXED| 0.020604|0.0163985|0.2089493|   0.93901|       37|\n",
      "|      rs10514937| 17| 46322298|            G|               A|          0.987164|      718.0|FIXED|-0.055547|0.0521946|0.2872248|  0.215135|       41|\n",
      "|      rs56336286|  2| 20835450|            A|               G|          0.799745|    0.98173|FIXED|-0.012964|0.0118339|0.2732995|  0.959998|       47|\n",
      "|      rs72633026|  8| 39958554|            C|               G|          0.963277|    0.98391|FIXED| 0.021478|0.0262738|0.4136609|  0.735646|       45|\n",
      "|      rs11937467|  4| 35492268|            C|               G|          0.832058|    0.99786|FIXED|-0.002148|0.0123238|0.8616324|  0.984634|       48|\n",
      "|       rs4542601| 15| 58565099|            T|               C|          0.496025|       0.97|FIXED|-0.015124|0.0092985| 0.103845|  0.557601|       48|\n",
      "|chr5:161737169:D|  5|161737169|            D|               I|          0.590875|    0.91517|FIXED| 0.024215| 0.009947|0.0149169|   0.79342|       47|\n",
      "|       rs2964449|  5|  5414800|            T|               G|          0.604048|    0.99742|FIXED|-0.014085|0.0094322|0.1353596|  0.484547|       48|\n",
      "|      rs58541550|  2| 25839551|            C|               T|          0.837458|    0.99407|FIXED|  0.00508|0.0126866|0.6888463|  0.460232|       48|\n",
      "|      rs13360903|  5|141821413|            G|               A|          0.618473|    0.99618|FIXED|  0.00582|0.0095375|0.5417151|  0.813124|       47|\n",
      "|       rs6562633| 13| 71071896|            A|               G|          0.778649|   0.994095|FIXED|-0.001171|0.0115808|0.9194587|  0.328035|       47|\n",
      "|      rs60116510| 19| 43447347|            C|               T|          0.855267|      953.0|FIXED| 0.031161|0.0147223|0.0342954|  0.113555|       44|\n",
      "|      rs78768893|  4|170804226|            C|               T|          0.949142|    0.98224|FIXED|  0.02727|0.0219385|0.2138598|  0.694209|       45|\n",
      "|      rs13264028|  8| 54859940|            T|               C|          0.774645|    0.89181|FIXED|-0.008844|0.0118437|0.4552285|  0.023507|       47|\n",
      "|      rs62481284|  7|155612556|            G|               A|          0.673493|    0.90879|FIXED| 0.003688|0.0105402|0.7264138|  0.733154|       46|\n",
      "|      rs61052895|  3| 10147516|            G|               A|          0.826415|      994.0|FIXED| -0.00611|0.0121022|0.6136531|  0.088752|       48|\n",
      "|      rs61052895|  3| 10147516|            G|               A|          0.826415|       null|FIXED| -0.00611|0.0121022|0.6136531|  0.088752|       48|\n",
      "+----------------+---+---------+-------------+----------------+------------------+-----------+-----+---------+---------+---------+----------+---------+\n",
      "only showing top 20 rows\n",
      "\n",
      "+----------+-------+-------+----------+------+------+-----+\n",
      "|MarkerName|allele1|allele2|HapMap_eaf|effect|stderr|    p|\n",
      "+----------+-------+-------+----------+------+------+-----+\n",
      "|  rs362369|      t|      c|      0.07| -0.04|  0.04|  0.2|\n",
      "| rs4757795|      a|      t|      0.73|  0.01|  0.02| 0.81|\n",
      "|  rs184738|      a|      g|       0.7|  0.02|  0.02| 0.28|\n",
      "| rs2927772|      t|      c|      0.41|  0.04|  0.02|0.048|\n",
      "| rs2271827|      c|      g|      0.55|   0.0|  0.02| 0.98|\n",
      "|rs10159557|      a|      t|      0.13|  0.01|  0.03| 0.78|\n",
      "|  rs614621|      t|      g|      0.28|  0.01|  0.02| 0.58|\n",
      "| rs8052076|      t|      c|      0.44|  -0.0|  0.02| 0.99|\n",
      "| rs6729599|      t|      g|      0.97| -0.11|  0.09| 0.18|\n",
      "|rs13097914|      t|      c|      0.59| -0.01|  0.02| 0.67|\n",
      "| rs7038053|      t|      c|      0.98|  0.03|  0.05| 0.49|\n",
      "| rs3780403|      t|      c|      0.88| -0.01|  0.04| 0.86|\n",
      "|rs10490471|      c|      g|      0.47| -0.02|  0.02|  0.4|\n",
      "|rs12082727|      t|      c|      0.31|   0.0|  0.02| 0.98|\n",
      "|rs11216648|      a|      g|      0.63|  0.02|  0.02| 0.35|\n",
      "| rs7543572|      t|      c|      0.36| -0.01|  0.02| 0.56|\n",
      "|rs16828387|      a|      g|      0.03| -0.02|  0.07| 0.77|\n",
      "| rs6857239|      c|      g|      0.98| -0.01|  0.08| 0.91|\n",
      "| rs1545367|      a|      t|      0.73| -0.02|  0.02| 0.28|\n",
      "|rs10744435|      t|      c|      0.37| -0.01|  0.03|  0.8|\n",
      "+----------+-------+-------+----------+------+------+-----+\n",
      "only showing top 20 rows\n",
      "\n",
      "+------------+-------+-------+-------+------+-------+---------------+\n",
      "|Chr:Position|Allele1|Allele2| Effect|StdErr|P-value|TotalSampleSize|\n",
      "+------------+-------+-------+-------+------+-------+---------------+\n",
      "|  4:39736786|      T|      G|   15.0|  18.0|    0.4|         158185|\n",
      "| 18:12678965|      A|      C|   0.12|  0.12|   0.32|         132550|\n",
      "|11:126622395|      A|      G|  -46.0|  0.17|   0.78|         132009|\n",
      "| 2:159291605|      T|      C|   0.03|  0.02|   0.14|         158186|\n",
      "| 2:184205319|      T|      C|  -32.0|  24.0|   0.18|         158186|\n",
      "| 1:194878006|      T|      C| 0.0024|  22.0|   0.91|         152597|\n",
      "| 19:20734439|      A|      G|  -64.0|  48.0|   0.18|         152313|\n",
      "| 1:172408926|      T|      C|  -58.0|  26.0|   0.03|         158184|\n",
      "| 1:199592188|      A|      G| 0.0087|  13.0|   0.49|         158184|\n",
      "| 1:201963011|      T|      G|  -24.0|  39.0|   0.54|         152597|\n",
      "| 3:154440137|      T|      C|  -11.0|  0.19|   0.95|          35454|\n",
      "|  9:13333032|      A|      C|   21.0|  21.0|   0.33|         158183|\n",
      "|  8:96775508|      A|      G|-0.0087|  14.0|   0.53|         158185|\n",
      "| 4:157557584|      T|      C|  -25.0|  34.0|   0.46|         158185|\n",
      "| 8:127322960|      A|      G|  -0.14|  0.15|   0.34|         114068|\n",
      "|  1:62447179|      A|      T|   74.0|  0.14|    0.6|         132241|\n",
      "| 16:19492898|      A|      C|   null|  15.0|   0.46|         158182|\n",
      "| 16:77761366|      A|      G| 0.0071|  14.0|   0.62|         158182|\n",
      "|  8:73637325|      A|      T|   0.19|  0.18|   0.29|         123908|\n",
      "| 2:127941324|      T|      C|-0.0087|  12.0|   0.48|         158186|\n",
      "+------------+-------+-------+-------+------+-------+---------------+\n",
      "only showing top 20 rows\n",
      "\n"
     ]
    }
   ],
   "source": [
    "# Create dataframe with schema inference\n",
    "chd_df = spark.read.option(\"delimiter\",\";\").csv(chd_path, inferSchema=True, header=True)\n",
    "men_df = spark.read.option(\"delimiter\",\";\").csv(men_path, inferSchema=True, header=True)\n",
    "t2d_df = spark.read.option(\"delimiter\",\";\").csv(t2d_path, inferSchema=True, header=True)\n",
    "\n",
    "# Show all dataframes to check if all went well:\n",
    "chd_df.show()\n",
    "men_df.show()\n",
    "t2d_df.show()"
   ]
  },
  {
   "cell_type": "markdown",
   "metadata": {},
   "source": [
    "## 2. Merge the datasets on markername, into one integrated raw data file titled ```epi.csv```, hereafter: “data file”.\n",
    "\n",
    "*Tip: You will notice that the diabetes set does not have markername. However, it has a column named chr:Position. This is a combined column, which is the same as the combination of two columns in the CAD file (chr and bp_hg19).*\n",
    "\n",
    "1. First we can create new column in the CHD data frame, this new column is created by merging the values from the ```chr``` and ```bp_hg19``` column. We call this new column ```Chr:Position``` (so we can join it with the ```Chr:Position``` column from T2D)\n",
    "\n",
    "\n",
    "2. We can join CHD and MENO with respect to column markername, since we only need the overlapping makers, we use an inner join. \n",
    "\n",
    "\n",
    "3. Lastly we can inner-join T2D with the CHD-MENO-join from step 2.\n",
    "\n",
    "\n",
    "### Resources\n",
    "\n",
    "This image explains the different joins:\n",
    "\n",
    "<img src=\"https://i.stack.imgur.com/rOeAz.jpg\" width=\"500px\">\n",
    "\n",
    "\n",
    "More on joins and other examples:\n",
    "\n",
    "http://spark.apache.org/docs/2.2.0/api/python/pyspark.sql.html#pyspark.sql.DataFrame.join"
   ]
  },
  {
   "cell_type": "code",
   "execution_count": 8,
   "metadata": {
    "scrolled": true
   },
   "outputs": [
    {
     "name": "stdout",
     "output_type": "stream",
     "text": [
      "+------------+----------+---+---------+-------------+----------------+------------------+-----------+-----+---------+---------+---------+----------+---------+-------+-------+----------+------+------+----+-------+-------+-------+------+-------+---------------+\n",
      "|Chr:Position|markername|chr|  bp_hg19|effect_allele|noneffect_allele|effect_allele_freq|median_info|model|     beta|   se_dgc|    p_dgc|het_pvalue|n_studies|allele1|allele2|HapMap_eaf|effect|stderr|   p|Allele1|Allele2| Effect|StdErr|P-value|TotalSampleSize|\n",
      "+------------+----------+---+---------+-------------+----------------+------------------+-----------+-----+---------+---------+---------+----------+---------+-------+-------+----------+------+------+----+-------+-------+-------+------+-------+---------------+\n",
      "| 16:75152974| rs1579333| 16| 75152974|            C|               T|          0.679763|      984.0|FIXED|-0.002167| 0.010425| 0.835334|  0.300132|       46|      t|      c|      0.26|  0.04|  null|0.05|      T|      C|   28.0|  13.0|   35.0|         158182|\n",
      "| 12:68619797| rs3814241| 12| 68619797|            G|               T|          0.861495|    0.99985|FIXED| 0.011614|0.0133265|0.3834816|  0.778239|       48|      t|      g|      0.08| -0.01|  0.04|0.84|      T|      G|   26.0|  22.0|   0.22|         152596|\n",
      "| 1:211521467| rs4951521|  1|211521467|            T|               C|          0.920779|    0.99987|FIXED| 0.003985|0.0207772|0.8479017|  0.485514|       47|      t|      c|      0.97| -0.01|  0.06|0.87|      T|      C|   35.0|  34.0|   0.29|         152597|\n",
      "| 6:170620572| rs2024694|  6|170620572|            C|               T|           0.93129|        1.0|FIXED|   1.5E-5|0.0187796|0.9993627|  0.775704|       47|      t|      c|      0.08| -0.04|  0.05|0.37|      T|      C|   36.0|  25.0|   0.15|         156109|\n",
      "| 8:137870921|rs10110110|  8|137870921|            A|               T|           0.97138|      985.0|FIXED|  0.03944|0.0265671| 0.137665|  0.919548|       48|      a|      t|      0.98|  0.03|   0.1|0.75|      A|      T|  -24.0|  48.0|   0.62|         158185|\n",
      "| 3:143536512| rs6773298|  3|143536512|            A|               G|          0.745194|      997.0|FIXED|-0.005054|0.0104489|0.6286081|  0.767659|       48|      a|      g|      0.74|  0.06|  0.02|17.0|      A|      G|   19.0|  14.0|   0.18|         158185|\n",
      "|  5:55853878|  rs462520|  5| 55853878|            A|               G|          0.564252|        1.0|FIXED|  3.14E-4|0.0093876|0.9733171|  0.132659|       48|      a|      g|      0.56| -0.01|  0.02|0.51|   null|      G|  -26.0|  13.0|   41.0|         152599|\n",
      "| 16:75152974| rs1579333| 16| 75152974|            C|               T|          0.679763|      984.0|FIXED|-0.002167| 0.010425| 0.835334|  0.300132|       46|      t|      c|      0.26|  0.04|  null|0.05|      T|      C|   28.0|  13.0|   35.0|         158182|\n",
      "| 9:108293284| rs7856617|  9|108293284|            T|               C|          0.875653|    0.99912|FIXED|-0.007186|0.0138881|0.6048611|  0.669389|       48|      t|      c|      0.89| -0.02|  0.04|0.54|      T|      C| 0.0059|  22.0|   0.79|         152596|\n",
      "|  2:13193545|rs13406567|  2| 13193545|            C|               G|          0.907863|    0.99813|FIXED| 0.013463|0.0155066|0.3852794|  0.544068|       48|      c|      g|      0.93|  0.02|  0.04|0.62|      C|      G|  -21.0|  22.0|   0.36|         158186|\n",
      "| 1:210869187|rs12754784|  1|210869187|         null|               T|          0.915994|      938.0| null|-0.002358|0.0178921|0.8951503|  0.554852|       44|      t|      c|      0.09|  0.02|  0.04|0.64|      T|      C|   0.03|  22.0|   0.18|         158184|\n",
      "| 2:139098905| rs4280510|  2|139098905|            T|               A|          0.720745|   0.994245|FIXED| 0.014847|0.0106129|0.1618271|  0.400114|       47|      a|      t|      0.22|   0.0|  0.02| 0.9|      A|      T| 0.0017|  14.0|    0.9|         158186|\n",
      "| 4:144499286| rs6835662|  4|144499286|            A|               T|          0.458253|   0.986185|FIXED|-0.022583|0.0093626|0.0158637|  0.768027|       47|      a|   null|      0.35| -0.02|  0.02|0.47|      A|      T|-0.0017|  12.0|   0.89|         158185|\n",
      "| 4:144499286| rs6835662|  4|144499286|            A|               T|          0.458253|   0.986185|FIXED|-0.022583|0.0093626|0.0158637|  0.768027|       47|      a|      t|      0.35| -0.02|  0.02|0.47|      A|      T|-0.0017|  12.0|   0.89|         158185|\n",
      "| 4:144499286| rs6835662|  4|144499286|            A|               T|          0.458253|   0.986185|FIXED|-0.022583|0.0093626|0.0158637|  0.768027|       47|      a|      t|      0.35| -0.02|  0.02|0.47|      A|      T|-0.0017|  12.0|   0.89|         158185|\n",
      "| 21:43131861| rs9982491| 21| 43131861|            A|               G|          0.882493|       0.99|FIXED| -0.00605|0.0144301|0.6750247|  0.187259|       46|      a|      g|      0.96|  0.04|  0.04|0.28|      A|      G|   -5.0|  23.0|   0.82|         149852|\n",
      "| 21:34288495| rs2898190| 21| 34288495|            C|               A|           0.70077|     0.9976|FIXED| 0.013294|0.0100296|0.1850134|  0.753292|       48|      a|      c|      0.24|  0.05|  0.02|43.0|      A|      C|    2.0|  13.0|   0.88|         158185|\n",
      "| 15:96218026|rs11858005| 15| 96218026|            A|               G|          0.805693|    0.96041|FIXED| 0.023729|0.0123369|0.0544269|   0.53386|       48|      a|      g|      0.78| -0.01|  0.03|0.74|      A|      G|   13.0|  15.0|   0.38|         152598|\n",
      "|  3:94563433| rs7648152|  3| 94563433|            G|               C|          0.649842|      997.0|FIXED|-0.009815|0.0097743|0.3153011|   0.57069|       46|      c|      g|      0.37|  0.01|  0.02|0.72|      C|      G|-0.0048|  12.0|    0.7|         158185|\n",
      "| 21:20891961|  rs422621| 21| 20891961|            G|               A|           0.54681|        1.0|FIXED| 0.006676|0.0092703|0.4714329|  0.828117|       48|      a|      g|      0.45| -0.01|  0.02|0.54|      A|      G|-0.0072|  12.0|   0.56|         152598|\n",
      "+------------+----------+---+---------+-------------+----------------+------------------+-----------+-----+---------+---------+---------+----------+---------+-------+-------+----------+------+------+----+-------+-------+-------+------+-------+---------------+\n",
      "only showing top 20 rows\n",
      "\n"
     ]
    }
   ],
   "source": [
    "from pyspark.sql.functions import col\n",
    "\n",
    "def map_chr_bp_hg19(line):\n",
    "    chr_val = line[1]\n",
    "    bp_hg19_val = line[2]\n",
    "    return [str(chr_val) + ':' + str(bp_hg19_val)] + list(line)\n",
    "\n",
    "# (1) add an additional column to the CARDIO-dataframe, as explained in the TIP-section\n",
    "df_chd_header = chd_df.schema.names\n",
    "df_chd_chrpos = chd_df.rdd.map(map_chr_bp_hg19)\n",
    "df_chd_chrpos = df_chd_chrpos.toDF([\"Chr:Position\"] + df_chd_header)\n",
    "\n",
    "# (2) Join the CARDIO-dataframe and the MENOPAUSE-dataframe\n",
    "df_join_chd_men = df_chd_chrpos.join(men_df, 'markerName', 'inner').cache()\n",
    "\n",
    "# (3) Join the CARDIO-MENOPAUSE-dataframe and the DIABETES-dataframe\n",
    "df_join_chd_men_t2d = df_join_chd_men.join(t2d_df, 'Chr:Position', 'inner').cache()\n",
    "\n",
    "# show the result\n",
    "df_join_chd_men_t2d.show()"
   ]
  },
  {
   "cell_type": "markdown",
   "metadata": {},
   "source": [
    "## 3. Record how many SNPs (markers) in each dataset cannot be merged.\n",
    "\n",
    "The number of markers that is not merged is just the number of rows in every laoded data file minus the number of row in the joined dataframe.\n",
    "\n",
    "So we can easally calculate the the number of removed row by using the ```count``` expression. "
   ]
  },
  {
   "cell_type": "code",
   "execution_count": 9,
   "metadata": {
    "scrolled": true
   },
   "outputs": [
    {
     "name": "stdout",
     "output_type": "stream",
     "text": [
      "Numer of joined lines:          24\n",
      "Removed rows from cata:         81\n",
      "Removed rows from meno:         80\n",
      "Removed rows from meta:         79\n"
     ]
    }
   ],
   "source": [
    "# get the number of rows form the loaded data frames\n",
    "chd_count = df_chd_chrpos.count()\n",
    "men_count = men_df.count()\n",
    "t2d_count = t2d_df.count()\n",
    "\n",
    "# count the row in the joined data-frame\n",
    "chd_men_t2d_count = df_join_chd_men_t2d.count()\n",
    "\n",
    "# print the results\n",
    "print (\"Numer of joined lines:  {0: 10d}\".format(chd_men_t2d_count))\n",
    "print (\"Removed rows from cata: {0: 10d}\".format(chd_count - chd_men_t2d_count))\n",
    "print (\"Removed rows from meno: {0: 10d}\".format(men_count - chd_men_t2d_count))\n",
    "print (\"Removed rows from meta: {0: 10d}\".format(t2d_count - chd_men_t2d_count))"
   ]
  },
  {
   "cell_type": "markdown",
   "metadata": {},
   "source": [
    "## 4. Further sanitise the data file by removing any empty lines, unused columns. Identical rows and save the cleaned data-set.\n",
    "\n",
    "In this exampl e we only remove duplicated row and rows with an empty value, this can be done in one line (3), but we can also do this in seperate steps (1) and (2).\n",
    "\n",
    "Note that the sum of the removed duplicated and incompleate lines is not the same as the number of removed lines in the cleaned dataframe, how is this possible?"
   ]
  },
  {
   "cell_type": "code",
   "execution_count": 10,
   "metadata": {
    "scrolled": true
   },
   "outputs": [
    {
     "name": "stdout",
     "output_type": "stream",
     "text": [
      "Number of duplicate lines removed: 3\n",
      "Number of incomplete lines removed: 5\n",
      "Number of incomplete or duplicate lines removed: 7\n",
      "--- RESULTS ---\n",
      "Clean data-set length: 17\n",
      "+------------+----------+---+---------+-------------+----------------+------------------+-----------+-----+---------+---------+---------+----------+---------+-------+-------+----------+------+------+----+-------+-------+-------+------+-------+---------------+\n",
      "|Chr:Position|markername|chr|  bp_hg19|effect_allele|noneffect_allele|effect_allele_freq|median_info|model|     beta|   se_dgc|    p_dgc|het_pvalue|n_studies|allele1|allele2|HapMap_eaf|effect|stderr|   p|Allele1|Allele2| Effect|StdErr|P-value|TotalSampleSize|\n",
      "+------------+----------+---+---------+-------------+----------------+------------------+-----------+-----+---------+---------+---------+----------+---------+-------+-------+----------+------+------+----+-------+-------+-------+------+-------+---------------+\n",
      "|  2:13193545|rs13406567|  2| 13193545|            C|               G|          0.907863|    0.99813|FIXED| 0.013463|0.0155066|0.3852794|  0.544068|       48|      c|      g|      0.93|  0.02|  0.04|0.62|      C|      G|  -21.0|  22.0|   0.36|         158186|\n",
      "| 2:139098905| rs4280510|  2|139098905|            T|               A|          0.720745|   0.994245|FIXED| 0.014847|0.0106129|0.1618271|  0.400114|       47|      a|      t|      0.22|   0.0|  0.02| 0.9|      A|      T| 0.0017|  14.0|    0.9|         158186|\n",
      "| 15:96218026|rs11858005| 15| 96218026|            A|               G|          0.805693|    0.96041|FIXED| 0.023729|0.0123369|0.0544269|   0.53386|       48|      a|      g|      0.78| -0.01|  0.03|0.74|      A|      G|   13.0|  15.0|   0.38|         152598|\n",
      "| 21:20891961|  rs422621| 21| 20891961|            G|               A|           0.54681|        1.0|FIXED| 0.006676|0.0092703|0.4714329|  0.828117|       48|      a|      g|      0.45| -0.01|  0.02|0.54|      A|      G|-0.0072|  12.0|   0.56|         152598|\n",
      "|   7:5406479| rs4445136|  7|  5406479|            C|               T|          0.470347|   0.903585|FIXED|-0.006219| 0.010047|0.5359219|  0.096755|       43|      t|      c|      0.53|  0.08|  0.04|42.0|      T|      C| 0.0092|  13.0|   0.49|         149851|\n",
      "| 6:170620572| rs2024694|  6|170620572|            C|               T|           0.93129|        1.0|FIXED|   1.5E-5|0.0187796|0.9993627|  0.775704|       47|      t|      c|      0.08| -0.04|  0.05|0.37|      T|      C|   36.0|  25.0|   0.15|         156109|\n",
      "| 9:108293284| rs7856617|  9|108293284|            T|               C|          0.875653|    0.99912|FIXED|-0.007186|0.0138881|0.6048611|  0.669389|       48|      t|      c|      0.89| -0.02|  0.04|0.54|      T|      C| 0.0059|  22.0|   0.79|         152596|\n",
      "| 8:137870921|rs10110110|  8|137870921|            A|               T|           0.97138|      985.0|FIXED|  0.03944|0.0265671| 0.137665|  0.919548|       48|      a|      t|      0.98|  0.03|   0.1|0.75|      A|      T|  -24.0|  48.0|   0.62|         158185|\n",
      "|  3:16477573| rs4685339|  3| 16477573|            T|               A|          0.701102|     0.9105|FIXED|-0.004296|0.0111148|0.6991177|  0.867064|       47|      a|      t|      0.22| -0.01|  0.02|0.79|      A|      T| 0.0088|  14.0|   0.53|         152598|\n",
      "| 12:68619797| rs3814241| 12| 68619797|            G|               T|          0.861495|    0.99985|FIXED| 0.011614|0.0133265|0.3834816|  0.778239|       48|      t|      g|      0.08| -0.01|  0.04|0.84|      T|      G|   26.0|  22.0|   0.22|         152596|\n",
      "| 4:144499286| rs6835662|  4|144499286|            A|               T|          0.458253|   0.986185|FIXED|-0.022583|0.0093626|0.0158637|  0.768027|       47|      a|      t|      0.35| -0.02|  0.02|0.47|      A|      T|-0.0017|  12.0|   0.89|         158185|\n",
      "| 1:211521467| rs4951521|  1|211521467|            T|               C|          0.920779|    0.99987|FIXED| 0.003985|0.0207772|0.8479017|  0.485514|       47|      t|      c|      0.97| -0.01|  0.06|0.87|      T|      C|   35.0|  34.0|   0.29|         152597|\n",
      "| 21:37228466| rs2243466| 21| 37228466|            C|               T|          0.823882|        1.0|FIXED|  0.00118|0.0127757|0.9264098|  0.461709|       47|      t|      c|      0.13| -0.01|  0.03|0.66|      T|      C|-0.0016|  18.0|   0.93|         152598|\n",
      "| 3:143536512| rs6773298|  3|143536512|            A|               G|          0.745194|      997.0|FIXED|-0.005054|0.0104489|0.6286081|  0.767659|       48|      a|      g|      0.74|  0.06|  0.02|17.0|      A|      G|   19.0|  14.0|   0.18|         158185|\n",
      "| 21:43131861| rs9982491| 21| 43131861|            A|               G|          0.882493|       0.99|FIXED| -0.00605|0.0144301|0.6750247|  0.187259|       46|      a|      g|      0.96|  0.04|  0.04|0.28|      A|      G|   -5.0|  23.0|   0.82|         149852|\n",
      "|  3:94563433| rs7648152|  3| 94563433|            G|               C|          0.649842|      997.0|FIXED|-0.009815|0.0097743|0.3153011|   0.57069|       46|      c|      g|      0.37|  0.01|  0.02|0.72|      C|      G|-0.0048|  12.0|    0.7|         158185|\n",
      "| 21:34288495| rs2898190| 21| 34288495|            C|               A|           0.70077|     0.9976|FIXED| 0.013294|0.0100296|0.1850134|  0.753292|       48|      a|      c|      0.24|  0.05|  0.02|43.0|      A|      C|    2.0|  13.0|   0.88|         158185|\n",
      "+------------+----------+---+---------+-------------+----------------+------------------+-----------+-----+---------+---------+---------+----------+---------+-------+-------+----------+------+------+----+-------+-------+-------+------+-------+---------------+\n",
      "\n"
     ]
    }
   ],
   "source": [
    "def remove_incomplete_rows(line):\n",
    "    for word in line:\n",
    "        if word == \"\" or word == None:\n",
    "            return False\n",
    "    return True\n",
    "\n",
    "# (1) EXAMPLE: remove duplicated lines\n",
    "epi_unique_df = df_join_chd_men_t2d.dropDuplicates().cache()\n",
    "print (\"Number of duplicate lines removed: {0}\".format(chd_men_t2d_count - epi_unique_df.count()))\n",
    "\n",
    "# (2) EXAMPLE: remove incomplete lines\n",
    "epi_complete_df = df_join_chd_men_t2d.rdd.filter(remove_incomplete_rows).toDF()\n",
    "print (\"Number of incomplete lines removed: {0}\".format(chd_men_t2d_count - epi_complete_df.count()))\n",
    "\n",
    "# (3) remove incomplete and duplicated lines in one go\n",
    "df_clean_epi = df_join_chd_men_t2d.rdd.filter(remove_incomplete_rows).toDF().dropDuplicates().cache()\n",
    "print (\"Number of incomplete or duplicate lines removed: {0}\".format(chd_men_t2d_count - df_clean_epi.count()))\n",
    "\n",
    "# print the results\n",
    "print (\"--- RESULTS ---\")\n",
    "print (\"Clean data-set length: {0}\".format(df_clean_epi.count()))\n",
    "df_clean_epi.show()"
   ]
  },
  {
   "cell_type": "code",
   "execution_count": 11,
   "metadata": {},
   "outputs": [],
   "source": [
    "# map every row to a csv-like string\n",
    "def toCSVLine(data):\n",
    "    return ';'.join(str(d) for d in data)\n",
    "\n",
    "# save the datafile as a comma separated csv-file\n",
    "lines = df_clean_epi.rdd.map(toCSVLine)\n",
    "lines.saveAsTextFile(epi_path)"
   ]
  },
  {
   "cell_type": "code",
   "execution_count": null,
   "metadata": {},
   "outputs": [],
   "source": []
  }
 ],
 "metadata": {
  "kernelspec": {
   "display_name": "Python 3 Spark - local",
   "language": "python",
   "name": "spark-3-python"
  },
  "language_info": {
   "codemirror_mode": {
    "name": "ipython",
    "version": 3
   },
   "file_extension": ".py",
   "mimetype": "text/x-python",
   "name": "python",
   "nbconvert_exporter": "python",
   "pygments_lexer": "ipython3",
   "version": "3.5.5"
  }
 },
 "nbformat": 4,
 "nbformat_minor": 2
}

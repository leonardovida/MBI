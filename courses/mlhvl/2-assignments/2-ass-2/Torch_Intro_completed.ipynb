{
 "cells": [
  {
   "cell_type": "markdown",
   "metadata": {},
   "source": [
    "# 🔥 Torch Intro 🔥\n",
    "\n",
    "## What is PyTorch?\n",
    "PyTorch (or just torch) is a python deep learning library, fresh out of beta but already widely adopted both in research and industry. Like most deep learning libraries it employs GPU accelaration; unlike most deep learning libraries, it supports dynamic computational graphs and deep python integration, enabling easy experimentation and code inspection. It provides high-level abstractions but also allows for low-level access to its primitives. You can read more about PyTorch at the official [site](https://pytorch.org/).\n",
    "\n",
    "## Installing PyTorch on your machine\n",
    "Install PyTorch by following the guidelines here [here](https://pytorch.org/get-started/locally/).\n",
    "\n",
    "<div class=\"alert alert-block alert-info\">\n",
    "<b>Note:</b> If you have an nVidia GPU, installing a CUDA version of PyTorch will allow you to utilize it, significantly speeding up computation.\n",
    "</div>\n",
    "\n",
    "# This Tutorial\n",
    "This tutorial will take you through PyTorch's main functionalities. It only aims to give you some insight on how to use PyTorch and is by no means a full tutorial on neural networks. Prior knowledge of neural netowrks and their inner workings (i.e. linear algebra, gradient-based optimization, back-propagation etc) will certainly prove useful. You are assumed to know python fairly well.\n",
    "\n",
    "# Table of Contents\n",
    "1. [Tensors](#1)\n",
    "    1. [Tensor Types](#1a)\n",
    "    2. [Instantiating Tensors](#1b)\n",
    "    3. [Basic Tensor Operations](#1c)\n",
    "    4. [Exercises](#1d)\n",
    "2. [Automatic Differentation](#2)\n",
    "    1. [Autograd](#2a)\n",
    "    2. [Exercises](#2b)\n",
    "3. [Neural Networks](#3)\n",
    "    1. [Custom Neural Networks](#3a)\n",
    "    2. [Loss Functions](#3b)\n",
    "    3. [Optimizers](#3c)\n",
    "    4. [Exercises](#3d)\n",
    "4. [Putting Everything Together](#4)\n",
    "\n",
    "\n",
    "For a more in-depth overview of PyTorch's capabilities, refer to the [official documentation](https://pytorch.org/docs/stable/index.html) (this link will prove handy for your assignments-- keep it close and use it often).\n",
    "\n",
    "---"
   ]
  },
  {
   "cell_type": "markdown",
   "metadata": {},
   "source": [
    "#### Getting started\n",
    "Let's verify your torch installation is working by trying to import it."
   ]
  },
  {
   "cell_type": "code",
   "execution_count": 2,
   "metadata": {},
   "outputs": [],
   "source": [
    "import torch"
   ]
  },
  {
   "cell_type": "markdown",
   "metadata": {},
   "source": [
    "<a id='1'></a>\n",
    "## 1. Tensors\n",
    "\n",
    "A [Tensor](https://pytorch.org/docs/stable/tensors.html) is the building block of any PyTorch program; it is the abstraction that stores n-ary arrays of numbers (i.e. tensors) and provides various functionalities for processing them. \n",
    "\n",
    "<a id='1a'></a>\n",
    "### A. Tensor Types\n",
    "\n",
    "There are 16 types of Tensors, distinguished by their `dtypes` (the sort of numbers stored within them) and the `device` they can be accessed by (either GPU or CPU).\n",
    "\n",
    "The different Tensor types and their corresponding classes are shown below:\n",
    "\n",
    "|  | dtype | CPU Tensor Class | GPU Tensor Class |\n",
    "| --- | --- | --- | --- |\n",
    "| Full precision float | `torch.float32` | `torch.FloatTensor` | `torch.cuda.FloatTensor`| \n",
    "| Half precision float | `torch.float16` | `torch.HalfTensor` | `torch.cuda.HalfTensor` |\n",
    "| Double precision float | `torch.float64` | `torch.DoubleTensor` | `torch.cuda.DoubleTensor` |\n",
    "| 8-bit unsigned integer | `torch.uint8` | `torch.ByteTensor` | `torch.cuda.ByteTensor` |\n",
    "| 8-bit signed integer | `torch.int8` | `torch.CharTensor` | `torch.CharTensor` |\n",
    "| 16-bit signed integer | `torch.int16` | `torch.ShortTensor` | `torch.cuda.ShortTensor` |\n",
    "| 32-bit signed integer | `torch.int32` | `torch.IntTensor` | `torch.cuda.IntTensor` |\n",
    "| 64-bit signed integer | `torch.int64` | `torch.LongTensor` | `torch.cuda.LongTensor` |\n",
    "\n",
    "<div class=\"alert alert-block alert-warning\">\n",
    "<b>Warning:</b>\n",
    "Interaction between Tensors of different devices or dtypes is not permitted (so make sure you are consistent). \n",
    "</div>\n",
    "\n",
    "We are mostly interested in full precision floats and long integers (on either device), so we can forget about the rest of them for now."
   ]
  },
  {
   "cell_type": "markdown",
   "metadata": {},
   "source": [
    "<a id='1b'></a>\n",
    "### B. Instantiating Tensors\n",
    "Tensors can be instantiated in a number of ways. When we want to construct a placeholder tensor of fixed dimensionality, we may simply call the appropriate class constructor."
   ]
  },
  {
   "cell_type": "code",
   "execution_count": 3,
   "metadata": {},
   "outputs": [],
   "source": [
    "my_first_long_tensor = torch.LongTensor(5)  # a vector of 5 longs\n",
    "my_first_float_tensor = torch.FloatTensor(5,5)  # a 5 by 5 matrix of floats"
   ]
  },
  {
   "cell_type": "markdown",
   "metadata": {},
   "source": [
    "Alternatively, we may use the abstract constructor `torch.tensor` and use the `dtype` and `device` arguments to specify its type (these default to torch.float and cpu, in the general case)."
   ]
  },
  {
   "cell_type": "code",
   "execution_count": 4,
   "metadata": {},
   "outputs": [],
   "source": [
    "my_second_long_tensor = torch.tensor(5, device='cpu', dtype=torch.long) # another vector of 5 longs\n",
    "my_second_float_tensor = torch.tensor((5, 5), device='cpu', dtype=torch.float)"
   ]
  },
  {
   "cell_type": "markdown",
   "metadata": {},
   "source": [
    "For the sake of convenience, we will now specify the device used by the rest of the tutorial. If you have the cuda version installed but would rather not use it, change the snippet below."
   ]
  },
  {
   "cell_type": "code",
   "execution_count": 5,
   "metadata": {},
   "outputs": [
    {
     "name": "stdout",
     "output_type": "stream",
     "text": [
      "Using cpu\n"
     ]
    }
   ],
   "source": [
    "if torch.cuda.is_available():\n",
    "    device = 'cuda'\n",
    "else:\n",
    "    device = 'cpu'\n",
    "\n",
    "print('Using {}'.format(device))"
   ]
  },
  {
   "cell_type": "markdown",
   "metadata": {},
   "source": [
    "There are a few useful short-hands for constructing tensors with commonly used values. Let's use some of them."
   ]
  },
  {
   "cell_type": "code",
   "execution_count": 6,
   "metadata": {},
   "outputs": [],
   "source": [
    "a = torch.zeros((2,3,4), device=device)  # a 2 by 3 by 4 tensor of zeroes\n",
    "b = torch.ones(42, device=device)  # a vector of 42 ones\n",
    "c = torch.eye(3, device=device)  # the 3 by 3 identity matrix\n",
    "d = torch.rand((32,10,300), device=device)  # a 32 by 10 by 300 tensor of randoms\n",
    "e = torch.randint(low=0, high=10, size=(3,3), device=device)  # a 3 by 3 matrix of random integers between 0 and 10\n",
    "f = torch.arange(10, device=device)  # a vector containing the numbers 0 to 9 in ascending order"
   ]
  },
  {
   "cell_type": "markdown",
   "metadata": {},
   "source": [
    "We can always query a tensor's contents, shape, dtype and device."
   ]
  },
  {
   "cell_type": "code",
   "execution_count": 7,
   "metadata": {},
   "outputs": [
    {
     "name": "stdout",
     "output_type": "stream",
     "text": [
      "torch.Size([2, 3, 4])\n",
      "cpu\n",
      "\n",
      "\n",
      "torch.Size([42])\n",
      "cpu\n",
      "\n",
      "\n",
      "torch.Size([3, 3])\n",
      "cpu\n",
      "\n",
      "\n",
      "torch.Size([32, 10, 300])\n",
      "cpu\n",
      "\n",
      "\n",
      "torch.Size([3, 3])\n",
      "cpu\n",
      "\n",
      "\n",
      "torch.Size([10])\n",
      "cpu\n",
      "\n",
      "\n"
     ]
    }
   ],
   "source": [
    "for te in [a, b, c, d, e, f]:\n",
    "    print(te.shape)\n",
    "    print(te.device)\n",
    "    # print(te)\n",
    "    print('\\n')"
   ]
  },
  {
   "cell_type": "markdown",
   "metadata": {},
   "source": [
    "We can also specify the values of a tensor by passing a list (of lists*) of values during its construction."
   ]
  },
  {
   "cell_type": "code",
   "execution_count": 8,
   "metadata": {},
   "outputs": [
    {
     "name": "stdout",
     "output_type": "stream",
     "text": [
      "tensor([[1, 2, 3],\n",
      "        [4, 5, 6],\n",
      "        [7, 8, 9]])\n",
      "torch.Size([3, 3])\n",
      "torch.int64\n"
     ]
    }
   ],
   "source": [
    "a = torch.tensor([[1,2,3], [4,5,6], [7,8,9]], device=device)\n",
    "print(a)\n",
    "print(a.shape)\n",
    "print(a.dtype)"
   ]
  },
  {
   "cell_type": "markdown",
   "metadata": {},
   "source": [
    "Notice that PyTorch automatically assumed that the tensor we specified should be of type long (because we only provided integers as the tensor's contents). We could of course avoid this by manually specifying the dtype. Alternatively, we can alter the dtype and/or device post-construction."
   ]
  },
  {
   "cell_type": "code",
   "execution_count": 9,
   "metadata": {},
   "outputs": [
    {
     "name": "stdout",
     "output_type": "stream",
     "text": [
      "torch.float32\n",
      "cpu\n"
     ]
    }
   ],
   "source": [
    "a = a.to(torch.float)\n",
    "print(a.dtype)\n",
    "a = a.to('cpu')  # or alternatively, a = a.cpu()\n",
    "print(a.device)"
   ]
  },
  {
   "cell_type": "markdown",
   "metadata": {},
   "source": [
    "Finally, a torch tensor can also be directy constructed by (or converted to) a numpy array. Converting to a numpy array only works for _cpu_ tensors."
   ]
  },
  {
   "cell_type": "code",
   "execution_count": 10,
   "metadata": {},
   "outputs": [
    {
     "name": "stdout",
     "output_type": "stream",
     "text": [
      "[[0.95797216 0.10016785]\n",
      " [0.45653278 0.41237903]]\n",
      "tensor([[0.9580, 0.1002],\n",
      "        [0.4565, 0.4124]], dtype=torch.float64)\n",
      "[[0.95797216 0.10016785]\n",
      " [0.45653278 0.41237903]]\n"
     ]
    }
   ],
   "source": [
    "import numpy as np\n",
    "a_np = np.random.random((2,2))\n",
    "a_torch = torch.tensor(a_np, device=device)\n",
    "print(a_np)\n",
    "print(a_torch)\n",
    "a_np_2 = a_torch.cpu().numpy()\n",
    "print(a_np_2)"
   ]
  },
  {
   "cell_type": "code",
   "execution_count": 11,
   "metadata": {},
   "outputs": [],
   "source": [
    "del a_np, a_torch, a_np_2, b, c, d, my_first_long_tensor, my_first_float_tensor, my_second_long_tensor, my_second_float_tensor, e, f"
   ]
  },
  {
   "cell_type": "markdown",
   "metadata": {},
   "source": [
    "<a id='1c'></a>\n",
    "### C. Basic Tensor Operations\n",
    "Tensors and their contents' are not hidden by the framework-- they are immediatelly accessible to us and we can interact with them in many ways, while being able to inspect the results of our actions. Let's walk through some of the most common usecases."
   ]
  },
  {
   "cell_type": "markdown",
   "metadata": {},
   "source": [
    "#### Indexing and Slicing\n",
    "Standard python indexing and slicing applies to torch tensors. Let's remember how that works-- first we will need a random matrix to experiment with."
   ]
  },
  {
   "cell_type": "code",
   "execution_count": 12,
   "metadata": {},
   "outputs": [
    {
     "name": "stdout",
     "output_type": "stream",
     "text": [
      "tensor([[0.4299, 0.0695, 0.0720],\n",
      "        [0.6351, 0.2761, 0.0362],\n",
      "        [0.8184, 0.8180, 0.6501],\n",
      "        [0.1011, 0.6723, 0.3846],\n",
      "        [0.3719, 0.2781, 0.0093]])\n"
     ]
    }
   ],
   "source": [
    "a = torch.rand((5,3), device=device)  \n",
    "print(a)"
   ]
  },
  {
   "cell_type": "markdown",
   "metadata": {},
   "source": [
    "<div class=\"alert alert-block alert-warning\">\n",
    "<b>Remember!</b>\n",
    "Indexing starts from zero\n",
    "</div>\n",
    "\n",
    "Now let's try retrieving the 3rd item of the 1st row."
   ]
  },
  {
   "cell_type": "code",
   "execution_count": 13,
   "metadata": {},
   "outputs": [
    {
     "name": "stdout",
     "output_type": "stream",
     "text": [
      "tensor(0.0720)\n"
     ]
    }
   ],
   "source": [
    "b = a[0][2]\n",
    "print(b)"
   ]
  },
  {
   "cell_type": "markdown",
   "metadata": {},
   "source": [
    "What if we wanted the first three rows of the matrix instead?"
   ]
  },
  {
   "cell_type": "code",
   "execution_count": 14,
   "metadata": {},
   "outputs": [
    {
     "name": "stdout",
     "output_type": "stream",
     "text": [
      "tensor([[0.4299, 0.0695, 0.0720],\n",
      "        [0.6351, 0.2761, 0.0362],\n",
      "        [0.8184, 0.8180, 0.6501]])\n"
     ]
    }
   ],
   "source": [
    "c = a[:3]\n",
    "print(c)"
   ]
  },
  {
   "cell_type": "markdown",
   "metadata": {},
   "source": [
    "Or its third column?"
   ]
  },
  {
   "cell_type": "code",
   "execution_count": 15,
   "metadata": {},
   "outputs": [
    {
     "name": "stdout",
     "output_type": "stream",
     "text": [
      "tensor([0.0720, 0.0362, 0.6501, 0.3846, 0.0093])\n"
     ]
    }
   ],
   "source": [
    "c = a[:, 2]\n",
    "print(c)"
   ]
  },
  {
   "cell_type": "markdown",
   "metadata": {},
   "source": [
    "Or every second element of the first column, starting from the second?"
   ]
  },
  {
   "cell_type": "code",
   "execution_count": 16,
   "metadata": {},
   "outputs": [
    {
     "name": "stdout",
     "output_type": "stream",
     "text": [
      "tensor([0.6351, 0.1011])\n"
     ]
    }
   ],
   "source": [
    "c = a[1::2, 0]\n",
    "print(c)"
   ]
  },
  {
   "cell_type": "markdown",
   "metadata": {},
   "source": [
    "But now in reverse, starting from the last?!"
   ]
  },
  {
   "cell_type": "code",
   "execution_count": 17,
   "metadata": {},
   "outputs": [
    {
     "ename": "ValueError",
     "evalue": "negative step not yet supported",
     "output_type": "error",
     "traceback": [
      "\u001b[0;31m---------------------------------------------------------------------------\u001b[0m",
      "\u001b[0;31mValueError\u001b[0m                                Traceback (most recent call last)",
      "\u001b[0;32m<ipython-input-17-750cb89b0dfc>\u001b[0m in \u001b[0;36m<module>\u001b[0;34m\u001b[0m\n\u001b[0;32m----> 1\u001b[0;31m \u001b[0mc\u001b[0m \u001b[0;34m=\u001b[0m \u001b[0ma\u001b[0m\u001b[0;34m[\u001b[0m\u001b[0;34m-\u001b[0m\u001b[0;36m1\u001b[0m\u001b[0;34m:\u001b[0m\u001b[0;34m:\u001b[0m\u001b[0;34m-\u001b[0m\u001b[0;36m2\u001b[0m\u001b[0;34m,\u001b[0m \u001b[0;36m0\u001b[0m\u001b[0;34m]\u001b[0m\u001b[0;34m\u001b[0m\u001b[0;34m\u001b[0m\u001b[0m\n\u001b[0m\u001b[1;32m      2\u001b[0m \u001b[0mprint\u001b[0m\u001b[0;34m(\u001b[0m\u001b[0mc\u001b[0m\u001b[0;34m)\u001b[0m\u001b[0;34m\u001b[0m\u001b[0;34m\u001b[0m\u001b[0m\n",
      "\u001b[0;31mValueError\u001b[0m: negative step not yet supported"
     ]
    }
   ],
   "source": [
    "c = a[-1::-2, 0]\n",
    "print(c)"
   ]
  },
  {
   "cell_type": "markdown",
   "metadata": {},
   "source": [
    "Well, perhaps not.."
   ]
  },
  {
   "cell_type": "markdown",
   "metadata": {},
   "source": [
    "#### Value Assignment\n",
    "We can use the exact same scheme to assign values to tensors."
   ]
  },
  {
   "cell_type": "code",
   "execution_count": 18,
   "metadata": {},
   "outputs": [
    {
     "name": "stdout",
     "output_type": "stream",
     "text": [
      "tensor([[0.0000, 0.0695, 0.0720],\n",
      "        [0.6351, 0.2761, 0.0362],\n",
      "        [0.8184, 0.8180, 0.6501],\n",
      "        [0.1011, 0.6723, 0.3846],\n",
      "        [0.3719, 0.2781, 0.0093]])\n",
      "tensor([[0.6756, 0.1679, 0.8746],\n",
      "        [0.2637, 0.6208, 0.4391],\n",
      "        [0.9864, 0.5446, 0.7038],\n",
      "        [0.6319, 0.8373, 0.3445],\n",
      "        [0.2833, 0.7885, 0.7834]])\n",
      "tensor([[0.0000, 0.0695, 0.0720],\n",
      "        [0.9864, 0.5446, 0.7038],\n",
      "        [0.8184, 0.8180, 0.6501],\n",
      "        [0.1011, 0.6723, 0.3846],\n",
      "        [0.3719, 0.2781, 0.0093]])\n"
     ]
    }
   ],
   "source": [
    "# Set the top left item of the matrix to zero.\n",
    "a[0,0] = 0\n",
    "print(a)\n",
    "\n",
    "# Construct another random matrix of the same shape\n",
    "b = torch.rand_like(a, device=device)\n",
    "print(b)\n",
    "\n",
    "# Set the second row of matrix a to be the third row of matrix b\n",
    "a[1] = b[2]\n",
    "print(a)"
   ]
  },
  {
   "cell_type": "markdown",
   "metadata": {},
   "source": [
    "#### Element-wise Arithmetic\n",
    "Element-wise operations (most importantly comparison, addition, subtraction, multiplication and division) can be applied on tensors of compatible shapes (i.e. shapes that can be [broadcasted](https://pytorch.org/docs/stable/notes/broadcasting.html)). \n",
    "\n",
    "Two tensors are compatible if any of the two below conditions hold:\n",
    "* their shapes are the same \n",
    "* their trailing (i.e. last) N dimensions are the same (possibly excluding missing dimensions and dimensions of size 1)\n",
    "\n",
    "Scalars (single values) are compatible with tensors of any shape. Let's see some examples."
   ]
  },
  {
   "cell_type": "markdown",
   "metadata": {},
   "source": [
    "First, some fresh tensors."
   ]
  },
  {
   "cell_type": "code",
   "execution_count": 19,
   "metadata": {},
   "outputs": [],
   "source": [
    "a = torch.zeros((2, 3, 4), device=device)  \n",
    "b = torch.ones((2, 3, 4), device=device)  \n",
    "c = torch.ones((3, 4), device=device)  \n",
    "d = torch.ones((2, 3, 1), device=device)\n",
    "e = torch.rand((4, 3, 2), device=device)"
   ]
  },
  {
   "cell_type": "markdown",
   "metadata": {},
   "source": [
    "We can add a scalar to tensor a "
   ]
  },
  {
   "cell_type": "code",
   "execution_count": 20,
   "metadata": {},
   "outputs": [
    {
     "name": "stdout",
     "output_type": "stream",
     "text": [
      "tensor([[[0., 0., 0., 0.],\n",
      "         [0., 0., 0., 0.],\n",
      "         [0., 0., 0., 0.]],\n",
      "\n",
      "        [[0., 0., 0., 0.],\n",
      "         [0., 0., 0., 0.],\n",
      "         [0., 0., 0., 0.]]])\n",
      "torch.Size([2, 3, 4])\n"
     ]
    }
   ],
   "source": [
    "print(a)\n",
    "a = a + 0.3\n",
    "print(a.shape)"
   ]
  },
  {
   "cell_type": "markdown",
   "metadata": {},
   "source": [
    "We can subtract b from a  (matching shapes)"
   ]
  },
  {
   "cell_type": "code",
   "execution_count": 21,
   "metadata": {},
   "outputs": [
    {
     "name": "stdout",
     "output_type": "stream",
     "text": [
      "torch.Size([2, 3, 4])\n",
      "tensor([[[-0.7000, -0.7000, -0.7000, -0.7000],\n",
      "         [-0.7000, -0.7000, -0.7000, -0.7000],\n",
      "         [-0.7000, -0.7000, -0.7000, -0.7000]],\n",
      "\n",
      "        [[-0.7000, -0.7000, -0.7000, -0.7000],\n",
      "         [-0.7000, -0.7000, -0.7000, -0.7000],\n",
      "         [-0.7000, -0.7000, -0.7000, -0.7000]]])\n"
     ]
    }
   ],
   "source": [
    "f = a - b\n",
    "print(f.shape)\n",
    "print(f)"
   ]
  },
  {
   "cell_type": "markdown",
   "metadata": {},
   "source": [
    "We can elementwise multiply a with c  (dimensions of c are the same as last dimensions of a)"
   ]
  },
  {
   "cell_type": "code",
   "execution_count": 22,
   "metadata": {},
   "outputs": [
    {
     "name": "stdout",
     "output_type": "stream",
     "text": [
      "torch.Size([2, 3, 4])\n",
      "tensor([[[0.3000, 0.3000, 0.3000, 0.3000],\n",
      "         [0.3000, 0.3000, 0.3000, 0.3000],\n",
      "         [0.3000, 0.3000, 0.3000, 0.3000]],\n",
      "\n",
      "        [[0.3000, 0.3000, 0.3000, 0.3000],\n",
      "         [0.3000, 0.3000, 0.3000, 0.3000],\n",
      "         [0.3000, 0.3000, 0.3000, 0.3000]]])\n"
     ]
    }
   ],
   "source": [
    "g =  a * c\n",
    "print(g.shape)\n",
    "print(g)"
   ]
  },
  {
   "cell_type": "markdown",
   "metadata": {},
   "source": [
    "We can elementwise divide a by d  (last dimension is 1, the rest of the dimensions match)"
   ]
  },
  {
   "cell_type": "code",
   "execution_count": 23,
   "metadata": {},
   "outputs": [
    {
     "name": "stdout",
     "output_type": "stream",
     "text": [
      "torch.Size([2, 3, 4])\n"
     ]
    }
   ],
   "source": [
    "h = a / d\n",
    "print(h.shape)"
   ]
  },
  {
   "cell_type": "markdown",
   "metadata": {},
   "source": [
    "We can elementwise raise a to d  (last dimension of d is 1, the rest of the dimensions match)"
   ]
  },
  {
   "cell_type": "code",
   "execution_count": 24,
   "metadata": {},
   "outputs": [
    {
     "name": "stdout",
     "output_type": "stream",
     "text": [
      "torch.Size([2, 3, 4])\n"
     ]
    }
   ],
   "source": [
    "i = a**d\n",
    "print(i.shape)"
   ]
  },
  {
   "cell_type": "markdown",
   "metadata": {},
   "source": [
    "And we can compare a with any of f, g, h"
   ]
  },
  {
   "cell_type": "code",
   "execution_count": 25,
   "metadata": {},
   "outputs": [
    {
     "name": "stdout",
     "output_type": "stream",
     "text": [
      "torch.Size([2, 3, 4])\n",
      "tensor([[[False, False, False, False],\n",
      "         [False, False, False, False],\n",
      "         [False, False, False, False]],\n",
      "\n",
      "        [[False, False, False, False],\n",
      "         [False, False, False, False],\n",
      "         [False, False, False, False]]])\n"
     ]
    }
   ],
   "source": [
    "j = a == f\n",
    "print(j.shape)\n",
    "print(j)"
   ]
  },
  {
   "cell_type": "markdown",
   "metadata": {},
   "source": [
    ".. but torch complains when we try to do that with e (shapes are incompatible)"
   ]
  },
  {
   "cell_type": "code",
   "execution_count": 26,
   "metadata": {},
   "outputs": [
    {
     "ename": "RuntimeError",
     "evalue": "The size of tensor a (2) must match the size of tensor b (4) at non-singleton dimension 2",
     "output_type": "error",
     "traceback": [
      "\u001b[0;31m---------------------------------------------------------------------------\u001b[0m",
      "\u001b[0;31mRuntimeError\u001b[0m                              Traceback (most recent call last)",
      "\u001b[0;32m<ipython-input-26-a2c3e750b318>\u001b[0m in \u001b[0;36m<module>\u001b[0;34m\u001b[0m\n\u001b[0;32m----> 1\u001b[0;31m \u001b[0me\u001b[0m \u001b[0;34m==\u001b[0m \u001b[0ma\u001b[0m\u001b[0;34m\u001b[0m\u001b[0;34m\u001b[0m\u001b[0m\n\u001b[0m",
      "\u001b[0;31mRuntimeError\u001b[0m: The size of tensor a (2) must match the size of tensor b (4) at non-singleton dimension 2"
     ]
    }
   ],
   "source": [
    "e == a"
   ]
  },
  {
   "cell_type": "code",
   "execution_count": 27,
   "metadata": {},
   "outputs": [],
   "source": [
    "del a, b, c, d, e, f, g, h, i, j"
   ]
  },
  {
   "cell_type": "markdown",
   "metadata": {},
   "source": [
    "If in doubt for what any of the element-wise operators actually do, try them out below on some tensors of your own making."
   ]
  },
  {
   "cell_type": "code",
   "execution_count": 28,
   "metadata": {},
   "outputs": [
    {
     "name": "stdout",
     "output_type": "stream",
     "text": [
      "tensor([[[1., 1., 1.],\n",
      "         [1., 1., 1.],\n",
      "         [1., 1., 1.]],\n",
      "\n",
      "        [[1., 1., 1.],\n",
      "         [1., 1., 1.],\n",
      "         [1., 1., 1.]]])\n"
     ]
    }
   ],
   "source": [
    "a = torch.ones((2,3,3), device=device)\n",
    "print(a)\n",
    "del(a)"
   ]
  },
  {
   "cell_type": "markdown",
   "metadata": {},
   "source": [
    "#### Linear Algebra\n",
    "Tensor algebra of course goes well beyond elementwise operations- matrix multiplication is the bread and butter of machine learning, so we better get familiar with how torch does it."
   ]
  },
  {
   "cell_type": "markdown",
   "metadata": {},
   "source": [
    "As usual, we begin by instantiating our matrices. Matrix multiplication is defined between matrices A and B of shapes [M, N] and [N, O] respectively and yields a matrix C of shape [M, O]. The torch function that implements matrix multiplication is `torch.mm`."
   ]
  },
  {
   "cell_type": "code",
   "execution_count": 29,
   "metadata": {},
   "outputs": [
    {
     "name": "stdout",
     "output_type": "stream",
     "text": [
      "torch.Size([5, 8])\n"
     ]
    }
   ],
   "source": [
    "A = torch.rand([5,3], device=device)\n",
    "B = torch.rand([3,8], device=device)\n",
    "C = torch.mm(A, B)  # or alternatively, C = A @ B\n",
    "print(C.shape)"
   ]
  },
  {
   "cell_type": "code",
   "execution_count": 30,
   "metadata": {},
   "outputs": [
    {
     "name": "stdout",
     "output_type": "stream",
     "text": [
      "torch.Size([128, 5, 8])\n"
     ]
    }
   ],
   "source": [
    "bA = torch.rand([128, 5, 3], device=device)\n",
    "bB = torch.rand([128, 3, 8], device=device)\n",
    "bC = torch.bmm(bA, bB)  # bC = bA @ bC also works here!\n",
    "print(bC.shape)"
   ]
  },
  {
   "cell_type": "markdown",
   "metadata": {},
   "source": [
    "<div class=\"alert alert-block alert-warning\">\n",
    "<b>Warning:</b>\n",
    "Be careful not to confuse matrix multiplication `A@B` with the [Hadamard product](https://en.wikipedia.org/wiki/Hadamard_product_%28matrices%29) `A*B`\n",
    "\n",
    "</div>"
   ]
  },
  {
   "cell_type": "markdown",
   "metadata": {},
   "source": [
    "\n",
    "\n",
    "#### Shape Manipulation\n",
    "As we have seen, what we can do with tensors is largely dictated by their shapes. Adjusting a tensor's shape to allow for broadcasting or batching is therefore often necessary. The following functions should suffice for the bulk of shape manipulation tasks you might encounter."
   ]
  },
  {
   "cell_type": "markdown",
   "metadata": {},
   "source": [
    "Tensor tansposition is the generalization of matrix transposition. Since there are now more than 2 dimensions, we additionally need to specify the transposed dimensions. Take for instance a tensor of shape [M, N, O]. Converting it to a tensor of shape [N, M, O] requires transposing the first and second dimensions."
   ]
  },
  {
   "cell_type": "code",
   "execution_count": 31,
   "metadata": {},
   "outputs": [
    {
     "name": "stdout",
     "output_type": "stream",
     "text": [
      "torch.Size([5, 128, 3])\n",
      "torch.Size([5, 3, 128])\n",
      "torch.Size([3, 5, 128])\n"
     ]
    }
   ],
   "source": [
    "A = torch.rand([128, 5, 3], device=device)\n",
    "A = A.transpose(0, 1)\n",
    "print(A.shape)\n",
    "A = A.transpose(1,2)\n",
    "print(A.shape)\n",
    "A = A.transpose(0,1)\n",
    "print(A.shape)"
   ]
  },
  {
   "cell_type": "markdown",
   "metadata": {},
   "source": [
    "We may also choose to create a reshaped view of a tensor; for instance we may collapse two or more tensor dimensions into one.."
   ]
  },
  {
   "cell_type": "code",
   "execution_count": 32,
   "metadata": {},
   "outputs": [
    {
     "name": "stdout",
     "output_type": "stream",
     "text": [
      "torch.Size([640, 3])\n"
     ]
    }
   ],
   "source": [
    "A = torch.rand([128, 5, 3], device=device)\n",
    "A_collapsed = A.view(A.shape[0]*A.shape[1], A.shape[-1])\n",
    "print(A_collapsed.shape)"
   ]
  },
  {
   "cell_type": "markdown",
   "metadata": {},
   "source": [
    "\n",
    "\n",
    "\n",
    "\n",
    "\n",
    "\n",
    ".. or expand one dimension into two or more"
   ]
  },
  {
   "cell_type": "code",
   "execution_count": 33,
   "metadata": {},
   "outputs": [
    {
     "name": "stdout",
     "output_type": "stream",
     "text": [
      "torch.Size([128, 5, 3])\n"
     ]
    }
   ],
   "source": [
    "A_expanded = A_collapsed.view(128, 5, 3)\n",
    "print(A_expanded.shape)"
   ]
  },
  {
   "cell_type": "markdown",
   "metadata": {},
   "source": [
    "Let's convince ourselves that the back and forth between dimensions has left our tensor unaffected. First let's elementwise compare A with A_expanded."
   ]
  },
  {
   "cell_type": "code",
   "execution_count": 34,
   "metadata": {},
   "outputs": [
    {
     "name": "stdout",
     "output_type": "stream",
     "text": [
      "tensor([[[True, True, True],\n",
      "         [True, True, True],\n",
      "         [True, True, True],\n",
      "         [True, True, True],\n",
      "         [True, True, True]],\n",
      "\n",
      "        [[True, True, True],\n",
      "         [True, True, True],\n",
      "         [True, True, True],\n",
      "         [True, True, True],\n",
      "         [True, True, True]],\n",
      "\n",
      "        [[True, True, True],\n",
      "         [True, True, True],\n",
      "         [True, True, True],\n",
      "         [True, True, True],\n",
      "         [True, True, True]],\n",
      "\n",
      "        ...,\n",
      "\n",
      "        [[True, True, True],\n",
      "         [True, True, True],\n",
      "         [True, True, True],\n",
      "         [True, True, True],\n",
      "         [True, True, True]],\n",
      "\n",
      "        [[True, True, True],\n",
      "         [True, True, True],\n",
      "         [True, True, True],\n",
      "         [True, True, True],\n",
      "         [True, True, True]],\n",
      "\n",
      "        [[True, True, True],\n",
      "         [True, True, True],\n",
      "         [True, True, True],\n",
      "         [True, True, True],\n",
      "         [True, True, True]]])\n"
     ]
    }
   ],
   "source": [
    "comp = A == A_expanded\n",
    "print(comp)"
   ]
  },
  {
   "cell_type": "markdown",
   "metadata": {},
   "source": [
    "It seems to be okay! But what if there is a zero somewhere in there? Python's `all` and `any` may be used directly on torch bools to help us here."
   ]
  },
  {
   "cell_type": "code",
   "execution_count": 35,
   "metadata": {},
   "outputs": [
    {
     "name": "stdout",
     "output_type": "stream",
     "text": [
      "True\n"
     ]
    }
   ],
   "source": [
    "print(all([all(row) for matrix in comp for row in matrix]))"
   ]
  },
  {
   "cell_type": "markdown",
   "metadata": {},
   "source": [
    "Views are useful, but as the name suggests they only change our view of a tensor. Different views of a tensor have the same number of elements; the view is just changing in what order these are read.\n",
    "\n",
    "For cases where we would like to repeat a tensor across one or more of its axes (actually creating a larger tensor), we can use the function of the same name. Let's consider a tensor of shape [M, N] which we would like to turn into a tensor that repeats itself K times across the first dimension (i.e. a tensor of shape [K $\\cdot$ M, N]."
   ]
  },
  {
   "cell_type": "code",
   "execution_count": 36,
   "metadata": {},
   "outputs": [
    {
     "name": "stdout",
     "output_type": "stream",
     "text": [
      "torch.Size([15, 12])\n"
     ]
    }
   ],
   "source": [
    "A = torch.rand([5, 12], device=device)\n",
    "A_repeat = A.repeat(3, 1)  # note that we are specifying the number of repeats per dimension\n",
    "print(A_repeat.shape)"
   ]
  },
  {
   "cell_type": "markdown",
   "metadata": {},
   "source": [
    "#### Combining Tensors\n",
    "Sometimes we may want to construct a big tensor out of two small ones. There's a few ways to accomplish that, but the most reliable one is through `torch.cat` 🐈 (shorthand for concatenate).\n",
    "\n",
    "Two tensors may be concatenated if they agree on all their dimensions, except for the concatenation dimension."
   ]
  },
  {
   "cell_type": "code",
   "execution_count": 37,
   "metadata": {},
   "outputs": [
    {
     "name": "stdout",
     "output_type": "stream",
     "text": [
      "torch.Size([5, 2])\n"
     ]
    }
   ],
   "source": [
    "A = torch.rand([4,2], device=device)\n",
    "B = torch.rand([1,2], device=device)\n",
    "C = torch.cat((A, B), dim=0)\n",
    "print(C.shape)"
   ]
  },
  {
   "cell_type": "code",
   "execution_count": 38,
   "metadata": {},
   "outputs": [],
   "source": [
    "del A, B, C, comp, A_repeat, A_expanded, A_collapsed, bA, bB, bC"
   ]
  },
  {
   "cell_type": "markdown",
   "metadata": {},
   "source": [
    "---"
   ]
  },
  {
   "cell_type": "markdown",
   "metadata": {},
   "source": [
    "<a id='1d'></a>\n",
    "### Exercises\n",
    "It might be a good idea to take a short break here and recap on what we've seen before moving further. The mini-exercises below should help you test your grasp of this section."
   ]
  },
  {
   "cell_type": "markdown",
   "metadata": {},
   "source": [
    "Construct a tensor $A$ of shape [10, 10] containing random floats, and a tensor $B$ of the same shape where all its elements are equal to $\\pi$."
   ]
  },
  {
   "cell_type": "code",
   "execution_count": 39,
   "metadata": {},
   "outputs": [
    {
     "name": "stdout",
     "output_type": "stream",
     "text": [
      "torch.Size([10, 10])\n",
      "torch.Size([10, 10])\n"
     ]
    }
   ],
   "source": [
    "A = torch.rand((10,10), device=device)\n",
    "print(A.shape)\n",
    "B = torch.zeros((10,10), device=device)\n",
    "B = B.new_full((10,10), 3.14, device=device)\n",
    "print(B.shape)"
   ]
  },
  {
   "cell_type": "markdown",
   "metadata": {},
   "source": [
    "Compute $C = AB^T$, the matrix multiplication of $A$ with the transpose of $B$ and $D = A\\cdot B$, their elementwise multiplication."
   ]
  },
  {
   "cell_type": "code",
   "execution_count": 40,
   "metadata": {},
   "outputs": [
    {
     "name": "stdout",
     "output_type": "stream",
     "text": [
      "torch.Size([10, 10])\n",
      "torch.Size([10, 10])\n"
     ]
    }
   ],
   "source": [
    "C = torch.mm(A,B.transpose(0,1))\n",
    "print(C.shape)\n",
    "D = A*B\n",
    "print(D.shape)"
   ]
  },
  {
   "cell_type": "markdown",
   "metadata": {},
   "source": [
    "Try comparing $C$ with $D$. Are they comparable? Are they equal? What is the dtype of their comparison?"
   ]
  },
  {
   "cell_type": "code",
   "execution_count": 41,
   "metadata": {},
   "outputs": [
    {
     "name": "stdout",
     "output_type": "stream",
     "text": [
      "[[False False False False False False False False False False]\n",
      " [False False False False False False False False False False]\n",
      " [False False False False False False False False False False]\n",
      " [False False False False False False False False False False]\n",
      " [False False False False False False False False False False]\n",
      " [False False False False False False False False False False]\n",
      " [False False False False False False False False False False]\n",
      " [False False False False False False False False False False]\n",
      " [False False False False False False False False False False]\n",
      " [False False False False False False False False False False]]\n",
      "tensor([[False, False, False, False, False, False, False, False, False, False],\n",
      "        [False, False, False, False, False, False, False, False, False, False],\n",
      "        [False, False, False, False, False, False, False, False, False, False],\n",
      "        [False, False, False, False, False, False, False, False, False, False],\n",
      "        [False, False, False, False, False, False, False, False, False, False],\n",
      "        [False, False, False, False, False, False, False, False, False, False],\n",
      "        [False, False, False, False, False, False, False, False, False, False],\n",
      "        [False, False, False, False, False, False, False, False, False, False],\n",
      "        [False, False, False, False, False, False, False, False, False, False],\n",
      "        [False, False, False, False, False, False, False, False, False, False]])\n",
      "torch.bool\n"
     ]
    }
   ],
   "source": [
    "# First way to compare\n",
    "f = C == D\n",
    "print(f.numpy().astype('bool'))\n",
    "# Second way to compare\n",
    "print(torch.eq(C, D))\n",
    "# Print dtype of comparison\n",
    "print(f.dtype)"
   ]
  },
  {
   "cell_type": "markdown",
   "metadata": {},
   "source": [
    "The dtype of their comparison is a torch Boolean.\n",
    "They are not equal but they are comparable."
   ]
  },
  {
   "cell_type": "markdown",
   "metadata": {},
   "source": [
    "Multiply $A$ by 4 to create $F$. Now set all elements of $F$ that are above $\\pi$ to zero.\n",
    "\n",
    "\n",
    "_Hint 1_: You can index a tensor with a boolean tensor of the same dimensionality\n",
    "\n",
    "_Hint 2_: You can set multiple indexed elements to a single value at once"
   ]
  },
  {
   "cell_type": "code",
   "execution_count": 42,
   "metadata": {},
   "outputs": [],
   "source": [
    "F = A*4\n",
    "F[torch.gt(F, 3.14)] = 0"
   ]
  },
  {
   "cell_type": "markdown",
   "metadata": {},
   "source": [
    "The incomplete function below implements matrix multiplication with a for loop. Complete the function and call it with your $A$ and $B^T$ matrices as its arguments. The result should be the same as the matrix $C$ you computed before (with room for some numerical inaccuraccy)\n",
    "\n",
    "Note: You can use `torch.sum()` to compute the sum of a tensor (optionally specifying across which dimension)\n",
    "\n",
    "<div class=\"alert alert-block alert-info\">\n",
    "<b>Note:</b> [Type Hints](https://www.python.org/dev/peps/pep-0484/#rationale-and-goals) may be used in python function and variable declarations to give them a type signature. These type signatures are not strict (you can still bypass them), but they can help you organize your code. Type hints of incomplete functions given during assignments will inform you of what we expect your function to accept and return.\n",
    "</div>"
   ]
  },
  {
   "cell_type": "code",
   "execution_count": 43,
   "metadata": {},
   "outputs": [],
   "source": [
    "def my_mm(A: torch.FloatTensor, B: torch.FloatTensor) -> torch.FloatTensor:\n",
    "    assert A.shape[1] == B.shape[0]\n",
    "    assert (len(A.shape) == len(B.shape) == 2)\n",
    "    C = torch.zeros((A.shape[0], B.shape[1]), device=device)\n",
    "    for i in range(A.shape[0]):\n",
    "        for j in range(B.shape[1]):\n",
    "            C[i, j] = torch.sum(A[i,]*B[:,j])\n",
    "    return C\n",
    "    \n",
    "E = my_mm(A, B.transpose(1,0))\n",
    "\n",
    "# make sure the mean absolute difference between the two results is below 0.0001\n",
    "assert torch.sum(torch.abs(E - C))/(E.shape[0]*E.shape[1]) < 1e-4 "
   ]
  },
  {
   "cell_type": "markdown",
   "metadata": {},
   "source": [
    "To do this I used the Hadamard product, given that the tasks did not specify particular constraints."
   ]
  },
  {
   "cell_type": "markdown",
   "metadata": {},
   "source": [
    "Create a 2-dimensional tensor $S$ that consists by an instance of $A$ followed by two instances of $B$ followed by an instance of $A$ across its first dimension. What is the shape of $S$?"
   ]
  },
  {
   "cell_type": "code",
   "execution_count": 44,
   "metadata": {},
   "outputs": [
    {
     "name": "stdout",
     "output_type": "stream",
     "text": [
      "torch.Size([40, 10])\n"
     ]
    }
   ],
   "source": [
    "S = torch.cat((A,B,B,A), dim=0)\n",
    "print(S.shape)"
   ]
  },
  {
   "cell_type": "markdown",
   "metadata": {},
   "source": [
    "Reshape $S$ into a tensor of shape [20, 2, 10]. \n",
    "Then transpose this into a tensor of shape [2, 10, 20]."
   ]
  },
  {
   "cell_type": "code",
   "execution_count": 45,
   "metadata": {},
   "outputs": [
    {
     "name": "stdout",
     "output_type": "stream",
     "text": [
      "torch.Size([2, 10, 20])\n"
     ]
    }
   ],
   "source": [
    "S_expanded = S.view(20, 2, 10)\n",
    "S = S_expanded.transpose(0,1)\n",
    "S = S.transpose(1,2)\n",
    "print(S.shape)"
   ]
  },
  {
   "cell_type": "code",
   "execution_count": 46,
   "metadata": {},
   "outputs": [],
   "source": [
    "del A, B, C, D, E, F, S"
   ]
  },
  {
   "cell_type": "markdown",
   "metadata": {},
   "source": [
    "---"
   ]
  },
  {
   "cell_type": "markdown",
   "metadata": {},
   "source": [
    "<a id='2'></a>\n",
    "## 2. Automatic Differentation and Neural Networks\n",
    "We have so far seen some of torch's computational capabilities; its GPU accelaration and multitude of high level functions make it suitable for array processing and vector arithmetic. But torch is more than a faster numpy; its key components, and where most of the magic happens, are in its automatic differentiation mechanics and neural network libraries.\n",
    "\n",
    "<a id='2a'></a>\n",
    "### A. Autograd\n",
    "Each torch tensor carries a flag around with it, `requires_grad`, which establishes whether that tensor requires gradient computation. \n",
    "\n",
    "By default, tensors do not require grad unless specified to. Whenever a tensor that requires grad assumes a role in the construction of another tensor, the new tensor also requires grad.\n",
    "By dynamically tracking dependencies in the evolving computation graph, and utilizing this flag, torch is able to inform itself on which tensors need to be updated by gradient descent, and which do not (naturally, only tensors for which gradients are computed will be updated).\n",
    "\n",
    "Practically, by setting `requires_grad` to `False` we can _freeze_ (parts of) our functions, making them static.\n",
    "\n",
    "Let's see this in action by modeling a simple linear transformation $f(x): Ax$ from $x \\in \\mathbb{R}^5$  to $y \\in \\mathbb{R}^7$:\n",
    "\n",
    "<div class=\"alert alert-block alert-info\">\n",
    "<b>Note:</b> Recall that a matrix of shape [M, N] is a linear map __from__ $\\mathbb{R}^N$ __to__ $\\mathbb{R}^M$.\n",
    "</div>"
   ]
  },
  {
   "cell_type": "code",
   "execution_count": 47,
   "metadata": {},
   "outputs": [],
   "source": [
    "A = torch.rand((7, 5), device=device) \n",
    "\n",
    "def f(x: torch.FloatTensor) -> torch.FloatTensor:\n",
    "    return A@x "
   ]
  },
  {
   "cell_type": "markdown",
   "metadata": {},
   "source": [
    "Let's test our function for some $x$, and check whether the result requires grad."
   ]
  },
  {
   "cell_type": "code",
   "execution_count": 48,
   "metadata": {},
   "outputs": [
    {
     "name": "stdout",
     "output_type": "stream",
     "text": [
      "tensor([0.6222, 1.4723, 1.2613, 0.7608, 0.6114, 0.9859, 1.1026])\n",
      "False\n"
     ]
    }
   ],
   "source": [
    "x = torch.rand(5, device=device)\n",
    "y = f(x)\n",
    "print(y)\n",
    "print(y.requires_grad)"
   ]
  },
  {
   "cell_type": "markdown",
   "metadata": {},
   "source": [
    "It does not; what if the parameters of our function $f$ were trainable though?"
   ]
  },
  {
   "cell_type": "code",
   "execution_count": 49,
   "metadata": {},
   "outputs": [
    {
     "name": "stdout",
     "output_type": "stream",
     "text": [
      "True\n"
     ]
    }
   ],
   "source": [
    "A.requires_grad = True\n",
    "y = f(x)\n",
    "print(y.requires_grad)"
   ]
  },
  {
   "cell_type": "markdown",
   "metadata": {},
   "source": [
    "The output of our linear transformation is now also trainable!\n"
   ]
  },
  {
   "cell_type": "markdown",
   "metadata": {},
   "source": [
    "---"
   ]
  },
  {
   "cell_type": "markdown",
   "metadata": {},
   "source": [
    "<a id='2b'></a>\n",
    "### Exercises\n",
    "Answer the next questions before you proceed."
   ]
  },
  {
   "cell_type": "markdown",
   "metadata": {},
   "source": [
    "Model an affine transformation $g(x) = Ax + \\beta$ from $x \\in \\mathbb{R}^3$ to $y \\in \\mathbb{R}^{12}$ as the composition of two functions, $f_1(x) = Ax$, $f_2(x) = x + \\beta$, such that $A$ requires grad but $\\beta$ does not.\n",
    "\n",
    "<div class=\"alert alert-block alert-info\">\n",
    "<b>Note:</b> You can use `requires_grad: bool` as an optional argument during tensor construction. Can you guess its default value?\n",
    "</div>"
   ]
  },
  {
   "cell_type": "code",
   "execution_count": 50,
   "metadata": {},
   "outputs": [
    {
     "name": "stdout",
     "output_type": "stream",
     "text": [
      "tensor([0.6108, 0.0133, 0.9558])\n"
     ]
    }
   ],
   "source": [
    "x = torch.rand(3, device=device)\n",
    "print(x)"
   ]
  },
  {
   "cell_type": "code",
   "execution_count": 51,
   "metadata": {},
   "outputs": [],
   "source": [
    "A = torch.rand((12, 3), requires_grad=True,  device=device) \n",
    "beta = torch.rand(12, device=device)\n",
    "\n",
    "def f_1(x: torch.FloatTensor) -> torch.FloatTensor:\n",
    "    return A@x\n",
    "\n",
    "def f_2(x: torch.FloatTensor) -> torch.FloatTensor:\n",
    "    return x + beta\n",
    "\n",
    "x = torch.rand(3, device=device)\n",
    "\n",
    "w = f_1(x)\n",
    "y = f_2(w)"
   ]
  },
  {
   "cell_type": "markdown",
   "metadata": {},
   "source": [
    "Try to figure out the answers on your own before checking the code.\n",
    "\n",
    "Let's assume $x$ is a fixed data sample, therefore does not require grad (we don't usually want to fit our data, but the function applied on the data!)\n",
    "\n",
    "* If $A$ requires grad but $\\beta$ doesn't, does $w$ require grad? Does $y$?\n",
    "\n",
    "* If $\\beta$ requires grad but $A$ doesn't, does $w$ require grad? Does $y$?\n",
    "\n",
    "What would that mean for $A$ and $\\beta$ during gradient descent?\n",
    "\n",
    "Verify your answers with code."
   ]
  },
  {
   "cell_type": "code",
   "execution_count": 52,
   "metadata": {},
   "outputs": [
    {
     "name": "stdout",
     "output_type": "stream",
     "text": [
      "True\n",
      "True\n"
     ]
    }
   ],
   "source": [
    "A = torch.rand((12, 3), requires_grad=True,  device=device) \n",
    "beta = torch.rand(12, requires_grad=False, device=device)\n",
    "\n",
    "w = f_1(x)\n",
    "y = f_2(w)\n",
    "\n",
    "print(w.requires_grad)\n",
    "print(y.requires_grad)"
   ]
  },
  {
   "cell_type": "code",
   "execution_count": 53,
   "metadata": {},
   "outputs": [
    {
     "name": "stdout",
     "output_type": "stream",
     "text": [
      "False\n",
      "True\n"
     ]
    }
   ],
   "source": [
    "A = torch.rand((12, 3), requires_grad=False,  device=device) \n",
    "beta = torch.rand(12, requires_grad=True, device=device)\n",
    "\n",
    "w = f_1(x)\n",
    "y = f_2(w)\n",
    "\n",
    "print(w.requires_grad)\n",
    "print(y.requires_grad)"
   ]
  },
  {
   "cell_type": "code",
   "execution_count": 54,
   "metadata": {},
   "outputs": [],
   "source": [
    "del A, beta, x, y, w, f, f_1, f_2"
   ]
  },
  {
   "cell_type": "markdown",
   "metadata": {},
   "source": [
    "---"
   ]
  },
  {
   "cell_type": "markdown",
   "metadata": {},
   "source": [
    "<a id='3'></a>\n",
    "\n",
    "## 3. Neural Networks\n",
    "We are very close to defining our first neural network in torch. Torch includes a powerful neural network library, `torch.nn`, which allows us to create our own custom network flows, use highly optimized off-the-shelf implementations of most standard kinds of networks and compose different networks together.\n",
    "\n",
    "<a id='3a'></a>\n",
    "### A. Custom Neural Networks\n",
    "You have already implemented an affine transformation; a shallow feedforward network is simply such a transformation followed by a non-linearity. For the sake of familiarizing ourselves with custom torch networks, we will go through the process of defining such a network from scratch (you won't normally be doing this, but it's still beneficial to have an idea of what's happening at the low level before proceeding to the high level).\n",
    "\n",
    "The building block for a torch network is the `torch.nn.Module` class; we need to define our networks as objects inheriting that class. If we do so, we only need to implement two functions: `__init__()` and `forward()`. The first is responsible for registering the internal variables of our network, while the second specifies the kind of computation it actually performs.\n",
    "\n",
    "Let's see these in practice; we will define a shallow feedforward network implementing $f(x) = \\sigma(Wx + \\beta)$ from any input dimension to any output dimension, where $\\sigma$ the sigmoid activation."
   ]
  },
  {
   "cell_type": "code",
   "execution_count": 55,
   "metadata": {},
   "outputs": [],
   "source": [
    "class my_first_network(torch.nn.Module):\n",
    "    def __init__(self, in_features: int, out_features: int, device: str) -> None:\n",
    "        super(my_first_network, self).__init__()  # this is important! do not forget to call this\n",
    "        self.device = device\n",
    "        self.W = torch.nn.Parameter(torch.rand(out_features, in_features, device=self.device))\n",
    "        self.beta = torch.nn.Parameter(torch.rand(out_features, device=self.device))\n",
    "        \n",
    "    def forward(self, x: torch.FloatTensor) -> torch.FloatTensor:\n",
    "        return torch.sigmoid(self.W@x + self.beta)"
   ]
  },
  {
   "cell_type": "markdown",
   "metadata": {},
   "source": [
    "<div class=\"alert alert-block alert-info\">\n",
    "<b>Note:</b> Notice the use of torch.nn.Parameter. Wrapping the tensors that are parametric to our network's function in torch.nn.Parameter is crucial as it informs torch that these tensors need to be stored, updated and shared between different function calls.\n",
    "</div>"
   ]
  },
  {
   "cell_type": "markdown",
   "metadata": {},
   "source": [
    "We can now test our first network class by instatiating an actual network and passing a random tensor through it."
   ]
  },
  {
   "cell_type": "code",
   "execution_count": 56,
   "metadata": {},
   "outputs": [
    {
     "name": "stdout",
     "output_type": "stream",
     "text": [
      "tensor([0.7365, 0.8365, 0.8047, 0.6347, 0.6778, 0.6679, 0.6939, 0.6376, 0.7869,\n",
      "        0.7346, 0.7081, 0.5902], grad_fn=<SigmoidBackward>)\n",
      "tensor([0.0296, 0.3101, 0.6431])\n"
     ]
    }
   ],
   "source": [
    "f = my_first_network(in_features=3, out_features=12, device=device)\n",
    "x = torch.rand(3, device=device)\n",
    "y = f(x)\n",
    "print(y)\n",
    "print(x)"
   ]
  },
  {
   "cell_type": "markdown",
   "metadata": {},
   "source": [
    "<div class=\"alert alert-block alert-info\">\n",
    "<b>Note:</b> Notice that we can use `f(x)` instead of `f.forward(x)` -- `forward` overloads the `__call__` method of the `torch.nn.Module` class, so the above statements are equivalent.\n",
    "</div>"
   ]
  },
  {
   "cell_type": "markdown",
   "metadata": {},
   "source": [
    "Since we have the abstraction for one layer, what's stopping us from instantiating a second network and composing the two into a deep network?"
   ]
  },
  {
   "cell_type": "code",
   "execution_count": 57,
   "metadata": {},
   "outputs": [
    {
     "name": "stdout",
     "output_type": "stream",
     "text": [
      "tensor([0.9832, 0.9894, 0.9870, 0.9898, 0.9873], grad_fn=<SigmoidBackward>)\n"
     ]
    }
   ],
   "source": [
    "class my_first_deep_network(torch.nn.Module):\n",
    "    def __init__(self, in_features: int, intermediate_features: int, out_features: int, device: str) -> None:\n",
    "        super(my_first_deep_network, self).__init__()\n",
    "        self.device = device\n",
    "        self.n_1 = my_first_network(in_features=in_features, out_features=intermediate_features, device=self.device)\n",
    "        self.n_2 = my_first_network(in_features=intermediate_features, out_features=out_features, device=self.device)\n",
    "        \n",
    "    def forward(self, x: torch.FloatTensor) -> torch.FloatTensor:\n",
    "        return self.n_2(self.n_1(x))\n",
    "    \n",
    "g = my_first_deep_network(in_features=3, intermediate_features=12, out_features=5, device=device)\n",
    "y = g(x)\n",
    "print(y)"
   ]
  },
  {
   "cell_type": "markdown",
   "metadata": {},
   "source": [
    "Very easy, right?\n",
    "\n",
    "Except we just did it the hard way! We could have used torch's pre-made `torch.nn.Linear`, the existing abstraction for single feedforward layers, and `torch.nn.Sequential`, the abstraction for composing sequences of networks. `Sequential` is initiated by an iterable of neural modules (not functions!), which are applied in the order specified.\n",
    "\n",
    "How would that have looked like?"
   ]
  },
  {
   "cell_type": "code",
   "execution_count": 58,
   "metadata": {},
   "outputs": [
    {
     "name": "stdout",
     "output_type": "stream",
     "text": [
      "tensor([0.5461, 0.4440, 0.4437, 0.6023, 0.4053], grad_fn=<SigmoidBackward>)\n"
     ]
    }
   ],
   "source": [
    "h = torch.nn.Sequential(\n",
    "    torch.nn.Linear(in_features=3, out_features=12),\n",
    "    torch.nn.Sigmoid(), \n",
    "    torch.nn.Linear(in_features=12, out_features=5), \n",
    "    torch.nn.Sigmoid()  \n",
    ").to(device) \n",
    "\n",
    "y = h(x)\n",
    "print(y)"
   ]
  },
  {
   "cell_type": "markdown",
   "metadata": {},
   "source": [
    "Even easier!\n",
    "\n",
    "<div class=\"alert alert-block alert-info\">\n",
    "<b>Note:</b> When composing networks using the `Sequential` abstraction, you should make sure that each network's expected input shape matches the output shape of the previous network. The device conversion is applied recursively to each sub-module within a module, ensuring that all components of the network live happily in the same device. 🏠 \n",
    "</div>\n",
    "\n",
    "So, why ever define our own networks if torch can do it for us? The answer is that very often (and very soon!) it might be the case that you'll need to write your own, potentially complex, computation flow, which won't necesserily be possible to rephrase as simple layer stacking."
   ]
  },
  {
   "cell_type": "code",
   "execution_count": 59,
   "metadata": {},
   "outputs": [],
   "source": [
    "del x, y, h, g, f, my_first_network, my_first_deep_network"
   ]
  },
  {
   "cell_type": "markdown",
   "metadata": {},
   "source": [
    "<a id='3b'></a>\n",
    "### B.  Loss Functions\n",
    "\n",
    "We have seen how to construct parametric, trainable functions and networks. Requiring a gradient and having a gradient are two different things, however. To obtain the gradients of our trainable parameters we need a loss function. The loss function is an indicator of how far off the network's output (prediction) is from the actual truth. Applying the chain rule, we may differentiate the loss value w.r.t. the model's parameters, populating the tensors' gradients in the process. \n",
    "\n",
    "As with networks, torch provides implementations for the commonly used loss functions but also allows us to write our own (as another neural module!).\n",
    "\n",
    "We will only experiment with an existing loss function, but first we need to construct some data to play with-- we can create a synthetic data set of pairs $(x_i, y_i)$ where $x_i$ is a random number and $y_i = 3 \\cdot x_i - 2$"
   ]
  },
  {
   "cell_type": "code",
   "execution_count": 60,
   "metadata": {},
   "outputs": [],
   "source": [
    "# a tensor of shape 100, 1, i.e. 100 data points each of dimensionality 1\n",
    "x = torch.rand((100, 1), device=device) \n",
    "y = 3 * x - 2"
   ]
  },
  {
   "cell_type": "markdown",
   "metadata": {},
   "source": [
    "Time to employ a linear network.\n",
    "\n",
    "<div class=\"alert alert-block alert-warning\">\n",
    "<b>Warning:</b>\n",
    "Don't mix up input/output dimensionality and number of data samples! \n",
    "</div>"
   ]
  },
  {
   "cell_type": "code",
   "execution_count": 61,
   "metadata": {},
   "outputs": [],
   "source": [
    "f = torch.nn.Linear(in_features=1, out_features=1).to(device)\n",
    "prediction = f(x)"
   ]
  },
  {
   "cell_type": "markdown",
   "metadata": {},
   "source": [
    "Now to define our loss function:"
   ]
  },
  {
   "cell_type": "code",
   "execution_count": 62,
   "metadata": {},
   "outputs": [],
   "source": [
    "loss_fn = torch.nn.MSELoss()"
   ]
  },
  {
   "cell_type": "markdown",
   "metadata": {},
   "source": [
    "Note that each element of our batch (i.e. each of the 100 data samples) has its own MSE w.r.t. to its corresponding output. These unique losses are averaged into a single scalar by the loss function."
   ]
  },
  {
   "cell_type": "code",
   "execution_count": 63,
   "metadata": {},
   "outputs": [
    {
     "name": "stdout",
     "output_type": "stream",
     "text": [
      "tensor(1.4560, grad_fn=<MeanBackward0>)\n"
     ]
    }
   ],
   "source": [
    "loss = loss_fn(y, prediction)\n",
    "print(loss)"
   ]
  },
  {
   "cell_type": "markdown",
   "metadata": {},
   "source": [
    "Now that we have computed the loss, we may use it to populate the parameters' gradients via a backward pass. This is automagically done by a simple call of `backward`. 🧙"
   ]
  },
  {
   "cell_type": "code",
   "execution_count": 64,
   "metadata": {},
   "outputs": [],
   "source": [
    "loss.backward()"
   ]
  },
  {
   "cell_type": "markdown",
   "metadata": {},
   "source": [
    "Torch provides a few different loss functions, each for a particular usecase (the task and your output layer's activation function). Note that particular loss functions are already implementing the network's output activation internally. Refer to the [documentation](https://pytorch.org/docs/stable/nn.html#loss-functions) for a detailed overview. In most cases, the cheat-sheet below should contain the answer.\n",
    "\n",
    "<div class=\"alert alert-block alert-info\">\n",
    "<b>Tip:</b> At a loss on which loss to use? Use this cheat-sheet!\n",
    "</div>\n",
    "\n",
    "| Task | Activation | Loss Function |\n",
    "| --- | --- | --- | --- |\n",
    "| K-class Classification | - | CrossEntropyLoss |\n",
    "| K-class Classification | LogSoftmax | NLLLoss |\n",
    "| K-class, Multi-Label Classification | - | BCEWithLogitsLoss |\n",
    "| K-class, Multi-Label Classification | LogSigmoid | BCELoss |\n",
    "| Continuous Regression | - | MSELoss |\n",
    "| Probability Distribution Fitting | LogSoftmax / LogSigmoid | KLDivLoss |"
   ]
  },
  {
   "cell_type": "markdown",
   "metadata": {},
   "source": [
    "<a id='3c'></a>\n",
    "\n",
    "### C.  Optimizers\n",
    "Our struggles are slowly coming to an end. We have made a trainable network, we have computed the loss given the true output, and we have used the loss to populate the parameter gradients. The final thing to do is to use these gradients in order to update the parameter values. \n",
    "This is managed by an `Optimizer`. Gradient based optimizers are the norm for training neural networks; all of them are variants of stochastic gradient descent. Torch provides implementations of the classic optimizers. Regardless of which one of them is your favourite, the process always involves the same steps:\n",
    "1. Initiate the optimizer by letting it know which parameters it is going to be responsible for\n",
    "2. Iterate over your data, and:\n",
    "    2. Compute the loss\n",
    "    3. Back-propagate\n",
    "    4. Perform an optimization step\n",
    "    5. Zero out the gradients (so that they don't accumulate over optimization steps)\n",
    "\n",
    "Let's see them in action on our toy network and synthetic dataset."
   ]
  },
  {
   "cell_type": "code",
   "execution_count": 65,
   "metadata": {},
   "outputs": [
    {
     "name": "stdout",
     "output_type": "stream",
     "text": [
      "Iteration 0 loss: 1.455971121788025\n",
      "Iteration 500 loss: 0.7107352614402771\n",
      "Iteration 1000 loss: 0.5161734223365784\n",
      "Iteration 1500 loss: 0.3753962218761444\n",
      "Iteration 2000 loss: 0.2536963224411011\n",
      "Iteration 2500 loss: 0.15821413695812225\n",
      "Iteration 3000 loss: 0.08977101743221283\n",
      "Iteration 3500 loss: 0.04524068906903267\n",
      "Iteration 4000 loss: 0.019527284428477287\n",
      "Iteration 4500 loss: 0.006854379549622536\n",
      "Iteration 5000 loss: 0.001822939026169479\n"
     ]
    }
   ],
   "source": [
    "opt = torch.optim.Adam(f.parameters())  # initiate optimizer\n",
    "for t in range(5001):  # iterate\n",
    "    prediction = f(x)  # predict \n",
    "    loss = loss_fn(prediction, y)  # compute loss\n",
    "    loss.backward()  # backpropagate\n",
    "    opt.step()  # optimize\n",
    "    opt.zero_grad()  # reset gradients\n",
    "    if t%500 == 0:\n",
    "        print('Iteration {} loss: {}'.format(t, loss.item()))"
   ]
  },
  {
   "cell_type": "markdown",
   "metadata": {},
   "source": [
    "Congratulations! You have trained your first torch network! 🎉\n",
    "\n",
    "You can now probe its inner parameters to see to what extent it figured out the truth."
   ]
  },
  {
   "cell_type": "code",
   "execution_count": 66,
   "metadata": {},
   "outputs": [
    {
     "name": "stdout",
     "output_type": "stream",
     "text": [
      "Parameter containing:\n",
      "tensor([[2.8485]], requires_grad=True)\n",
      "Parameter containing:\n",
      "tensor([-1.9145], requires_grad=True)\n"
     ]
    }
   ],
   "source": [
    "print(f.weight)\n",
    "print(f.bias)"
   ]
  },
  {
   "cell_type": "markdown",
   "metadata": {},
   "source": [
    "---"
   ]
  },
  {
   "cell_type": "markdown",
   "metadata": {},
   "source": [
    "<a id='3d'></a>\n",
    "\n",
    "### D. Exercises"
   ]
  },
  {
   "cell_type": "markdown",
   "metadata": {},
   "source": [
    "Before we move on to a somewhat more realistic problem, it might be a good idea to get further acquainted with the basics. \n",
    "\n",
    "Let's take a quick look at a few different non-linear activations first."
   ]
  },
  {
   "cell_type": "markdown",
   "metadata": {},
   "source": [
    "Use `arange` to construct a float tensor $x$ of values $0 \\dots 1000$ in ascending order. Then element-wise subtract $500$ and divide by $100$ to get a tensor of values $-5 \\dots 5$."
   ]
  },
  {
   "cell_type": "code",
   "execution_count": 67,
   "metadata": {},
   "outputs": [],
   "source": [
    "x = torch.arange(0,1000, dtype=torch.float64 , device=device)\n",
    "#print(x)"
   ]
  },
  {
   "cell_type": "markdown",
   "metadata": {},
   "source": [
    "Construct the tensors $s = \\sigma(x)$, $t = tanh(x)$ and $r = ReLU(x)$."
   ]
  },
  {
   "cell_type": "code",
   "execution_count": 68,
   "metadata": {},
   "outputs": [],
   "source": [
    "s = torch.sigmoid(x)\n",
    "t = torch.tanh(x)\n",
    "r = torch.relu(x)"
   ]
  },
  {
   "cell_type": "markdown",
   "metadata": {},
   "source": [
    "Now we can convert these to numpy arrays and plot the results. "
   ]
  },
  {
   "cell_type": "code",
   "execution_count": 70,
   "metadata": {},
   "outputs": [
    {
     "data": {
      "text/plain": [
       "<Figure size 640x480 with 1 Axes>"
      ]
     },
     "metadata": {},
     "output_type": "display_data"
    }
   ],
   "source": [
    "from matplotlib import pyplot as plt\n",
    "plt.plot(x.cpu().numpy(),s.cpu().numpy())\n",
    "plt.plot(x.cpu().numpy(),t.cpu().numpy())\n",
    "plt.plot(x.cpu().numpy(),r.cpu().numpy())\n",
    "plt.ylim((-2, 5))\n",
    "plt.legend(['sigmoid', 'tanh', 'relu'])\n",
    "plt.show()"
   ]
  },
  {
   "cell_type": "markdown",
   "metadata": {},
   "source": [
    "Let's practice some more by solving the infamous XOR problem with a small deep network. "
   ]
  },
  {
   "cell_type": "code",
   "execution_count": 71,
   "metadata": {},
   "outputs": [],
   "source": [
    "X = torch.tensor([[0, 0], [0, 1], [1, 0], [1, 1]], device=device, dtype=torch.float)\n",
    "Y = torch.tensor([0, 1, 1, 0], device=device, dtype=torch.float)\n",
    "Y1 = torch.tensor([0, 1, 1, 0], device=device, dtype=torch.float).view(-1,1)"
   ]
  },
  {
   "cell_type": "markdown",
   "metadata": {},
   "source": [
    "Use `torch.nn.Sequential` to create a minimal deep network with 1 output dimension and 2 intermediate dimensions. Use ReLU as your intermediate layer activation. \n",
    "\n",
    "Picturing the problem as a classification over two classes, select an appropriate output activation and loss function (refer to the cheat-sheet for aid)."
   ]
  },
  {
   "cell_type": "code",
   "execution_count": 72,
   "metadata": {},
   "outputs": [],
   "source": [
    "f = torch.nn.Sequential(\n",
    "    torch.nn.Linear(in_features=2, out_features=4),\n",
    "    torch.nn.ReLU(),\n",
    "    torch.nn.Linear(in_features=4, out_features=1)\n",
    ").to(device)\n",
    "\n",
    "loss_fn = torch.nn.MSELoss()"
   ]
  },
  {
   "cell_type": "markdown",
   "metadata": {},
   "source": [
    "Instantiate an optimizer for your network."
   ]
  },
  {
   "cell_type": "code",
   "execution_count": 73,
   "metadata": {},
   "outputs": [],
   "source": [
    "opt = torch.optim.SGD(f.parameters(), lr=0.01, momentum=0.9)"
   ]
  },
  {
   "cell_type": "markdown",
   "metadata": {},
   "source": [
    "Perform 5000 iterations of training, printing the loss as you go."
   ]
  },
  {
   "cell_type": "code",
   "execution_count": 74,
   "metadata": {},
   "outputs": [
    {
     "name": "stdout",
     "output_type": "stream",
     "text": [
      "Iteration 0 loss: 0.581694483757019\n",
      "Iteration 500 loss: 4.9649173661237e-13\n",
      "Iteration 1000 loss: 3.561595462997502e-13\n",
      "Iteration 1500 loss: 3.2862601528904634e-13\n",
      "Iteration 2000 loss: 3.2862601528904634e-13\n",
      "Iteration 2500 loss: 3.2862601528904634e-13\n",
      "Iteration 3000 loss: 3.2862601528904634e-13\n",
      "Iteration 3500 loss: 3.2862601528904634e-13\n",
      "Iteration 4000 loss: 3.2862601528904634e-13\n",
      "Iteration 4500 loss: 3.2862601528904634e-13\n",
      "Iteration 5000 loss: 3.2862601528904634e-13\n"
     ]
    }
   ],
   "source": [
    "for t in range(5001):  # iterate\n",
    "    P = f(X)  # predict \n",
    "    loss = loss_fn(P, Y1)  # compute loss using differently shaped Y\n",
    "    loss.backward()  # backpropagate\n",
    "    opt.step()  # optimize\n",
    "    opt.zero_grad()  # reset gradients\n",
    "    if t%500 == 0:\n",
    "        print('Iteration {} loss: {}'.format(t, loss.item()))"
   ]
  },
  {
   "cell_type": "markdown",
   "metadata": {},
   "source": [
    "You might encounter a shape error here. If you do, don't panic! Read it, understand what the problem is and remember `.view()`.\n",
    "\n",
    "Is the loss improving? If not, try toying around with the intermediate layer's width, the optimizer and its learning rate until your network can solve the problem."
   ]
  },
  {
   "cell_type": "code",
   "execution_count": 75,
   "metadata": {},
   "outputs": [],
   "source": [
    "del f, loss_fn, opt, X, Y"
   ]
  },
  {
   "cell_type": "markdown",
   "metadata": {},
   "source": [
    "<a id='3d'></a>\n",
    "## 4. Putting Everything Together\n",
    "Time to hone our newly acquired torch skills! \n",
    "\n",
    "We will now put everything together and write an actual network on a real task. The code below is mostly complete, but some parts here and there are missing. You will be asked to fill those in, so pay attention!"
   ]
  },
  {
   "cell_type": "markdown",
   "metadata": {},
   "source": [
    "First, construct a two-layer network that implements the function $f: \\mathbb{R}^{300} \\to \\mathbb{R}$, such that:\n",
    "\n",
    "$f(x) = W_2(ReLU(W_1x + \\beta_1) + \\beta_2$\n",
    "\n",
    "where:\n",
    "* $W_1 \\in \\mathbb{R}^{100, 300}$\n",
    "* $W_2 \\in \\mathbb{R}^{1, 100}$ \n",
    "* $ \\beta_1 \\in \\mathbb{R}^{100}$ \n",
    "* $\\beta_2 \\in \\mathbb{R}^1$\n",
    "\n",
    "\n",
    "using `torch.nn.Sequential` "
   ]
  },
  {
   "cell_type": "code",
   "execution_count": 76,
   "metadata": {},
   "outputs": [],
   "source": [
    "f = torch.nn.Sequential(\n",
    "    torch.nn.Linear(in_features=300, out_features=100),\n",
    "    torch.nn.Sigmoid(),\n",
    "    torch.nn.Linear(in_features=100, out_features=1),\n",
    "    torch.nn.Sigmoid()\n",
    ").to(device)"
   ]
  },
  {
   "cell_type": "markdown",
   "metadata": {},
   "source": [
    "Let's make some use of this network on real data.\n",
    "We are going to open a data dump containing ~5500 baby names. Each name is associated with a label (either 0 for male, or 1 for female), but also a 300-dimensional vector. Representing words as dense vectors is standard practice in NLP; you will learn more about these vectors in your first assignment. For now, we will simply use them in an attempt to teach the network to distinguish between boy and girl babies given their names, while writing some useful code in the process. 👶 🍼"
   ]
  },
  {
   "cell_type": "code",
   "execution_count": 78,
   "metadata": {},
   "outputs": [],
   "source": [
    "import pickle\n",
    "with open('name_data.p', 'rb') as file:\n",
    "    names, vectors, labels = pickle.load(file)"
   ]
  },
  {
   "cell_type": "markdown",
   "metadata": {},
   "source": [
    "What do our data look like? Run the snippet below a couple of times to get an impression."
   ]
  },
  {
   "cell_type": "code",
   "execution_count": 79,
   "metadata": {},
   "outputs": [
    {
     "name": "stdout",
     "output_type": "stream",
     "text": [
      "[['Eve' '1']\n",
      " ['Katrina' '1']\n",
      " ['Norbert' '0']\n",
      " ['Alberto' '0']\n",
      " ['Jessamine' '1']\n",
      " ['Stacey' '1']\n",
      " ['Allen' '0']\n",
      " ['Derek' '0']\n",
      " ['Stan' '0']\n",
      " ['Sydney' '0']\n",
      " ['Kelvin' '0']\n",
      " ['Kenneth' '0']\n",
      " ['Filia' '1']\n",
      " ['Carol' '1']\n",
      " ['Glenn' '1']\n",
      " ['Shay' '1']\n",
      " ['Winton' '0']\n",
      " ['Suzy' '1']\n",
      " ['Otis' '0']\n",
      " ['Jammie' '1']]\n"
     ]
    }
   ],
   "source": [
    "print(np.random.permutation(list(zip(names, labels)))[0:20])"
   ]
  },
  {
   "cell_type": "markdown",
   "metadata": {},
   "source": [
    "`vectors` is a list of numpy arrays, and `labels` is a list of integers. We will need to convert them to lists of FloatTensors. Since that is a lot of data, it is unlikely for them to all fit in the GPU, so we will use the RAM as a temporary storage regardless of your currently used device."
   ]
  },
  {
   "cell_type": "code",
   "execution_count": 80,
   "metadata": {},
   "outputs": [],
   "source": [
    "# or alternatively, vectors = [torch.tensor(vector) for vector in vectors]\n",
    "vectors = list(map(lambda x: torch.tensor(x, dtype=torch.float), vectors))\n",
    "labels = list(map(lambda x: torch.tensor(x, dtype=torch.float), labels))  \n",
    "#vectors = [torch.tensor(vector) for vector in vectors]\n",
    "#labels = [torch.tensor(labels) for label in labels]"
   ]
  },
  {
   "cell_type": "markdown",
   "metadata": {},
   "source": [
    "Training on your entire dataset is bad practice; we should split the data into a training set and a validation set. We could either do it manually, or let `sklearn` do it for us."
   ]
  },
  {
   "cell_type": "code",
   "execution_count": 81,
   "metadata": {},
   "outputs": [],
   "source": [
    "from sklearn.model_selection import train_test_split\n",
    "names_train, names_val, X_train, X_val, Y_train, Y_val = train_test_split(names, vectors, labels, test_size=0.2)\n",
    "assert len(X_train) == len(Y_train) == len(names_train)\n",
    "assert len(X_val) == len(Y_val) == len(names_val)"
   ]
  },
  {
   "cell_type": "markdown",
   "metadata": {},
   "source": [
    "Now that we have split the data, we may convert them from a list of tensors onto a big tensor. We could do that by using `view()` to expand the first dimension of each vector and then `cat()` to merge them, but an easier shorthand is `stack()`."
   ]
  },
  {
   "cell_type": "code",
   "execution_count": 82,
   "metadata": {},
   "outputs": [
    {
     "name": "stdout",
     "output_type": "stream",
     "text": [
      "torch.Size([4310, 300])\n",
      "torch.Size([1078, 300])\n",
      "torch.Size([4310])\n",
      "torch.Size([1078])\n"
     ]
    }
   ],
   "source": [
    "X_train = torch.stack(X_train)\n",
    "X_val = torch.stack(X_val)\n",
    "Y_train = torch.tensor(Y_train)\n",
    "Y_val = torch.tensor(Y_val)\n",
    "print(X_train.shape)\n",
    "print(X_val.shape)\n",
    "print(Y_train.shape)\n",
    "print(Y_val.shape)"
   ]
  },
  {
   "cell_type": "markdown",
   "metadata": {},
   "source": [
    "Now that we have our tensors in a sensible format, we may construct a Dataset (a storage unit for our data) and a DataLoader (a wrapper responsible for shuffling the data, iterating through them and converting them to batches)."
   ]
  },
  {
   "cell_type": "code",
   "execution_count": 83,
   "metadata": {},
   "outputs": [],
   "source": [
    "from torch.utils.data import TensorDataset\n",
    "from torch.utils.data import DataLoader\n",
    "\n",
    "train_dataset = TensorDataset(X_train, Y_train)\n",
    "train_dataloader = DataLoader(train_dataset, batch_size=32, shuffle=True)\n",
    "val_dataset = TensorDataset(X_val, Y_val)\n",
    "val_dataloader = DataLoader(val_dataset, batch_size=32, shuffle=False)  # no need to shuffle the validation data"
   ]
  },
  {
   "cell_type": "markdown",
   "metadata": {},
   "source": [
    "Let's begin and immediately stop an iteration through the training dataloader to get an idea of what's going on."
   ]
  },
  {
   "cell_type": "code",
   "execution_count": 84,
   "metadata": {},
   "outputs": [
    {
     "name": "stdout",
     "output_type": "stream",
     "text": [
      "torch.Size([32, 300])\n",
      "torch.float32\n",
      "torch.Size([32])\n",
      "torch.float32\n"
     ]
    }
   ],
   "source": [
    "for batch_x, batch_y in train_dataloader:\n",
    "    print(batch_x.shape)\n",
    "    print(batch_x.dtype)\n",
    "    print(batch_y.shape)\n",
    "    print(batch_y.dtype)\n",
    "    break\n"
   ]
  },
  {
   "cell_type": "markdown",
   "metadata": {},
   "source": [
    "Looking good; batch_x is 32 300-dimensional vectors, and batch_y is 32 values."
   ]
  },
  {
   "cell_type": "markdown",
   "metadata": {},
   "source": [
    "`train_batch()` is a function that takes a network, a batch of inputs, a batch of outputs, a loss function and an optimizer, runs the training routine on that batch and returns the loss value of that batch"
   ]
  },
  {
   "cell_type": "code",
   "execution_count": 102,
   "metadata": {},
   "outputs": [],
   "source": [
    "from typing import Callable, List\n",
    "\n",
    "# Callable is typed as Callable[[i1, i2, ..], o]\n",
    "# where i1, i2, .. the input types and o the output type\n",
    "\n",
    "def train_batch(network: torch.nn.Module,  # the network\n",
    "                X_batch: torch.FloatTensor,  # the X batch\n",
    "                Y_batch: torch.LongTensor,   # the Y batch\n",
    "                # a function from a FloatTensor (prediction) and a FloatTensor (Y) to a FloatTensor (the loss)\n",
    "                loss_fn: Callable[[torch.FloatTensor, torch.FloatTensor], torch.FloatTensor],  \n",
    "                # the optimizer\n",
    "                optimizer: torch.optim.Optimizer) -> float:\n",
    "    \n",
    "    network.train()\n",
    "    \n",
    "    prediction_batch = network(X_batch)  # forward pass\n",
    "    print(prediction_batch.shape,prediction_batch.view(-1).shape, Y_batch.shape)\n",
    "    batch_loss = loss_fn(prediction_batch.view(-1), Y_batch)  # loss calculation\n",
    "    batch_loss.backward()  # gradient computation\n",
    "    optimizer.step()  # back-propagation\n",
    "    optimizer.zero_grad()  # gradient reset\n",
    "    return batch_loss.item()"
   ]
  },
  {
   "cell_type": "markdown",
   "metadata": {},
   "source": [
    "<div class=\"alert alert-block alert-info\">\n",
    "<b>Note:</b> Several network components (e.g. dropout units) may behave differently during training and validation. We use `.train()` to inform the network that we are in training time.\n",
    "</div>\n",
    "\n",
    "<div class=\"alert alert-block alert-warning\">\n",
    "<b>Warning:</b>\n",
    "The `batch_loss` tensor requires gradient (why?). It is important to return its contents with `.item()` rather than the tensor itself, otherwise we risk memory leak because of the accumulated gradient tracking.\n",
    "</div>"
   ]
  },
  {
   "cell_type": "markdown",
   "metadata": {},
   "source": [
    "`train_epoch()` is a function that takes a network, the training dataloader, a loss function and an optimizer. It iterates through the dataloader and is responsible for calling `train_batch()`."
   ]
  },
  {
   "cell_type": "code",
   "execution_count": 94,
   "metadata": {},
   "outputs": [],
   "source": [
    "def train_epoch(network: torch.nn.Module, \n",
    "                # a list of data points x\n",
    "                dataloader: DataLoader,\n",
    "                loss_fn: Callable[[torch.FloatTensor, torch.FloatTensor], torch.FloatTensor],\n",
    "                optimizer: torch.optim.Optimizer, \n",
    "                device: str) -> float:\n",
    "    \n",
    "    loss = 0.\n",
    "    \n",
    "    for i, (x_batch, y_batch) in enumerate(dataloader):\n",
    "        x_batch = x_batch.to(device)  # convert back to your chosen device\n",
    "        y_batch = y_batch.to(device)\n",
    "        loss += train_batch(network=network, X_batch=x_batch, Y_batch=y_batch, loss_fn=loss_fn, optimizer=optimizer)\n",
    "    loss /= (i+1) # divide loss by number of batches for consistency \n",
    "        \n",
    "    return loss"
   ]
  },
  {
   "cell_type": "markdown",
   "metadata": {},
   "source": [
    "Your turn; fill in the missing parts of `eval_batch()`, a function that takes a network, a batch of inputs, a batch of outputs and a loss function, and computes the loss of that batch."
   ]
  },
  {
   "cell_type": "code",
   "execution_count": 95,
   "metadata": {},
   "outputs": [],
   "source": [
    "def eval_batch(network: torch.nn.Module,  # the network\n",
    "                X_batch: torch.FloatTensor,  # the X batch\n",
    "                Y_batch: torch.LongTensor,   # the Y batch\n",
    "                loss_fn: Callable[[torch.FloatTensor, torch.LongTensor], torch.FloatTensor]) -> float:\n",
    "    \n",
    "    network.eval()\n",
    "    \n",
    "    #because we are in eval mode no backprop is needed\n",
    "    with torch.no_grad(): \n",
    "        prediction_batch = network(X_batch)  # forward pass\n",
    "        batch_loss = loss_fn(prediction_batch.view(-1), Y_batch)  # loss calculation\n",
    "    \n",
    "    return batch_loss.item()"
   ]
  },
  {
   "cell_type": "markdown",
   "metadata": {},
   "source": [
    "<div class=\"alert alert-block alert-info\">\n",
    "<b>Note:</b> Notice that we use `.eval()` to inform the network we are in validation time. Notice also the `no_grad()` context; this is telling torch that it doesn't need to bother with gradient tracking momentarily, providing a significant speed-up for the current session.\n",
    "</div>"
   ]
  },
  {
   "cell_type": "markdown",
   "metadata": {},
   "source": [
    "`eval_epoch()` is basically the same as `train_epoch()`, aside the lack of an optimizer. Fill it in."
   ]
  },
  {
   "cell_type": "code",
   "execution_count": 96,
   "metadata": {},
   "outputs": [],
   "source": [
    "def eval_epoch(network: torch.nn.Module, \n",
    "                # a list of data points x\n",
    "                dataloader: DataLoader,\n",
    "                loss_fn: Callable[[torch.FloatTensor, torch.LongTensor], torch.FloatTensor],\n",
    "                device: str) -> float:\n",
    "        \n",
    "    loss = 0.\n",
    "    \n",
    "    # Copied from above with modification due to being eval mode and not training\n",
    "    for i, (x_batch, y_batch) in enumerate(dataloader):\n",
    "        x_batch = x_batch.to(device)  # convert back to your chosen device\n",
    "        y_batch = y_batch.to(device)\n",
    "        loss += eval_batch(network=network, X_batch=x_batch, Y_batch=y_batch, loss_fn=loss_fn)\n",
    "    loss /= (i+1) # divide loss by number of batches for consistency \n",
    "        \n",
    "    return loss"
   ]
  },
  {
   "cell_type": "markdown",
   "metadata": {},
   "source": [
    "We can also make an auxilliary `infer_batch()` function; the forward pass gives us the final layer's output, but we might just be interested in the predicted class rather than its probability."
   ]
  },
  {
   "cell_type": "code",
   "execution_count": 97,
   "metadata": {},
   "outputs": [],
   "source": [
    "def infer_batch(network: torch.nn.Module, \n",
    "                batch_x: torch.FloatTensor, \n",
    "                device: str) -> torch.LongTensor:\n",
    "    \n",
    "    # first apply the sigmoid activation (since it is implemented by the loss function rather than the network itself)\n",
    "    sigm = torch.sigmoid(network(batch_x.to(device)))\n",
    "    # round the result\n",
    "    classes = torch.round(sigm)\n",
    "    # detach it from the computation graph (we no longer care about its gradients)\n",
    "    classes = classes.detach()\n",
    "    # cast the result into a LongTensor and return\n",
    "    return classes.to(torch.long)"
   ]
  },
  {
   "cell_type": "markdown",
   "metadata": {},
   "source": [
    "One last thing before we can finally train; we need a loss function and an optimizer. "
   ]
  },
  {
   "cell_type": "code",
   "execution_count": 98,
   "metadata": {},
   "outputs": [],
   "source": [
    "opt = torch.optim.Adam(f.parameters(), lr=1e-05)\n",
    "loss_fn = torch.nn.BCEWithLogitsLoss(reduction='mean')"
   ]
  },
  {
   "cell_type": "code",
   "execution_count": 101,
   "metadata": {},
   "outputs": [
    {
     "name": "stdout",
     "output_type": "stream",
     "text": [
      "torch.Size([32, 1]) torch.Size([32]) torch.Size([32])\n",
      "torch.Size([32, 1]) torch.Size([32]) torch.Size([32])\n",
      "torch.Size([32, 1]) torch.Size([32]) torch.Size([32])\n",
      "torch.Size([32, 1]) torch.Size([32]) torch.Size([32])\n",
      "torch.Size([32, 1]) torch.Size([32]) torch.Size([32])\n",
      "torch.Size([32, 1]) torch.Size([32]) torch.Size([32])\n",
      "torch.Size([32, 1]) torch.Size([32]) torch.Size([32])\n",
      "torch.Size([32, 1]) torch.Size([32]) torch.Size([32])\n",
      "torch.Size([32, 1]) torch.Size([32]) torch.Size([32])\n",
      "torch.Size([32, 1]) torch.Size([32]) torch.Size([32])\n",
      "torch.Size([32, 1]) torch.Size([32]) torch.Size([32])\n",
      "torch.Size([32, 1]) torch.Size([32]) torch.Size([32])\n",
      "torch.Size([32, 1]) torch.Size([32]) torch.Size([32])\n",
      "torch.Size([32, 1]) torch.Size([32]) torch.Size([32])\n",
      "torch.Size([32, 1]) torch.Size([32]) torch.Size([32])\n",
      "torch.Size([32, 1]) torch.Size([32]) torch.Size([32])\n",
      "torch.Size([32, 1]) torch.Size([32]) torch.Size([32])\n",
      "torch.Size([32, 1]) torch.Size([32]) torch.Size([32])\n",
      "torch.Size([32, 1]) torch.Size([32]) torch.Size([32])\n",
      "torch.Size([32, 1]) torch.Size([32]) torch.Size([32])\n",
      "torch.Size([32, 1]) torch.Size([32]) torch.Size([32])\n",
      "torch.Size([32, 1]) torch.Size([32]) torch.Size([32])\n",
      "torch.Size([32, 1]) torch.Size([32]) torch.Size([32])\n",
      "torch.Size([32, 1]) torch.Size([32]) torch.Size([32])\n",
      "torch.Size([32, 1]) torch.Size([32]) torch.Size([32])\n",
      "torch.Size([32, 1]) torch.Size([32]) torch.Size([32])\n",
      "torch.Size([32, 1]) torch.Size([32]) torch.Size([32])\n",
      "torch.Size([32, 1]) torch.Size([32]) torch.Size([32])\n",
      "torch.Size([32, 1]) torch.Size([32]) torch.Size([32])\n",
      "torch.Size([32, 1]) torch.Size([32]) torch.Size([32])\n",
      "torch.Size([32, 1]) torch.Size([32]) torch.Size([32])\n",
      "torch.Size([32, 1]) torch.Size([32]) torch.Size([32])\n",
      "torch.Size([32, 1]) torch.Size([32]) torch.Size([32])\n",
      "torch.Size([32, 1]) torch.Size([32]) torch.Size([32])\n",
      "torch.Size([32, 1]) torch.Size([32]) torch.Size([32])\n",
      "torch.Size([32, 1]) torch.Size([32]) torch.Size([32])\n",
      "torch.Size([32, 1]) torch.Size([32]) torch.Size([32])\n",
      "torch.Size([32, 1]) torch.Size([32]) torch.Size([32])\n",
      "torch.Size([32, 1]) torch.Size([32]) torch.Size([32])\n",
      "torch.Size([32, 1]) torch.Size([32]) torch.Size([32])\n",
      "torch.Size([32, 1]) torch.Size([32]) torch.Size([32])\n",
      "torch.Size([32, 1]) torch.Size([32]) torch.Size([32])\n",
      "torch.Size([32, 1]) torch.Size([32]) torch.Size([32])\n",
      "torch.Size([32, 1]) torch.Size([32]) torch.Size([32])\n",
      "torch.Size([32, 1]) torch.Size([32]) torch.Size([32])\n",
      "torch.Size([32, 1]) torch.Size([32]) torch.Size([32])\n",
      "torch.Size([32, 1]) torch.Size([32]) torch.Size([32])\n",
      "torch.Size([32, 1]) torch.Size([32]) torch.Size([32])\n",
      "torch.Size([32, 1]) torch.Size([32]) torch.Size([32])\n",
      "torch.Size([32, 1]) torch.Size([32]) torch.Size([32])\n",
      "torch.Size([32, 1]) torch.Size([32]) torch.Size([32])\n",
      "torch.Size([32, 1]) torch.Size([32]) torch.Size([32])\n",
      "torch.Size([32, 1]) torch.Size([32]) torch.Size([32])\n",
      "torch.Size([32, 1]) torch.Size([32]) torch.Size([32])\n",
      "torch.Size([32, 1]) torch.Size([32]) torch.Size([32])\n",
      "torch.Size([32, 1]) torch.Size([32]) torch.Size([32])\n",
      "torch.Size([32, 1]) torch.Size([32]) torch.Size([32])\n",
      "torch.Size([32, 1]) torch.Size([32]) torch.Size([32])\n",
      "torch.Size([32, 1]) torch.Size([32]) torch.Size([32])\n",
      "torch.Size([32, 1]) torch.Size([32]) torch.Size([32])\n",
      "torch.Size([32, 1]) torch.Size([32]) torch.Size([32])\n",
      "torch.Size([32, 1]) torch.Size([32]) torch.Size([32])\n",
      "torch.Size([32, 1]) torch.Size([32]) torch.Size([32])\n",
      "torch.Size([32, 1]) torch.Size([32]) torch.Size([32])\n",
      "torch.Size([32, 1]) torch.Size([32]) torch.Size([32])\n",
      "torch.Size([32, 1]) torch.Size([32]) torch.Size([32])\n",
      "torch.Size([32, 1]) torch.Size([32]) torch.Size([32])\n",
      "torch.Size([32, 1]) torch.Size([32]) torch.Size([32])\n",
      "torch.Size([32, 1]) torch.Size([32]) torch.Size([32])\n",
      "torch.Size([32, 1]) torch.Size([32]) torch.Size([32])\n",
      "torch.Size([32, 1]) torch.Size([32]) torch.Size([32])\n",
      "torch.Size([32, 1]) torch.Size([32]) torch.Size([32])\n",
      "torch.Size([32, 1]) torch.Size([32]) torch.Size([32])\n",
      "torch.Size([32, 1]) torch.Size([32]) torch.Size([32])\n",
      "torch.Size([32, 1]) torch.Size([32]) torch.Size([32])\n",
      "torch.Size([32, 1]) torch.Size([32]) torch.Size([32])\n",
      "torch.Size([32, 1]) torch.Size([32]) torch.Size([32])\n",
      "torch.Size([32, 1]) torch.Size([32]) torch.Size([32])\n",
      "torch.Size([32, 1]) torch.Size([32]) torch.Size([32])\n",
      "torch.Size([32, 1]) torch.Size([32]) torch.Size([32])\n",
      "torch.Size([32, 1]) torch.Size([32]) torch.Size([32])\n",
      "torch.Size([32, 1]) torch.Size([32]) torch.Size([32])\n",
      "torch.Size([32, 1]) torch.Size([32]) torch.Size([32])\n",
      "torch.Size([32, 1]) torch.Size([32]) torch.Size([32])\n",
      "torch.Size([32, 1]) torch.Size([32]) torch.Size([32])\n",
      "torch.Size([32, 1]) torch.Size([32]) torch.Size([32])\n",
      "torch.Size([32, 1]) torch.Size([32]) torch.Size([32])\n",
      "torch.Size([32, 1]) torch.Size([32]) torch.Size([32])\n",
      "torch.Size([32, 1]) torch.Size([32]) torch.Size([32])\n",
      "torch.Size([32, 1]) torch.Size([32]) torch.Size([32])\n",
      "torch.Size([32, 1]) torch.Size([32]) torch.Size([32])\n",
      "torch.Size([32, 1]) torch.Size([32]) torch.Size([32])\n",
      "torch.Size([32, 1]) torch.Size([32]) torch.Size([32])\n",
      "torch.Size([32, 1]) torch.Size([32]) torch.Size([32])\n",
      "torch.Size([32, 1]) torch.Size([32]) torch.Size([32])\n",
      "torch.Size([32, 1]) torch.Size([32]) torch.Size([32])\n",
      "torch.Size([32, 1]) torch.Size([32]) torch.Size([32])\n",
      "torch.Size([32, 1]) torch.Size([32]) torch.Size([32])\n",
      "torch.Size([32, 1]) torch.Size([32]) torch.Size([32])\n",
      "torch.Size([32, 1]) torch.Size([32]) torch.Size([32])\n",
      "torch.Size([32, 1]) torch.Size([32]) torch.Size([32])\n",
      "torch.Size([32, 1]) torch.Size([32]) torch.Size([32])\n",
      "torch.Size([32, 1]) torch.Size([32]) torch.Size([32])\n",
      "torch.Size([32, 1]) torch.Size([32]) torch.Size([32])\n",
      "torch.Size([32, 1]) torch.Size([32]) torch.Size([32])\n",
      "torch.Size([32, 1]) torch.Size([32]) torch.Size([32])\n",
      "torch.Size([32, 1]) torch.Size([32]) torch.Size([32])\n",
      "torch.Size([32, 1]) torch.Size([32]) torch.Size([32])\n",
      "torch.Size([32, 1]) torch.Size([32]) torch.Size([32])\n",
      "torch.Size([32, 1]) torch.Size([32]) torch.Size([32])\n",
      "torch.Size([32, 1]) torch.Size([32]) torch.Size([32])\n",
      "torch.Size([32, 1]) torch.Size([32]) torch.Size([32])\n",
      "torch.Size([32, 1]) torch.Size([32]) torch.Size([32])\n",
      "torch.Size([32, 1]) torch.Size([32]) torch.Size([32])\n",
      "torch.Size([32, 1]) torch.Size([32]) torch.Size([32])\n",
      "torch.Size([32, 1]) torch.Size([32]) torch.Size([32])\n",
      "torch.Size([32, 1]) torch.Size([32]) torch.Size([32])\n",
      "torch.Size([32, 1]) torch.Size([32]) torch.Size([32])\n",
      "torch.Size([32, 1]) torch.Size([32]) torch.Size([32])\n",
      "torch.Size([32, 1]) torch.Size([32]) torch.Size([32])\n",
      "torch.Size([32, 1]) torch.Size([32]) torch.Size([32])\n",
      "torch.Size([32, 1]) torch.Size([32]) torch.Size([32])\n",
      "torch.Size([32, 1]) torch.Size([32]) torch.Size([32])\n",
      "torch.Size([32, 1]) torch.Size([32]) torch.Size([32])\n",
      "torch.Size([32, 1]) torch.Size([32]) torch.Size([32])\n",
      "torch.Size([32, 1]) torch.Size([32]) torch.Size([32])\n",
      "torch.Size([32, 1]) torch.Size([32]) torch.Size([32])\n",
      "torch.Size([32, 1]) torch.Size([32]) torch.Size([32])\n",
      "torch.Size([32, 1]) torch.Size([32]) torch.Size([32])\n",
      "torch.Size([32, 1]) torch.Size([32]) torch.Size([32])\n",
      "torch.Size([32, 1]) torch.Size([32]) torch.Size([32])\n",
      "torch.Size([32, 1]) torch.Size([32]) torch.Size([32])\n",
      "torch.Size([32, 1]) torch.Size([32]) torch.Size([32])\n",
      "torch.Size([32, 1]) torch.Size([32]) torch.Size([32])\n",
      "torch.Size([22, 1]) torch.Size([22]) torch.Size([22])\n",
      "Epoch 0\n",
      " Training Loss: 0.6762428831171107\n",
      " Validation Loss: 0.6792886467540965\n",
      "torch.Size([32, 1]) torch.Size([32]) torch.Size([32])\n",
      "torch.Size([32, 1]) torch.Size([32]) torch.Size([32])\n",
      "torch.Size([32, 1]) torch.Size([32]) torch.Size([32])\n",
      "torch.Size([32, 1]) torch.Size([32]) torch.Size([32])\n",
      "torch.Size([32, 1]) torch.Size([32]) torch.Size([32])\n",
      "torch.Size([32, 1]) torch.Size([32]) torch.Size([32])\n",
      "torch.Size([32, 1]) torch.Size([32]) torch.Size([32])\n",
      "torch.Size([32, 1]) torch.Size([32]) torch.Size([32])\n",
      "torch.Size([32, 1]) torch.Size([32]) torch.Size([32])\n",
      "torch.Size([32, 1]) torch.Size([32]) torch.Size([32])\n",
      "torch.Size([32, 1]) torch.Size([32]) torch.Size([32])\n",
      "torch.Size([32, 1]) torch.Size([32]) torch.Size([32])\n",
      "torch.Size([32, 1]) torch.Size([32]) torch.Size([32])\n",
      "torch.Size([32, 1]) torch.Size([32]) torch.Size([32])\n",
      "torch.Size([32, 1]) torch.Size([32]) torch.Size([32])\n",
      "torch.Size([32, 1]) torch.Size([32]) torch.Size([32])\n",
      "torch.Size([32, 1]) torch.Size([32]) torch.Size([32])\n",
      "torch.Size([32, 1]) torch.Size([32]) torch.Size([32])\n",
      "torch.Size([32, 1]) torch.Size([32]) torch.Size([32])\n",
      "torch.Size([32, 1]) torch.Size([32]) torch.Size([32])\n",
      "torch.Size([32, 1]) torch.Size([32]) torch.Size([32])\n",
      "torch.Size([32, 1]) torch.Size([32]) torch.Size([32])\n",
      "torch.Size([32, 1]) torch.Size([32]) torch.Size([32])\n",
      "torch.Size([32, 1]) torch.Size([32]) torch.Size([32])\n",
      "torch.Size([32, 1]) torch.Size([32]) torch.Size([32])\n",
      "torch.Size([32, 1]) torch.Size([32]) torch.Size([32])\n",
      "torch.Size([32, 1]) torch.Size([32]) torch.Size([32])\n",
      "torch.Size([32, 1]) torch.Size([32]) torch.Size([32])\n",
      "torch.Size([32, 1]) torch.Size([32]) torch.Size([32])\n",
      "torch.Size([32, 1]) torch.Size([32]) torch.Size([32])\n",
      "torch.Size([32, 1]) torch.Size([32]) torch.Size([32])\n",
      "torch.Size([32, 1]) torch.Size([32]) torch.Size([32])\n",
      "torch.Size([32, 1]) torch.Size([32]) torch.Size([32])\n",
      "torch.Size([32, 1]) torch.Size([32]) torch.Size([32])\n",
      "torch.Size([32, 1]) torch.Size([32]) torch.Size([32])\n",
      "torch.Size([32, 1]) torch.Size([32]) torch.Size([32])\n",
      "torch.Size([32, 1]) torch.Size([32]) torch.Size([32])\n",
      "torch.Size([32, 1]) torch.Size([32]) torch.Size([32])\n",
      "torch.Size([32, 1]) torch.Size([32]) torch.Size([32])\n",
      "torch.Size([32, 1]) torch.Size([32]) torch.Size([32])\n",
      "torch.Size([32, 1]) torch.Size([32]) torch.Size([32])\n",
      "torch.Size([32, 1]) torch.Size([32]) torch.Size([32])\n",
      "torch.Size([32, 1]) torch.Size([32]) torch.Size([32])\n",
      "torch.Size([32, 1]) torch.Size([32]) torch.Size([32])\n",
      "torch.Size([32, 1]) torch.Size([32]) torch.Size([32])\n",
      "torch.Size([32, 1]) torch.Size([32]) torch.Size([32])\n"
     ]
    },
    {
     "name": "stdout",
     "output_type": "stream",
     "text": [
      "torch.Size([32, 1]) torch.Size([32]) torch.Size([32])\n",
      "torch.Size([32, 1]) torch.Size([32]) torch.Size([32])\n",
      "torch.Size([32, 1]) torch.Size([32]) torch.Size([32])\n",
      "torch.Size([32, 1]) torch.Size([32]) torch.Size([32])\n",
      "torch.Size([32, 1]) torch.Size([32]) torch.Size([32])\n",
      "torch.Size([32, 1]) torch.Size([32]) torch.Size([32])\n",
      "torch.Size([32, 1]) torch.Size([32]) torch.Size([32])\n",
      "torch.Size([32, 1]) torch.Size([32]) torch.Size([32])\n",
      "torch.Size([32, 1]) torch.Size([32]) torch.Size([32])\n",
      "torch.Size([32, 1]) torch.Size([32]) torch.Size([32])\n",
      "torch.Size([32, 1]) torch.Size([32]) torch.Size([32])\n",
      "torch.Size([32, 1]) torch.Size([32]) torch.Size([32])\n",
      "torch.Size([32, 1]) torch.Size([32]) torch.Size([32])\n",
      "torch.Size([32, 1]) torch.Size([32]) torch.Size([32])\n",
      "torch.Size([32, 1]) torch.Size([32]) torch.Size([32])\n",
      "torch.Size([32, 1]) torch.Size([32]) torch.Size([32])\n",
      "torch.Size([32, 1]) torch.Size([32]) torch.Size([32])\n",
      "torch.Size([32, 1]) torch.Size([32]) torch.Size([32])\n",
      "torch.Size([32, 1]) torch.Size([32]) torch.Size([32])\n",
      "torch.Size([32, 1]) torch.Size([32]) torch.Size([32])\n",
      "torch.Size([32, 1]) torch.Size([32]) torch.Size([32])\n",
      "torch.Size([32, 1]) torch.Size([32]) torch.Size([32])\n",
      "torch.Size([32, 1]) torch.Size([32]) torch.Size([32])\n",
      "torch.Size([32, 1]) torch.Size([32]) torch.Size([32])\n",
      "torch.Size([32, 1]) torch.Size([32]) torch.Size([32])\n",
      "torch.Size([32, 1]) torch.Size([32]) torch.Size([32])\n",
      "torch.Size([32, 1]) torch.Size([32]) torch.Size([32])\n",
      "torch.Size([32, 1]) torch.Size([32]) torch.Size([32])\n",
      "torch.Size([32, 1]) torch.Size([32]) torch.Size([32])\n",
      "torch.Size([32, 1]) torch.Size([32]) torch.Size([32])\n",
      "torch.Size([32, 1]) torch.Size([32]) torch.Size([32])\n",
      "torch.Size([32, 1]) torch.Size([32]) torch.Size([32])\n",
      "torch.Size([32, 1]) torch.Size([32]) torch.Size([32])\n",
      "torch.Size([32, 1]) torch.Size([32]) torch.Size([32])\n",
      "torch.Size([32, 1]) torch.Size([32]) torch.Size([32])\n",
      "torch.Size([32, 1]) torch.Size([32]) torch.Size([32])\n",
      "torch.Size([32, 1]) torch.Size([32]) torch.Size([32])\n",
      "torch.Size([32, 1]) torch.Size([32]) torch.Size([32])\n",
      "torch.Size([32, 1]) torch.Size([32]) torch.Size([32])\n",
      "torch.Size([32, 1]) torch.Size([32]) torch.Size([32])\n",
      "torch.Size([32, 1]) torch.Size([32]) torch.Size([32])\n",
      "torch.Size([32, 1]) torch.Size([32]) torch.Size([32])\n",
      "torch.Size([32, 1]) torch.Size([32]) torch.Size([32])\n",
      "torch.Size([32, 1]) torch.Size([32]) torch.Size([32])\n",
      "torch.Size([32, 1]) torch.Size([32]) torch.Size([32])\n",
      "torch.Size([32, 1]) torch.Size([32]) torch.Size([32])\n",
      "torch.Size([32, 1]) torch.Size([32]) torch.Size([32])\n",
      "torch.Size([32, 1]) torch.Size([32]) torch.Size([32])\n",
      "torch.Size([32, 1]) torch.Size([32]) torch.Size([32])\n",
      "torch.Size([32, 1]) torch.Size([32]) torch.Size([32])\n",
      "torch.Size([32, 1]) torch.Size([32]) torch.Size([32])\n",
      "torch.Size([32, 1]) torch.Size([32]) torch.Size([32])\n",
      "torch.Size([32, 1]) torch.Size([32]) torch.Size([32])\n",
      "torch.Size([32, 1]) torch.Size([32]) torch.Size([32])\n",
      "torch.Size([32, 1]) torch.Size([32]) torch.Size([32])\n",
      "torch.Size([32, 1]) torch.Size([32]) torch.Size([32])\n",
      "torch.Size([32, 1]) torch.Size([32]) torch.Size([32])\n",
      "torch.Size([32, 1]) torch.Size([32]) torch.Size([32])\n",
      "torch.Size([32, 1]) torch.Size([32]) torch.Size([32])\n",
      "torch.Size([32, 1]) torch.Size([32]) torch.Size([32])\n",
      "torch.Size([32, 1]) torch.Size([32]) torch.Size([32])\n",
      "torch.Size([32, 1]) torch.Size([32]) torch.Size([32])\n",
      "torch.Size([32, 1]) torch.Size([32]) torch.Size([32])\n",
      "torch.Size([32, 1]) torch.Size([32]) torch.Size([32])\n",
      "torch.Size([32, 1]) torch.Size([32]) torch.Size([32])\n",
      "torch.Size([32, 1]) torch.Size([32]) torch.Size([32])\n",
      "torch.Size([32, 1]) torch.Size([32]) torch.Size([32])\n",
      "torch.Size([32, 1]) torch.Size([32]) torch.Size([32])\n",
      "torch.Size([32, 1]) torch.Size([32]) torch.Size([32])\n",
      "torch.Size([32, 1]) torch.Size([32]) torch.Size([32])\n",
      "torch.Size([32, 1]) torch.Size([32]) torch.Size([32])\n",
      "torch.Size([32, 1]) torch.Size([32]) torch.Size([32])\n",
      "torch.Size([32, 1]) torch.Size([32]) torch.Size([32])\n",
      "torch.Size([32, 1]) torch.Size([32]) torch.Size([32])\n",
      "torch.Size([32, 1]) torch.Size([32]) torch.Size([32])\n",
      "torch.Size([32, 1]) torch.Size([32]) torch.Size([32])\n",
      "torch.Size([32, 1]) torch.Size([32]) torch.Size([32])\n",
      "torch.Size([32, 1]) torch.Size([32]) torch.Size([32])\n",
      "torch.Size([32, 1]) torch.Size([32]) torch.Size([32])\n",
      "torch.Size([32, 1]) torch.Size([32]) torch.Size([32])\n",
      "torch.Size([32, 1]) torch.Size([32]) torch.Size([32])\n",
      "torch.Size([32, 1]) torch.Size([32]) torch.Size([32])\n",
      "torch.Size([32, 1]) torch.Size([32]) torch.Size([32])\n",
      "torch.Size([32, 1]) torch.Size([32]) torch.Size([32])\n",
      "torch.Size([32, 1]) torch.Size([32]) torch.Size([32])\n",
      "torch.Size([32, 1]) torch.Size([32]) torch.Size([32])\n",
      "torch.Size([32, 1]) torch.Size([32]) torch.Size([32])\n",
      "torch.Size([32, 1]) torch.Size([32]) torch.Size([32])\n",
      "torch.Size([22, 1]) torch.Size([22]) torch.Size([22])\n",
      "Epoch 1\n",
      " Training Loss: 0.6751423504617479\n",
      " Validation Loss: 0.678404350491131\n",
      "torch.Size([32, 1]) torch.Size([32]) torch.Size([32])\n",
      "torch.Size([32, 1]) torch.Size([32]) torch.Size([32])\n",
      "torch.Size([32, 1]) torch.Size([32]) torch.Size([32])\n",
      "torch.Size([32, 1]) torch.Size([32]) torch.Size([32])\n",
      "torch.Size([32, 1]) torch.Size([32]) torch.Size([32])\n",
      "torch.Size([32, 1]) torch.Size([32]) torch.Size([32])\n",
      "torch.Size([32, 1]) torch.Size([32]) torch.Size([32])\n",
      "torch.Size([32, 1]) torch.Size([32]) torch.Size([32])\n",
      "torch.Size([32, 1]) torch.Size([32]) torch.Size([32])\n",
      "torch.Size([32, 1]) torch.Size([32]) torch.Size([32])\n",
      "torch.Size([32, 1]) torch.Size([32]) torch.Size([32])\n",
      "torch.Size([32, 1]) torch.Size([32]) torch.Size([32])\n",
      "torch.Size([32, 1]) torch.Size([32]) torch.Size([32])\n",
      "torch.Size([32, 1]) torch.Size([32]) torch.Size([32])\n",
      "torch.Size([32, 1]) torch.Size([32]) torch.Size([32])\n",
      "torch.Size([32, 1]) torch.Size([32]) torch.Size([32])\n",
      "torch.Size([32, 1]) torch.Size([32]) torch.Size([32])\n",
      "torch.Size([32, 1]) torch.Size([32]) torch.Size([32])\n",
      "torch.Size([32, 1]) torch.Size([32]) torch.Size([32])\n",
      "torch.Size([32, 1]) torch.Size([32]) torch.Size([32])\n",
      "torch.Size([32, 1]) torch.Size([32]) torch.Size([32])\n",
      "torch.Size([32, 1]) torch.Size([32]) torch.Size([32])\n",
      "torch.Size([32, 1]) torch.Size([32]) torch.Size([32])\n",
      "torch.Size([32, 1]) torch.Size([32]) torch.Size([32])\n",
      "torch.Size([32, 1]) torch.Size([32]) torch.Size([32])\n",
      "torch.Size([32, 1]) torch.Size([32]) torch.Size([32])\n",
      "torch.Size([32, 1]) torch.Size([32]) torch.Size([32])\n",
      "torch.Size([32, 1]) torch.Size([32]) torch.Size([32])\n",
      "torch.Size([32, 1]) torch.Size([32]) torch.Size([32])\n",
      "torch.Size([32, 1]) torch.Size([32]) torch.Size([32])\n",
      "torch.Size([32, 1]) torch.Size([32]) torch.Size([32])\n",
      "torch.Size([32, 1]) torch.Size([32]) torch.Size([32])\n",
      "torch.Size([32, 1]) torch.Size([32]) torch.Size([32])\n",
      "torch.Size([32, 1]) torch.Size([32]) torch.Size([32])\n",
      "torch.Size([32, 1]) torch.Size([32]) torch.Size([32])\n",
      "torch.Size([32, 1]) torch.Size([32]) torch.Size([32])\n",
      "torch.Size([32, 1]) torch.Size([32]) torch.Size([32])\n",
      "torch.Size([32, 1]) torch.Size([32]) torch.Size([32])\n",
      "torch.Size([32, 1]) torch.Size([32]) torch.Size([32])\n",
      "torch.Size([32, 1]) torch.Size([32]) torch.Size([32])\n",
      "torch.Size([32, 1]) torch.Size([32]) torch.Size([32])\n",
      "torch.Size([32, 1]) torch.Size([32]) torch.Size([32])\n",
      "torch.Size([32, 1]) torch.Size([32]) torch.Size([32])\n",
      "torch.Size([32, 1]) torch.Size([32]) torch.Size([32])\n",
      "torch.Size([32, 1]) torch.Size([32]) torch.Size([32])\n",
      "torch.Size([32, 1]) torch.Size([32]) torch.Size([32])\n",
      "torch.Size([32, 1]) torch.Size([32]) torch.Size([32])\n",
      "torch.Size([32, 1]) torch.Size([32]) torch.Size([32])\n",
      "torch.Size([32, 1]) torch.Size([32]) torch.Size([32])\n",
      "torch.Size([32, 1]) torch.Size([32]) torch.Size([32])\n",
      "torch.Size([32, 1]) torch.Size([32]) torch.Size([32])\n",
      "torch.Size([32, 1]) torch.Size([32]) torch.Size([32])\n",
      "torch.Size([32, 1]) torch.Size([32]) torch.Size([32])\n",
      "torch.Size([32, 1]) torch.Size([32]) torch.Size([32])\n",
      "torch.Size([32, 1]) torch.Size([32]) torch.Size([32])\n",
      "torch.Size([32, 1]) torch.Size([32]) torch.Size([32])\n",
      "torch.Size([32, 1]) torch.Size([32]) torch.Size([32])\n",
      "torch.Size([32, 1]) torch.Size([32]) torch.Size([32])\n",
      "torch.Size([32, 1]) torch.Size([32]) torch.Size([32])\n",
      "torch.Size([32, 1]) torch.Size([32]) torch.Size([32])\n",
      "torch.Size([32, 1]) torch.Size([32]) torch.Size([32])\n",
      "torch.Size([32, 1]) torch.Size([32]) torch.Size([32])\n",
      "torch.Size([32, 1]) torch.Size([32]) torch.Size([32])\n"
     ]
    },
    {
     "ename": "KeyboardInterrupt",
     "evalue": "",
     "output_type": "error",
     "traceback": [
      "\u001b[0;31m---------------------------------------------------------------------------\u001b[0m",
      "\u001b[0;31mKeyboardInterrupt\u001b[0m                         Traceback (most recent call last)",
      "\u001b[0;32m<ipython-input-101-a9d375a3a195>\u001b[0m in \u001b[0;36m<module>\u001b[0;34m\u001b[0m\n\u001b[1;32m      5\u001b[0m \u001b[0;34m\u001b[0m\u001b[0m\n\u001b[1;32m      6\u001b[0m \u001b[0;32mfor\u001b[0m \u001b[0mt\u001b[0m \u001b[0;32min\u001b[0m \u001b[0mrange\u001b[0m\u001b[0;34m(\u001b[0m\u001b[0mNUM_EPOCHS\u001b[0m\u001b[0;34m)\u001b[0m\u001b[0;34m:\u001b[0m\u001b[0;34m\u001b[0m\u001b[0;34m\u001b[0m\u001b[0m\n\u001b[0;32m----> 7\u001b[0;31m     \u001b[0mtrain_loss\u001b[0m \u001b[0;34m=\u001b[0m \u001b[0mtrain_epoch\u001b[0m\u001b[0;34m(\u001b[0m\u001b[0mf\u001b[0m\u001b[0;34m,\u001b[0m \u001b[0mtrain_dataloader\u001b[0m\u001b[0;34m,\u001b[0m \u001b[0moptimizer\u001b[0m\u001b[0;34m=\u001b[0m\u001b[0mopt\u001b[0m\u001b[0;34m,\u001b[0m \u001b[0mloss_fn\u001b[0m\u001b[0;34m=\u001b[0m\u001b[0mloss_fn\u001b[0m\u001b[0;34m,\u001b[0m \u001b[0mdevice\u001b[0m\u001b[0;34m=\u001b[0m\u001b[0mdevice\u001b[0m\u001b[0;34m)\u001b[0m\u001b[0;34m\u001b[0m\u001b[0;34m\u001b[0m\u001b[0m\n\u001b[0m\u001b[1;32m      8\u001b[0m     \u001b[0mval_loss\u001b[0m \u001b[0;34m=\u001b[0m \u001b[0meval_epoch\u001b[0m\u001b[0;34m(\u001b[0m\u001b[0mf\u001b[0m\u001b[0;34m,\u001b[0m \u001b[0mval_dataloader\u001b[0m\u001b[0;34m,\u001b[0m \u001b[0mloss_fn\u001b[0m\u001b[0;34m,\u001b[0m \u001b[0mdevice\u001b[0m\u001b[0;34m=\u001b[0m\u001b[0mdevice\u001b[0m\u001b[0;34m)\u001b[0m\u001b[0;34m\u001b[0m\u001b[0;34m\u001b[0m\u001b[0m\n\u001b[1;32m      9\u001b[0m \u001b[0;34m\u001b[0m\u001b[0m\n",
      "\u001b[0;32m<ipython-input-94-2e27a6d1ea06>\u001b[0m in \u001b[0;36mtrain_epoch\u001b[0;34m(network, dataloader, loss_fn, optimizer, device)\u001b[0m\n\u001b[1;32m     11\u001b[0m         \u001b[0mx_batch\u001b[0m \u001b[0;34m=\u001b[0m \u001b[0mx_batch\u001b[0m\u001b[0;34m.\u001b[0m\u001b[0mto\u001b[0m\u001b[0;34m(\u001b[0m\u001b[0mdevice\u001b[0m\u001b[0;34m)\u001b[0m  \u001b[0;31m# convert back to your chosen device\u001b[0m\u001b[0;34m\u001b[0m\u001b[0;34m\u001b[0m\u001b[0m\n\u001b[1;32m     12\u001b[0m         \u001b[0my_batch\u001b[0m \u001b[0;34m=\u001b[0m \u001b[0my_batch\u001b[0m\u001b[0;34m.\u001b[0m\u001b[0mto\u001b[0m\u001b[0;34m(\u001b[0m\u001b[0mdevice\u001b[0m\u001b[0;34m)\u001b[0m\u001b[0;34m\u001b[0m\u001b[0;34m\u001b[0m\u001b[0m\n\u001b[0;32m---> 13\u001b[0;31m         \u001b[0mloss\u001b[0m \u001b[0;34m+=\u001b[0m \u001b[0mtrain_batch\u001b[0m\u001b[0;34m(\u001b[0m\u001b[0mnetwork\u001b[0m\u001b[0;34m=\u001b[0m\u001b[0mnetwork\u001b[0m\u001b[0;34m,\u001b[0m \u001b[0mX_batch\u001b[0m\u001b[0;34m=\u001b[0m\u001b[0mx_batch\u001b[0m\u001b[0;34m,\u001b[0m \u001b[0mY_batch\u001b[0m\u001b[0;34m=\u001b[0m\u001b[0my_batch\u001b[0m\u001b[0;34m,\u001b[0m \u001b[0mloss_fn\u001b[0m\u001b[0;34m=\u001b[0m\u001b[0mloss_fn\u001b[0m\u001b[0;34m,\u001b[0m \u001b[0moptimizer\u001b[0m\u001b[0;34m=\u001b[0m\u001b[0moptimizer\u001b[0m\u001b[0;34m)\u001b[0m\u001b[0;34m\u001b[0m\u001b[0;34m\u001b[0m\u001b[0m\n\u001b[0m\u001b[1;32m     14\u001b[0m     \u001b[0mloss\u001b[0m \u001b[0;34m/=\u001b[0m \u001b[0;34m(\u001b[0m\u001b[0mi\u001b[0m\u001b[0;34m+\u001b[0m\u001b[0;36m1\u001b[0m\u001b[0;34m)\u001b[0m \u001b[0;31m# divide loss by number of batches for consistency\u001b[0m\u001b[0;34m\u001b[0m\u001b[0;34m\u001b[0m\u001b[0m\n\u001b[1;32m     15\u001b[0m \u001b[0;34m\u001b[0m\u001b[0m\n",
      "\u001b[0;32m<ipython-input-100-554d0db0d1bd>\u001b[0m in \u001b[0;36mtrain_batch\u001b[0;34m(network, X_batch, Y_batch, loss_fn, optimizer)\u001b[0m\n\u001b[1;32m     15\u001b[0m \u001b[0;34m\u001b[0m\u001b[0m\n\u001b[1;32m     16\u001b[0m     \u001b[0mprediction_batch\u001b[0m \u001b[0;34m=\u001b[0m \u001b[0mnetwork\u001b[0m\u001b[0;34m(\u001b[0m\u001b[0mX_batch\u001b[0m\u001b[0;34m)\u001b[0m  \u001b[0;31m# forward pass\u001b[0m\u001b[0;34m\u001b[0m\u001b[0;34m\u001b[0m\u001b[0m\n\u001b[0;32m---> 17\u001b[0;31m     \u001b[0mprint\u001b[0m\u001b[0;34m(\u001b[0m\u001b[0mprediction_batch\u001b[0m\u001b[0;34m.\u001b[0m\u001b[0mshape\u001b[0m\u001b[0;34m,\u001b[0m\u001b[0mprediction_batch\u001b[0m\u001b[0;34m.\u001b[0m\u001b[0mview\u001b[0m\u001b[0;34m(\u001b[0m\u001b[0;34m-\u001b[0m\u001b[0;36m1\u001b[0m\u001b[0;34m)\u001b[0m\u001b[0;34m.\u001b[0m\u001b[0mshape\u001b[0m\u001b[0;34m,\u001b[0m \u001b[0mY_batch\u001b[0m\u001b[0;34m.\u001b[0m\u001b[0mshape\u001b[0m\u001b[0;34m)\u001b[0m\u001b[0;34m\u001b[0m\u001b[0;34m\u001b[0m\u001b[0m\n\u001b[0m\u001b[1;32m     18\u001b[0m     \u001b[0mbatch_loss\u001b[0m \u001b[0;34m=\u001b[0m \u001b[0mloss_fn\u001b[0m\u001b[0;34m(\u001b[0m\u001b[0mprediction_batch\u001b[0m\u001b[0;34m.\u001b[0m\u001b[0mview\u001b[0m\u001b[0;34m(\u001b[0m\u001b[0;34m-\u001b[0m\u001b[0;36m1\u001b[0m\u001b[0;34m)\u001b[0m\u001b[0;34m,\u001b[0m \u001b[0mY_batch\u001b[0m\u001b[0;34m)\u001b[0m  \u001b[0;31m# loss calculation\u001b[0m\u001b[0;34m\u001b[0m\u001b[0;34m\u001b[0m\u001b[0m\n\u001b[1;32m     19\u001b[0m     \u001b[0mbatch_loss\u001b[0m\u001b[0;34m.\u001b[0m\u001b[0mbackward\u001b[0m\u001b[0;34m(\u001b[0m\u001b[0;34m)\u001b[0m  \u001b[0;31m# gradient computation\u001b[0m\u001b[0;34m\u001b[0m\u001b[0;34m\u001b[0m\u001b[0m\n",
      "\u001b[0;31mKeyboardInterrupt\u001b[0m: "
     ]
    }
   ],
   "source": [
    "NUM_EPOCHS = 100\n",
    "\n",
    "train_losses = []\n",
    "val_losses = []\n",
    "\n",
    "for t in range(NUM_EPOCHS):\n",
    "    train_loss = train_epoch(f, train_dataloader, optimizer=opt, loss_fn=loss_fn, device=device)\n",
    "    val_loss = eval_epoch(f, val_dataloader, loss_fn, device=device)\n",
    "    \n",
    "    print('Epoch {}'.format(t))\n",
    "    print(' Training Loss: {}'.format(train_loss))\n",
    "    print(' Validation Loss: {}'.format(val_loss))\n",
    "    \n",
    "    train_losses.append(train_loss)\n",
    "    val_losses.append(val_loss)"
   ]
  },
  {
   "cell_type": "markdown",
   "metadata": {},
   "source": [
    "We may plot the losses to get an idea of what the learning curve looks like."
   ]
  },
  {
   "cell_type": "code",
   "execution_count": 89,
   "metadata": {},
   "outputs": [
    {
     "data": {
      "image/png": "[encoded data removed]",
      "text/plain": [
       "<Figure size 432x288 with 1 Axes>"
      ]
     },
     "metadata": {
      "needs_background": "light"
     },
     "output_type": "display_data"
    }
   ],
   "source": [
    "from matplotlib import pyplot as plt\n",
    "plt.plot(train_losses)\n",
    "plt.plot(val_losses)\n",
    "plt.legend(['Training', 'Validation'])\n",
    "plt.show()"
   ]
  },
  {
   "cell_type": "markdown",
   "metadata": {},
   "source": [
    "And let's bring this to an end by labeling all of our validation data and printing the results."
   ]
  },
  {
   "cell_type": "code",
   "execution_count": 90,
   "metadata": {},
   "outputs": [
    {
     "name": "stdout",
     "output_type": "stream",
     "text": [
      "[('Moss', [1]),\n",
      " ('Ford', [1]),\n",
      " ('Skyler', [1]),\n",
      " ('Gibb', [1]),\n",
      " ('Elsie', [1]),\n",
      " ('Adara', [1]),\n",
      " ('Worthy', [1]),\n",
      " ('Janus', [1]),\n",
      " ('Max', [1]),\n",
      " ('Kendrick', [1]),\n",
      " ('Caresse', [1]),\n",
      " ('Lisa', [1]),\n",
      " ('Thatch', [1]),\n",
      " ('Normie', [1]),\n",
      " ('Robbie', [1]),\n",
      " ('Bud', [1]),\n",
      " ('Arda', [1]),\n",
      " ('Weston', [1]),\n",
      " ('Alford', [1]),\n",
      " ('Farah', [1]),\n",
      " ('Warren', [1]),\n",
      " ('Quint', [1]),\n",
      " ('Anni', [1]),\n",
      " ('Constantine', [1]),\n",
      " ('Wyn', [1]),\n",
      " ('Pearle', [1]),\n",
      " ('Henriette', [1]),\n",
      " ('Dyson', [1]),\n",
      " ('Urban', [1]),\n",
      " ('Corey', [1]),\n",
      " ('Kelvin', [1]),\n",
      " ('Eric', [1]),\n",
      " ('Debby', [1]),\n",
      " ('Murdoch', [1]),\n",
      " ('Benton', [1]),\n",
      " ('Nicola', [1]),\n",
      " ('Elysia', [1]),\n",
      " ('Liana', [1]),\n",
      " ('Costa', [1]),\n",
      " ('Duke', [1]),\n",
      " ('Grove', [1]),\n",
      " ('Patrick', [1]),\n",
      " ('Irving', [1]),\n",
      " ('Sonya', [1]),\n",
      " ('Helen', [1]),\n",
      " ('Celie', [1]),\n",
      " ('Rayner', [1]),\n",
      " ('Clovis', [1]),\n",
      " ('Iris', [1]),\n",
      " ('Ludwig', [1]),\n",
      " ('Tani', [1]),\n",
      " ('Hammad', [1]),\n",
      " ('Roxana', [1]),\n",
      " ('Emilia', [1]),\n",
      " ('Trina', [1]),\n",
      " ('Valentia', [1]),\n",
      " ('Maddie', [1]),\n",
      " ('Marcello', [1]),\n",
      " ('Leonora', [1]),\n",
      " ('Yuri', [1]),\n",
      " ('Ethel', [1]),\n",
      " ('Corrie', [1]),\n",
      " ('Nettle', [1]),\n",
      " ('Canada', [1]),\n",
      " ('Jean', [1]),\n",
      " ('Cloe', [1]),\n",
      " ('Kat', [1]),\n",
      " ('Adolphe', [1]),\n",
      " ('Beauregard', [1]),\n",
      " ('Rani', [1]),\n",
      " ('Doria', [1]),\n",
      " ('Jennings', [1]),\n",
      " ('Jemima', [1]),\n",
      " ('Kirk', [1]),\n",
      " ('Dwight', [1]),\n",
      " ('Rosalinda', [1]),\n",
      " ('Adena', [1]),\n",
      " ('Eduard', [1]),\n",
      " ('Sheena', [1]),\n",
      " ('Elie', [1]),\n",
      " ('Mirabella', [1]),\n",
      " ('Holly-Anne', [1]),\n",
      " ('Siddhartha', [1]),\n",
      " ('Ange', [1]),\n",
      " ('Patrice', [1]),\n",
      " ('Mela', [1]),\n",
      " ('Reynold', [1]),\n",
      " ('Ware', [1]),\n",
      " ('Spiro', [1]),\n",
      " ('Frankie', [1]),\n",
      " ('Susan', [1]),\n",
      " ('Bernice', [1]),\n",
      " ('Mateo', [1]),\n",
      " ('Yoko', [1]),\n",
      " ('Silvan', [1]),\n",
      " ('Brian', [1]),\n",
      " ('Holly', [1]),\n",
      " ('Alley', [1]),\n",
      " ('Filippa', [1]),\n",
      " ('Damien', [1]),\n",
      " ('Pen', [1]),\n",
      " ('Ragnar', [1]),\n",
      " ('Therese', [1]),\n",
      " ('Chanda', [1]),\n",
      " ('Leonid', [1]),\n",
      " ('Kennedy', [1]),\n",
      " ('Caesar', [1]),\n",
      " ('Raymundo', [1]),\n",
      " ('Raoul', [1]),\n",
      " ('Erl', [1]),\n",
      " ('Barny', [1]),\n",
      " ('Ichabod', [1]),\n",
      " ('Maudie', [1]),\n",
      " ('Nealy', [1]),\n",
      " ('Whitney', [1]),\n",
      " ('Natty', [1]),\n",
      " ('Shari', [1]),\n",
      " ('Gerda', [1]),\n",
      " ('Sammy', [1]),\n",
      " ('Natasha', [1]),\n",
      " ('Jervis', [1]),\n",
      " ('Sandie', [1]),\n",
      " ('Haley', [1]),\n",
      " ('Ibby', [1]),\n",
      " ('Maryanne', [1]),\n",
      " ('Loreen', [1]),\n",
      " ('Kimball', [1]),\n",
      " ('Jenny', [1]),\n",
      " ('Clay', [1]),\n",
      " ('Dion', [1]),\n",
      " ('Jacquelyn', [1]),\n",
      " ('Gustaf', [1]),\n",
      " ('Harrold', [1]),\n",
      " ('Viviana', [1]),\n",
      " ('Thia', [1]),\n",
      " ('Kore', [1]),\n",
      " ('Kip', [1]),\n",
      " ('Gilli', [1]),\n",
      " ('Renaldo', [1]),\n",
      " ('Vail', [1]),\n",
      " ('Star', [1]),\n",
      " ('Lazlo', [1]),\n",
      " ('Rand', [1]),\n",
      " ('Giraldo', [1]),\n",
      " ('Ora', [1]),\n",
      " ('Igor', [1]),\n",
      " ('Asia', [1]),\n",
      " ('Tammie', [1]),\n",
      " ('Fawn', [1]),\n",
      " ('Jodi', [1]),\n",
      " ('Peggy', [1]),\n",
      " ('Quentin', [1]),\n",
      " ('Marika', [1]),\n",
      " ('Baillie', [1]),\n",
      " ('Alvina', [1]),\n",
      " ('Rebekah', [1]),\n",
      " ('Olive', [1]),\n",
      " ('Luigi', [1]),\n",
      " ('Kourtney', [1]),\n",
      " ('Malcolm', [1]),\n",
      " ('Dorothy', [1]),\n",
      " ('Lenny', [1]),\n",
      " ('Randal', [1]),\n",
      " ('Dallas', [1]),\n",
      " ('Nichole', [1]),\n",
      " ('Rosanne', [1]),\n",
      " ('Brit', [1]),\n",
      " ('Jory', [1]),\n",
      " ('Pedro', [1]),\n",
      " ('Jeremie', [1]),\n",
      " ('Carola', [1]),\n",
      " ('Caren', [1]),\n",
      " ('Roxane', [1]),\n",
      " ('Winton', [1]),\n",
      " ('Erwin', [1]),\n",
      " ('Uriah', [1]),\n",
      " ('Willem', [1]),\n",
      " ('Wesley', [1]),\n",
      " ('Gianna', [1]),\n",
      " ('Dominica', [1]),\n",
      " ('Federico', [1]),\n",
      " ('Lucky', [1]),\n",
      " ('Gerry', [1]),\n",
      " ('Jud', [1]),\n",
      " ('Fan', [1]),\n",
      " ('Prince', [1]),\n",
      " ('Teddie', [1]),\n",
      " ('Gaston', [1]),\n",
      " ('Constanta', [1]),\n",
      " ('Marci', [1]),\n",
      " ('Happy', [1]),\n",
      " ('Sterling', [1]),\n",
      " ('Matti', [1]),\n",
      " ('Britney', [1]),\n",
      " ('Kati', [1]),\n",
      " ('Danila', [1]),\n",
      " ('Jenette', [1]),\n",
      " ('Harcourt', [1]),\n",
      " ('Esta', [1]),\n",
      " ('Melody', [1]),\n",
      " ('Sadie', [1]),\n",
      " ('Tania', [1]),\n",
      " ('Pippa', [1]),\n",
      " ('Joya', [1]),\n",
      " ('Nevin', [1]),\n",
      " ('Windham', [1]),\n",
      " ('Carly', [1]),\n",
      " ('Lancelot', [1]),\n",
      " ('Katha', [1]),\n",
      " ('Juanita', [1]),\n",
      " ('Maison', [1]),\n",
      " ('Bobbie', [1]),\n",
      " ('Garfield', [1]),\n",
      " ('Ansley', [1]),\n",
      " ('Isabella', [1]),\n",
      " ('Marcio', [1]),\n",
      " ('Burl', [1]),\n",
      " ('Wynn', [1]),\n",
      " ('Tommy', [1]),\n",
      " ('Samuel', [1]),\n",
      " ('Tobey', [1]),\n",
      " ('Josiah', [1]),\n",
      " ('Seka', [1]),\n",
      " ('Maybelle', [1]),\n",
      " ('Juliet', [1]),\n",
      " ('Lane', [1]),\n",
      " ('Angelica', [1]),\n",
      " ('Donnie', [1]),\n",
      " ('Granville', [1]),\n",
      " ('Brett', [1]),\n",
      " ('Thane', [1]),\n",
      " ('Courtney', [1]),\n",
      " ('Jen', [1]),\n",
      " ('Elisabetta', [1]),\n",
      " ('Berni', [1]),\n",
      " ('Nike', [1]),\n",
      " ('Mabel', [1]),\n",
      " ('Barris', [1]),\n",
      " ('Dieter', [1]),\n",
      " ('Kala', [1]),\n",
      " ('Lyle', [1]),\n",
      " ('Husein', [1]),\n",
      " ('Luciana', [1]),\n",
      " ('Isaak', [1]),\n",
      " ('Aurelia', [1]),\n",
      " ('Sandro', [1]),\n",
      " ('Lily', [1]),\n",
      " ('Kit', [1]),\n",
      " ('Marietta', [1]),\n",
      " ('Ham', [1]),\n",
      " ('Miguel', [1]),\n",
      " ('Muffin', [1]),\n",
      " ('Richie', [1]),\n",
      " ('Koo', [1]),\n",
      " ('Shaun', [1]),\n",
      " ('Sela', [1]),\n",
      " ('Neville', [1]),\n",
      " ('Vijay', [1]),\n",
      " ('Herschel', [1]),\n",
      " ('Wolf', [1]),\n",
      " ('Nani', [1]),\n",
      " ('Chauncey', [1]),\n",
      " ('Dana', [1]),\n",
      " ('Sheryl', [1]),\n",
      " ('Willi', [1]),\n",
      " ('Fayth', [1]),\n",
      " ('Griswold', [1]),\n",
      " ('Dionysus', [1]),\n",
      " ('Grace', [1]),\n",
      " ('Melonie', [1]),\n",
      " ('Lois', [1]),\n",
      " ('Wakefield', [1]),\n",
      " ('Ely', [1]),\n",
      " ('Edward', [1]),\n",
      " ('Schuyler', [1]),\n",
      " ('Julianna', [1]),\n",
      " ('Minette', [1]),\n",
      " ('Andi', [1]),\n",
      " ('Karel', [1]),\n",
      " ('Maxfield', [1]),\n",
      " ('Sebastian', [1]),\n",
      " ('Erna', [1]),\n",
      " ('Preston', [1]),\n",
      " ('Shirley', [1]),\n",
      " ('Forest', [1]),\n",
      " ('Russell', [1]),\n",
      " ('Devon', [1]),\n",
      " ('Dix', [1]),\n",
      " ('Gretel', [1]),\n",
      " ('Andie', [1]),\n",
      " ('Olaf', [1]),\n",
      " ('Missy', [1]),\n",
      " ('Sandra', [1]),\n",
      " ('Barton', [1]),\n",
      " ('Blair', [1]),\n",
      " ('Trip', [1]),\n",
      " ('Nelly', [1]),\n",
      " ('Mariana', [1]),\n",
      " ('Lea', [1]),\n",
      " ('Carolyn', [1]),\n",
      " ('Thorsten', [1]),\n",
      " ('Isa', [1]),\n",
      " ('Wolfram', [1]),\n",
      " ('Joyous', [1]),\n",
      " ('Pennie', [1]),\n",
      " ('Alan', [1]),\n",
      " ('Daren', [1]),\n",
      " ('Terri-Jo', [1]),\n",
      " ('Elna', [1]),\n",
      " ('Christiane', [1]),\n",
      " ('Pearce', [1]),\n",
      " ('Daniel', [1]),\n",
      " ('Cordy', [1]),\n",
      " ('Melissa', [1]),\n",
      " ('Jerzy', [1]),\n",
      " ('Ester', [1]),\n",
      " ('Lem', [1]),\n",
      " ('Hertha', [1]),\n",
      " ('Frans', [1]),\n",
      " ('Pam', [1]),\n",
      " ('Astrid', [1]),\n",
      " ('Olimpia', [1]),\n",
      " ('Agatha', [1]),\n",
      " ('Barron', [1]),\n",
      " ('Cecilia', [1]),\n",
      " ('Jerrold', [1]),\n",
      " ('Elisabeth', [1]),\n",
      " ('Hugo', [1]),\n",
      " ('Layton', [1]),\n",
      " ('Leta', [1]),\n",
      " ('Marcia', [1]),\n",
      " ('Deni', [1]),\n",
      " ('Ole', [1]),\n",
      " ('Gay', [1]),\n",
      " ('Alec', [1]),\n",
      " ('Mona', [1]),\n",
      " ('Paulette', [1]),\n",
      " ('Erin', [1]),\n",
      " ('Ilse', [1]),\n",
      " ('Jock', [1]),\n",
      " ('Venus', [1]),\n",
      " ('Nannie', [1]),\n",
      " ('Mikael', [1]),\n",
      " ('Paige', [1]),\n",
      " ('Wanda', [1]),\n",
      " ('Jessee', [1]),\n",
      " ('Casper', [1]),\n",
      " ('Henrie', [1]),\n",
      " ('Perry', [1]),\n",
      " ('Price', [1]),\n",
      " ('Vickie', [1]),\n",
      " ('Lusa', [1]),\n",
      " ('Danny', [1]),\n",
      " ('Forrest', [1]),\n",
      " ('Laurie', [1]),\n",
      " ('Kira', [1]),\n",
      " ('Ginni', [1]),\n",
      " ('Alyson', [1]),\n",
      " ('Trixi', [1]),\n",
      " ('Archibald', [1]),\n",
      " ('Ola', [1]),\n",
      " ('Gisele', [1]),\n",
      " ('Darell', [1]),\n",
      " ('Chip', [1]),\n",
      " ('Ricky', [1]),\n",
      " ('Candy', [1]),\n",
      " ('Becky', [1]),\n",
      " ('Angelia', [1]),\n",
      " ('Udall', [1]),\n",
      " ('Ric', [1]),\n",
      " ('Saxon', [1]),\n",
      " ('Plato', [1]),\n",
      " ('Donovan', [1]),\n",
      " ('Jonathon', [1]),\n",
      " ('Davida', [1]),\n",
      " ('Rik', [1]),\n",
      " ('Grete', [1]),\n",
      " ('Sunny', [1]),\n",
      " ('Mike', [1]),\n",
      " ('Anita', [1]),\n",
      " ('Zechariah', [1]),\n",
      " ('Indira', [1]),\n",
      " ('Moise', [1]),\n",
      " ('Alex', [1]),\n",
      " ('Buster', [1]),\n",
      " ('Aliza', [1]),\n",
      " ('Corby', [1]),\n",
      " ('Saxe', [1]),\n",
      " ('Lanni', [1]),\n",
      " ('Dita', [1]),\n",
      " ('Amelie', [1]),\n",
      " ('Sylvie', [1]),\n",
      " ('Lennie', [1]),\n",
      " ('Travers', [1]),\n",
      " ('Tadd', [1]),\n",
      " ('Collin', [1]),\n",
      " ('Jourdan', [1]),\n",
      " ('Merrie', [1]),\n",
      " ('Dyan', [1]),\n",
      " ('Lynnette', [1]),\n",
      " ('Dabney', [1]),\n",
      " ('Emlyn', [1]),\n",
      " ('Oswald', [1]),\n",
      " ('Olle', [1]),\n",
      " ('Kirsti', [1]),\n",
      " ('Nicole', [1]),\n",
      " ('Gray', [1]),\n",
      " ('Skipp', [1]),\n",
      " ('Kacie', [1]),\n",
      " ('Bo', [1]),\n",
      " ('Suzie', [1]),\n",
      " ('Pablo', [1]),\n",
      " ('Herve', [1]),\n",
      " ('Suzanne', [1]),\n",
      " ('Zia', [1]),\n",
      " ('Kellen', [1]),\n",
      " ('Whitney', [1]),\n",
      " ('Estrellita', [1]),\n",
      " ('Monica', [1]),\n",
      " ('Hunter', [1]),\n",
      " ('Trish', [1]),\n",
      " ('JoAnn', [1]),\n",
      " ('Melvyn', [1]),\n",
      " ('Berny', [1]),\n",
      " ('Suzan', [1]),\n",
      " ('Bebe', [1]),\n",
      " ('Hank', [1]),\n",
      " ('Lotti', [1]),\n",
      " ('Misha', [1]),\n",
      " ('Rena', [1]),\n",
      " ('Lindsay', [1]),\n",
      " ('Rickie', [1]),\n",
      " ('Marc', [1]),\n",
      " ('Gael', [1]),\n",
      " ('Madalena', [1]),\n",
      " ('Sayre', [1]),\n",
      " ('Britt', [1]),\n",
      " ('Quincy', [1]),\n",
      " ('Hayward', [1]),\n",
      " ('Dyna', [1]),\n",
      " ('Kaia', [1]),\n",
      " ('Tessa', [1]),\n",
      " ('Samantha', [1]),\n",
      " ('Fred', [1]),\n",
      " ('Simone', [1]),\n",
      " ('Philomena', [1]),\n",
      " ('Chelsie', [1]),\n",
      " ('Kris', [1]),\n",
      " ('Upton', [1]),\n",
      " ('Nicky', [1]),\n",
      " ('Ned', [1]),\n",
      " ('Staci', [1]),\n",
      " ('Shayne', [1]),\n",
      " ('Jo', [1]),\n",
      " ('Cam', [1]),\n",
      " ('Clark', [1]),\n",
      " ('Chrissy', [1]),\n",
      " ('Harley', [1]),\n",
      " ('Fergus', [1]),\n",
      " ('Cary', [1]),\n",
      " ('Angel', [1]),\n",
      " ('Lenore', [1]),\n",
      " ('Ike', [1]),\n",
      " ('Lara', [1]),\n",
      " ('Shawna', [1]),\n",
      " ('Steffie', [1]),\n",
      " ('Kenyon', [1]),\n",
      " ('Aleks', [1]),\n",
      " ('Seth', [1]),\n",
      " ('Dudley', [1]),\n",
      " ('Ollie', [1]),\n",
      " ('Wilmer', [1]),\n",
      " ('Andrey', [1]),\n",
      " ('Suzy', [1]),\n",
      " ('Filip', [1]),\n",
      " ('Bess', [1]),\n",
      " ('Stanwood', [1]),\n",
      " ('Matty', [1]),\n",
      " ('Spenser', [1]),\n",
      " ('Aristotle', [1]),\n",
      " ('Maisie', [1]),\n",
      " ('Mia', [1]),\n",
      " ('Reuben', [1]),\n",
      " ('Carrol', [1]),\n",
      " ('Wynton', [1]),\n",
      " ('Raymund', [1]),\n",
      " ('Sutton', [1]),\n",
      " ('Merry', [1]),\n",
      " ('Gayle', [1]),\n",
      " ('Berri', [1]),\n",
      " ('Nat', [1]),\n",
      " ('Jo Ann', [1]),\n",
      " ('Hanson', [1]),\n",
      " ('Sarge', [1]),\n",
      " ('Taber', [1]),\n",
      " ('Devi', [1]),\n",
      " ('Carey', [1]),\n",
      " ('Vicky', [1]),\n",
      " ('Kaitlyn', [1]),\n",
      " ('Lanna', [1]),\n",
      " ('Pearl', [1]),\n",
      " ('Loraine', [1]),\n",
      " ('Jacinta', [1]),\n",
      " ('Iggy', [1]),\n",
      " ('Evey', [1]),\n",
      " ('Luke', [1]),\n",
      " ('Daryl', [1]),\n",
      " ('Livia', [1]),\n",
      " ('Mischa', [1]),\n",
      " ('Wright', [1]),\n",
      " ('Wes', [1]),\n",
      " ('Torrence', [1]),\n",
      " ('Irvine', [1]),\n",
      " ('Monroe', [1]),\n",
      " ('Violetta', [1]),\n",
      " ('Alberta', [1]),\n",
      " ('Marie-Jeanne', [1]),\n",
      " ('Winfield', [1]),\n",
      " ('Carmel', [1]),\n",
      " ('Minny', [1]),\n",
      " ('Geraldo', [1]),\n",
      " ('Gregorio', [1]),\n",
      " ('Sallie', [1]),\n",
      " ('Ikey', [1]),\n",
      " ('Connie', [1]),\n",
      " ('Berrie', [1]),\n",
      " ('Hew', [1]),\n",
      " ('Toni', [1]),\n",
      " ('Ezekiel', [1]),\n",
      " ('Reine', [1]),\n",
      " ('Millie', [1]),\n",
      " ('Janey', [1]),\n",
      " ('Jae', [1]),\n",
      " ('Courtney', [1]),\n",
      " ('Jordy', [1]),\n",
      " ('Reinhard', [1]),\n",
      " ('Stacey', [1]),\n",
      " ('Mika', [1]),\n",
      " ('Zola', [1]),\n",
      " ('Audre', [1]),\n",
      " ('Coleen', [1]),\n",
      " ('Edita', [1]),\n",
      " ('Padraig', [1]),\n",
      " ('Neel', [1]),\n",
      " ('Dolley', [1]),\n",
      " ('Basia', [1]),\n",
      " ('Tanner', [1]),\n",
      " ('Leland', [1]),\n",
      " ('Sandy', [1]),\n",
      " ('Sven', [1]),\n",
      " ('Adrianna', [1]),\n",
      " ('Lorain', [1]),\n",
      " ('Scotty', [1]),\n",
      " ('Len', [1]),\n",
      " ('Samara', [1]),\n",
      " ('Tyler', [1]),\n",
      " ('Levin', [1]),\n",
      " ('Kristin', [1]),\n",
      " ('Menard', [1]),\n",
      " ('Rafael', [1]),\n",
      " ('Lance', [1]),\n",
      " ('Catharine', [1]),\n",
      " ('Dixie', [1]),\n",
      " ('Erinn', [1]),\n",
      " ('Clary', [1]),\n",
      " ('Allie', [1]),\n",
      " ('Barnard', [1]),\n",
      " ('Sibyl', [1]),\n",
      " ('Annemarie', [1]),\n",
      " ('Ainsley', [1]),\n",
      " ('Catriona', [1]),\n",
      " ('Lonnie', [1]),\n",
      " ('Melitta', [1]),\n",
      " ('Vicki', [1]),\n",
      " ('Teddy', [1]),\n",
      " ('Mitchell', [1]),\n",
      " ('Bell', [1]),\n",
      " ('Enid', [1]),\n",
      " ('Nikos', [1]),\n",
      " ('Drew', [1]),\n",
      " ('Heather', [1]),\n",
      " ('Jaime', [1]),\n",
      " ('Nissa', [1]),\n",
      " ('Clarisse', [1]),\n",
      " ('Marlon', [1]),\n",
      " ('Dwain', [1]),\n",
      " ('Min', [1]),\n",
      " ('Enrico', [1]),\n",
      " ('Jamie', [1]),\n",
      " ('Sonny', [1]),\n",
      " ('Roth', [1]),\n",
      " ('Reynard', [1]),\n",
      " ('Jon', [1]),\n",
      " ('Anette', [1]),\n",
      " ('Lorry', [1]),\n",
      " ('Warner', [1]),\n",
      " ('Cammy', [1]),\n",
      " ('Blake', [1]),\n",
      " ('Aylmer', [1]),\n",
      " ('Zea', [1]),\n",
      " ('Andrus', [1]),\n",
      " ('Helene', [1]),\n",
      " ('Vinnie', [1]),\n",
      " ('Marguerite', [1]),\n",
      " ('Dianna', [1]),\n",
      " ('Lorna', [1]),\n",
      " ('Annelise', [1]),\n",
      " ('Sanders', [1]),\n",
      " ('Nico', [1]),\n",
      " ('Candace', [1]),\n",
      " ('Winny', [1]),\n",
      " ('Madison', [1]),\n",
      " ('Towny', [1]),\n",
      " ('Tre', [1]),\n",
      " ('Shimon', [1]),\n",
      " ('Gale ', [1]),\n",
      " ('Nickolas', [1]),\n",
      " ('Garth', [1]),\n",
      " ('Janis', [1]),\n",
      " ('Damian', [1]),\n",
      " ('Orton', [1]),\n",
      " ('Denice', [1]),\n",
      " ('Dillon', [1]),\n",
      " ('Maureen', [1]),\n",
      " ('Derby', [1]),\n",
      " ('Puff', [1]),\n",
      " ('Shani', [1]),\n",
      " ('Valery', [1]),\n",
      " ('Hirsch', [1]),\n",
      " ('Benny', [1]),\n",
      " ('Phillip', [1]),\n",
      " ('Micki', [1]),\n",
      " ('Mustafa', [1]),\n",
      " ('Annalise', [1]),\n",
      " ('Dickey', [1]),\n",
      " ('Jaquith', [1]),\n",
      " ('Urbanus', [1]),\n",
      " ('Daniela', [1]),\n",
      " ('Kathi', [1]),\n",
      " ('Cecil', [1]),\n",
      " ('Ozzy', [1]),\n",
      " ('Cherie', [1]),\n",
      " ('Joyce', [1]),\n",
      " ('Son', [1]),\n",
      " ('Abner', [1]),\n",
      " ('Marya', [1]),\n",
      " ('Casandra', [1]),\n",
      " ('Jodi', [1]),\n",
      " ('Pasquale', [1]),\n",
      " ('Brittany', [1]),\n",
      " ('Graham', [1]),\n",
      " ('Herbert', [1]),\n",
      " ('Leroy', [1]),\n",
      " ('Jude', [1]),\n",
      " ('Lenard', [1]),\n",
      " ('Baron', [1]),\n",
      " ('Jennie', [1]),\n",
      " ('Hilda', [1]),\n",
      " ('Nevil', [1]),\n",
      " ('Genny', [1]),\n",
      " ('Temp', [1]),\n",
      " ('Vinny', [1]),\n",
      " ('Barb', [1]),\n",
      " ('Denny', [1]),\n",
      " ('Dick', [1]),\n",
      " ('Wyatt', [1]),\n",
      " ('Gonzalo', [1]),\n",
      " ('Annabell', [1]),\n",
      " ('Patel', [1]),\n",
      " ('Gallagher', [1]),\n",
      " ('Amberly', [1]),\n",
      " ('Torrey', [1]),\n",
      " ('Minnie', [1]),\n",
      " ('Alicia', [1]),\n",
      " ('Aidan', [1]),\n",
      " ('Matteo', [1]),\n",
      " ('Maggie', [1]),\n",
      " ('Sidney', [1]),\n",
      " ('Lucinda', [1]),\n",
      " ('Kingsley', [1]),\n",
      " ('Grazia', [1]),\n",
      " ('Mariel', [1]),\n",
      " ('Caryl', [1]),\n",
      " ('Merrill', [1]),\n",
      " ('Darth', [1]),\n",
      " ('Donny', [1]),\n",
      " ('Philip', [1]),\n",
      " ('Boyd', [1]),\n",
      " ('Hilton', [1]),\n",
      " ('Valentin', [1]),\n",
      " ('Deana', [1]),\n",
      " ('Benny', [1]),\n",
      " ('Ivy', [1]),\n",
      " ('Mickie', [1]),\n",
      " ('Nicolle', [1]),\n",
      " ('Regina', [1]),\n",
      " ('Colette', [1]),\n",
      " ('Morgan', [1]),\n",
      " ('Claire', [1]),\n",
      " ('Heath', [1]),\n",
      " ('Marlowe', [1]),\n",
      " ('Roxie', [1]),\n",
      " ('Moshe', [1]),\n",
      " ('Cherry', [1]),\n",
      " ('Ann-Marie', [1]),\n",
      " ('Harold', [1]),\n",
      " ('Alysa', [1]),\n",
      " ('Irvin', [1]),\n",
      " ('Riki', [1]),\n",
      " ('Nora', [1]),\n",
      " ('Teddy', [1]),\n",
      " ('Marcela', [1]),\n",
      " ('Judy', [1]),\n",
      " ('Veronica', [1]),\n",
      " ('Loren', [1]),\n",
      " ('Lorie', [1]),\n",
      " ('Conan', [1]),\n",
      " ('Judith', [1]),\n",
      " ('Tarah', [1]),\n",
      " ('Hamid', [1]),\n",
      " ('Lynn', [1]),\n",
      " ('Elana', [1]),\n",
      " ('Elbert', [1]),\n",
      " ('Rowena', [1]),\n",
      " ('Juan', [1]),\n",
      " ('Kerry', [1]),\n",
      " ('Marion', [1]),\n",
      " ('Taylor', [1]),\n",
      " ('Flower', [1]),\n",
      " ('Aube', [1]),\n",
      " ('Josh', [1]),\n",
      " ('Salman', [1]),\n",
      " ('Brena', [1]),\n",
      " ('Sinead', [1]),\n",
      " ('Shir', [1]),\n",
      " ('Cecile', [1]),\n",
      " ('Carmine', [1]),\n",
      " ('Alisha', [1]),\n",
      " ('Aileen', [1]),\n",
      " ('Brody', [1]),\n",
      " ('Aimee', [1]),\n",
      " ('Tomas', [1]),\n",
      " ('Larisa', [1]),\n",
      " ('Ema', [1]),\n",
      " ('Twila', [1]),\n",
      " ('Kaspar', [1]),\n",
      " ('Leslie', [1]),\n",
      " ('Marline', [1]),\n",
      " ('Aldrich', [1]),\n",
      " ('Sam', [1]),\n",
      " ('Way', [1]),\n",
      " ('Anna', [1]),\n",
      " ('Hagan', [1]),\n",
      " ('Billy', [1]),\n",
      " ('Hanny', [1]),\n",
      " ('Cookie', [1]),\n",
      " ('Tabor', [1]),\n",
      " ('Giraud', [1]),\n",
      " ('Lotte', [1]),\n",
      " ('Stearn', [1]),\n",
      " ('Kayle', [1]),\n",
      " ('Chelsey', [1]),\n",
      " ('Harmonie', [1]),\n",
      " ('Patrice', [1]),\n",
      " ('Nana', [1]),\n",
      " ('Molly', [1]),\n",
      " ('Sheila', [1]),\n",
      " ('Olia', [1]),\n",
      " ('Gino', [1]),\n",
      " ('Bertie', [1]),\n",
      " ('Roland', [1]),\n",
      " ('Carmon', [1]),\n",
      " ('Vonnie', [1]),\n",
      " ('Hasty', [1]),\n",
      " ('Berenice', [1]),\n",
      " ('Lita', [1]),\n",
      " ('Dahlia', [1]),\n",
      " ('Luisa', [1]),\n",
      " ('Arden', [1]),\n",
      " ('Rebecca', [1]),\n",
      " ('Ram', [1]),\n",
      " ('Glad', [1]),\n",
      " ('Verla', [1]),\n",
      " ('Nollie', [1]),\n",
      " ('Phillipe', [1]),\n",
      " ('Arther', [1]),\n",
      " ('Ambrosius', [1]),\n",
      " ('Shelby', [1]),\n",
      " ('Scotty', [1]),\n",
      " ('Aharon', [1]),\n",
      " ('Tony', [1]),\n",
      " ('Willie', [1]),\n",
      " ('Essa', [1]),\n",
      " ('Basil', [1]),\n",
      " ('Winnah', [1]),\n",
      " ('Yelena', [1]),\n",
      " ('Giselle', [1]),\n",
      " ('Julianne', [1]),\n",
      " ('Giles', [1]),\n",
      " ('Bartel', [1]),\n",
      " ('Kittie', [1]),\n",
      " ('Rockwell', [1]),\n",
      " ('Loretta', [1]),\n",
      " ('West', [1]),\n",
      " ('Kurtis', [1]),\n",
      " ('Galina', [1]),\n",
      " ('Phyllis', [1]),\n",
      " ('Godwin', [1]),\n",
      " ('Ag', [1]),\n",
      " ('Leola', [1]),\n",
      " ('Lillian', [1]),\n",
      " ('Uri', [1]),\n",
      " ('Paul', [1]),\n",
      " ('Jason', [1]),\n",
      " ('Carl', [1]),\n",
      " ('Kalvin', [1]),\n",
      " ('Ferguson', [1]),\n",
      " ('Karol', [1]),\n",
      " ('Rafaela', [1]),\n",
      " ('Ilsa', [1]),\n",
      " ('Nils', [1]),\n",
      " ('Sylvan', [1]),\n",
      " ('Tillie', [1]),\n",
      " ('Tully', [1]),\n",
      " ('Tobe', [1]),\n",
      " ('Adrien', [1]),\n",
      " ('Isa', [1]),\n",
      " ('Patricio', [1]),\n",
      " ('Kathryn', [1]),\n",
      " ('Freda', [1]),\n",
      " ('Wendi', [1]),\n",
      " ('Margie', [1]),\n",
      " ('Jonathan', [1]),\n",
      " ('Cyndi', [1]),\n",
      " ('Vincents', [1]),\n",
      " ('Aviva', [1]),\n",
      " ('Sonia', [1]),\n",
      " ('Dane', [1]),\n",
      " ('Philippine', [1]),\n",
      " ('Redford', [1]),\n",
      " ('Trenton', [1]),\n",
      " ('Aphrodite', [1]),\n",
      " ('Walt', [1]),\n",
      " ('Demetria', [1]),\n",
      " ('Jinny', [1]),\n",
      " ('Hill', [1]),\n",
      " ('Marlyn', [1]),\n",
      " ('Hermione', [1]),\n",
      " ('Filipe', [1]),\n",
      " ('Darin', [1]),\n",
      " ('Carina', [1]),\n",
      " ('Jean-Marc', [1]),\n",
      " ('Alastair', [1]),\n",
      " ('Zena', [1]),\n",
      " ('Janelle', [1]),\n",
      " ('Madalyn', [1]),\n",
      " ('Del', [1]),\n",
      " ('Cameron', [1]),\n",
      " ('Dante', [1]),\n",
      " ('Robb', [1]),\n",
      " ('Rufus', [1]),\n",
      " ('Thaddeus', [1]),\n",
      " ('Brent', [1]),\n",
      " ('Rocky', [1]),\n",
      " ('Jabez', [1]),\n",
      " ('Isabel', [1]),\n",
      " ('Floria', [1]),\n",
      " ('Joannes', [1]),\n",
      " ('Lazaro', [1]),\n",
      " ('Linda', [1]),\n",
      " ('Cody', [1]),\n",
      " ('Susanna', [1]),\n",
      " ('Thorpe', [1]),\n",
      " ('Constantin', [1]),\n",
      " ('Perri', [1]),\n",
      " ('Obie', [1]),\n",
      " ('Lindy', [1]),\n",
      " ('Tam', [1]),\n",
      " ('Sofia', [1]),\n",
      " ('Pippy', [1]),\n",
      " ('Vivien', [1]),\n",
      " ('Nola', [1]),\n",
      " ('Birdie', [1]),\n",
      " ('Xerxes', [1]),\n",
      " ('Gigi', [1]),\n",
      " ('Lowell', [1]),\n",
      " ('Bryn', [1]),\n",
      " ('Tracey', [1]),\n",
      " ('Marys', [1]),\n",
      " ('Oprah', [1]),\n",
      " ('French', [1]),\n",
      " ('Eddie', [1]),\n",
      " ('Shannon', [1]),\n",
      " ('Hayes', [1]),\n",
      " ('Octavius', [1]),\n",
      " ('June', [1]),\n",
      " ('Beau', [1]),\n",
      " ('Goose', [1]),\n",
      " ('Buck', [1]),\n",
      " ('Joel', [1]),\n",
      " ('Hanford', [1]),\n",
      " ('Maxi', [1]),\n",
      " ('Shina', [1]),\n",
      " ('Wynn', [1]),\n",
      " ('Fran', [1]),\n",
      " ('Jeanne', [1]),\n",
      " ('Cassey', [1]),\n",
      " ('Nina', [1]),\n",
      " ('Glynn', [1]),\n",
      " ('Shelly', [1]),\n",
      " ('Portia', [1]),\n",
      " ('Mervin', [1]),\n",
      " ('Betta', [1]),\n",
      " ('Querida', [1]),\n",
      " ('Andee', [1]),\n",
      " ('Aggie', [1]),\n",
      " ('Lloyd', [1]),\n",
      " ('Caroline', [1]),\n",
      " ('Wait', [1]),\n",
      " ('Anneliese', [1]),\n",
      " ('Mellissa', [1]),\n",
      " ('Frederic', [1]),\n",
      " ('Heath', [1]),\n",
      " ('Cicely', [1]),\n",
      " ('Carolann', [1]),\n",
      " ('Tobi', [1]),\n",
      " ('Darya', [1]),\n",
      " ('Tobe', [1]),\n",
      " ('Blythe', [1]),\n",
      " ('Sybil', [1]),\n",
      " ('Cat', [1]),\n",
      " ('Page', [1]),\n",
      " ('Georges', [1]),\n",
      " ('Steve', [1]),\n",
      " ('Thom', [1]),\n",
      " ('Magda', [1]),\n",
      " ('Minni', [1]),\n",
      " ('Marianna', [1]),\n",
      " ('Kevin', [1]),\n",
      " ('Gifford', [1]),\n",
      " ('Bobby', [1]),\n",
      " ('Amory', [1]),\n",
      " ('Che', [1]),\n",
      " ('Elsinore', [1]),\n",
      " ('Fletch', [1]),\n",
      " ('Brianna', [1]),\n",
      " ('Wilbert', [1]),\n",
      " ('Whitman', [1]),\n",
      " ('Polly', [1]),\n",
      " ('Theodora', [1]),\n",
      " ('Clemence', [1]),\n",
      " ('Saul', [1]),\n",
      " ('Glynis', [1]),\n",
      " ('Otho', [1]),\n",
      " ('Lia', [1]),\n",
      " ('Tracie', [1]),\n",
      " ('Alonzo', [1]),\n",
      " ('Kaycee', [1]),\n",
      " ('Stephen', [1]),\n",
      " ('Tremaine', [1]),\n",
      " ('Gere', [1]),\n",
      " ('Munroe', [1]),\n",
      " ('Vallie', [1]),\n",
      " ('Nichol', [1]),\n",
      " ('Christa', [1]),\n",
      " ('Giorgi', [1]),\n",
      " ('Gertie', [1]),\n",
      " ('Jedediah', [1]),\n",
      " ('Prentice', [1]),\n",
      " ('Layne', [1]),\n",
      " ('Elsa', [1]),\n",
      " ('Andrei', [1]),\n",
      " ('Carolina', [1]),\n",
      " ('Pacifica', [1]),\n",
      " ('Alisa', [1]),\n",
      " ('Gideon', [1]),\n",
      " ('Tamera', [1]),\n",
      " ('Fitzgerald', [1]),\n",
      " ('Maynard', [1]),\n",
      " ('Kirsten', [1]),\n",
      " ('Ripley', [1]),\n",
      " ('Bennett', [1]),\n",
      " ('Sibyl', [1]),\n",
      " ('Hilary', [1]),\n",
      " ('Zak', [1]),\n",
      " ('Clarita', [1]),\n",
      " ('Mamie', [1]),\n",
      " ('Case', [1]),\n",
      " ('Mace', [1]),\n",
      " ('Halley', [1]),\n",
      " ('Hillel', [1]),\n",
      " ('Yvette', [1]),\n",
      " ('Tiana', [1]),\n",
      " ('Sena', [1]),\n",
      " ('Emilie', [1]),\n",
      " ('Morse', [1]),\n",
      " ('Phil', [1]),\n",
      " ('Shane', [1]),\n",
      " ('Ritch', [1]),\n",
      " ('Selma', [1]),\n",
      " ('Bengt', [1]),\n",
      " ('Leonardo', [1]),\n",
      " ('Timi', [1]),\n",
      " ('Alberto', [1]),\n",
      " ('Elyse', [1]),\n",
      " ('Nikita', [1]),\n",
      " ('Chrysler', [1]),\n",
      " ('Wojciech', [1]),\n",
      " ('Allah', [1]),\n",
      " ('Anatole', [1]),\n",
      " ('Malorie', [1]),\n",
      " ('Elyssa', [1]),\n",
      " ('Crysta', [1]),\n",
      " ('Wendy', [1]),\n",
      " ('Desiree', [1]),\n",
      " ('Alston', [1]),\n",
      " ('Ilene', [1]),\n",
      " ('Eddy', [1]),\n",
      " ('Nichols', [1]),\n",
      " ('Gabriella', [1]),\n",
      " ('Ronald', [1]),\n",
      " ('Selig', [1]),\n",
      " ('Frieda', [1]),\n",
      " ('Linnet', [1]),\n",
      " ('Berkley', [1]),\n",
      " ('Lucian', [1]),\n",
      " ('Betty', [1]),\n",
      " ('Bo', [1]),\n",
      " ('Amity', [1]),\n",
      " ('Renata', [1]),\n",
      " ('Homer', [1]),\n",
      " ('Kai', [1]),\n",
      " ('Salmon', [1]),\n",
      " ('Casey', [1]),\n",
      " ('Laird', [1]),\n",
      " ('Francisca', [1]),\n",
      " ('Wood', [1]),\n",
      " ('Abbie', [1]),\n",
      " ('Irma', [1]),\n",
      " ('Inger', [1]),\n",
      " ('Bridgette', [1]),\n",
      " ('Aditya', [1]),\n",
      " ('Bennie', [1]),\n",
      " ('Danni', [1]),\n",
      " ('Rees', [1]),\n",
      " ('Alexandra', [1]),\n",
      " ('Adrienne', [1]),\n",
      " ('Alexei', [1]),\n",
      " ('Fatima', [1]),\n",
      " ('Beau', [1]),\n",
      " ('Noel', [1]),\n",
      " ('Ernestine', [1]),\n",
      " ('Arnold', [1]),\n",
      " ('Gregory', [1]),\n",
      " ('Kym', [1]),\n",
      " ('Grady', [1]),\n",
      " ('Layla', [1]),\n",
      " ('Carlotta', [1]),\n",
      " ('Cleland', [1]),\n",
      " ('Gwyneth', [1]),\n",
      " ('Minerva', [1]),\n",
      " ('Esme', [1]),\n",
      " ('Sophia', [1]),\n",
      " ('Hillary', [1]),\n",
      " ('Almeria', [1]),\n",
      " ('Ann-Mari', [1]),\n",
      " ('Benjamin', [1]),\n",
      " ('Meridith', [1]),\n",
      " ('Salome', [1]),\n",
      " ('Jethro', [1]),\n",
      " ('Allyn', [1]),\n",
      " ('Bridgett', [1]),\n",
      " ('Salvador', [1]),\n",
      " ('Gay', [1]),\n",
      " ('Cletus', [1]),\n",
      " ('Tommy', [1]),\n",
      " ('Patty', [1]),\n",
      " ('Elli', [1])]\n"
     ]
    }
   ],
   "source": [
    "predictions = []\n",
    "\n",
    "for x_batch, _ in val_dataloader:\n",
    "    p_batch = infer_batch(f, x_batch, device).cpu().numpy().tolist()\n",
    "    predictions.extend(p_batch)\n",
    "    \n",
    "from pprint import pprint\n",
    "pprint(list(zip(names_val, predictions)))"
   ]
  },
  {
   "cell_type": "markdown",
   "metadata": {},
   "source": [
    "Very convincing! What are these word vectors and how are they helping our network predict baby genders?  🤔\n",
    "\n",
    "Do the first assignment and find out!"
   ]
  },
  {
   "cell_type": "markdown",
   "metadata": {},
   "source": [
    "---"
   ]
  }
 ],
 "metadata": {
  "kernelspec": {
   "display_name": "Python [conda env:mllanguage] *",
   "language": "python",
   "name": "conda-env-mllanguage-py"
  },
  "language_info": {
   "codemirror_mode": {
    "name": "ipython",
    "version": 3
   },
   "file_extension": ".py",
   "mimetype": "text/x-python",
   "name": "python",
   "nbconvert_exporter": "python",
   "pygments_lexer": "ipython3",
   "version": "3.7.4"
  }
 },
 "nbformat": 4,
 "nbformat_minor": 2
}

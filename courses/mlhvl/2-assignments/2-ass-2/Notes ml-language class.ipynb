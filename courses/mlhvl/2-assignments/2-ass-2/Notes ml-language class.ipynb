{
 "cells": [
  {
   "cell_type": "code",
   "execution_count": 9,
   "metadata": {},
   "outputs": [],
   "source": [
    "%config IPCompleter.greedy=True\n",
    "import torch\n",
    "device = 'cpu'"
   ]
  },
  {
   "cell_type": "markdown",
   "metadata": {},
   "source": [
    "### Notes from the class ML for human vision and language"
   ]
  },
  {
   "cell_type": "markdown",
   "metadata": {},
   "source": [
    "#### Tensor operations\n",
    "##### Multiplication\n",
    "To multiply tensors, which are special kind of matrices use:"
   ]
  },
  {
   "cell_type": "code",
   "execution_count": 7,
   "metadata": {},
   "outputs": [
    {
     "data": {
      "text/plain": [
       "<function _VariableFunctions.bmm>"
      ]
     },
     "execution_count": 7,
     "metadata": {},
     "output_type": "execute_result"
    }
   ],
   "source": [
    "torch.mm\n",
    "## or\n",
    "torch.bmm"
   ]
  },
  {
   "cell_type": "markdown",
   "metadata": {},
   "source": [
    "Must remember that this kind of multiplication is not the Hadamard product of the two matrices."
   ]
  },
  {
   "cell_type": "markdown",
   "metadata": {},
   "source": [
    "###### Transposition"
   ]
  },
  {
   "cell_type": "markdown",
   "metadata": {},
   "source": [
    "There are more than 2 dimensions and therefore one must always specify how many dimensions were transposed. \n",
    "The 'transpose' function works by indicating the two places that one wants to switch (starting from 0)."
   ]
  },
  {
   "cell_type": "code",
   "execution_count": null,
   "metadata": {},
   "outputs": [],
   "source": [
    "A = torch.rand([128, 5, 3], device=device)\n",
    "A = A.transpose(0, 1)\n",
    "print(A.shape)"
   ]
  },
  {
   "cell_type": "markdown",
   "metadata": {},
   "source": [
    "##### Create transposed view\n",
    "The view function allows to create a reshaped view of a tensor."
   ]
  },
  {
   "cell_type": "code",
   "execution_count": 10,
   "metadata": {},
   "outputs": [
    {
     "name": "stdout",
     "output_type": "stream",
     "text": [
      "torch.Size([640, 3])\n"
     ]
    }
   ],
   "source": [
    "A = torch.rand([128, 5, 3], device=device)\n",
    "A_collapsed = A.view(A.shape[0]*A.shape[1], A.shape[-1])\n",
    "print(A_collapsed.shape)"
   ]
  },
  {
   "cell_type": "markdown",
   "metadata": {},
   "source": [
    "Or one can expand the same view into another one (as the previous one)"
   ]
  },
  {
   "cell_type": "code",
   "execution_count": 11,
   "metadata": {},
   "outputs": [
    {
     "name": "stdout",
     "output_type": "stream",
     "text": [
      "torch.Size([128, 5, 3])\n"
     ]
    }
   ],
   "source": [
    "A_expanded = A_collapsed.view(128, 5, 3)\n",
    "print(A_expanded.shape)"
   ]
  },
  {
   "cell_type": "markdown",
   "metadata": {},
   "source": [
    "##### Combining tensors\n",
    "The most reliable method to concatenate two tensors is `torch.cat`. Two tensors may be conactenated iff they agree on all dimensions except for the concatenation dimension."
   ]
  },
  {
   "cell_type": "code",
   "execution_count": 13,
   "metadata": {},
   "outputs": [
    {
     "name": "stdout",
     "output_type": "stream",
     "text": [
      "torch.Size([5, 2])\n"
     ]
    }
   ],
   "source": [
    "A = torch.rand([4,2], device=device)\n",
    "B = torch.rand([1,2], device=device)\n",
    "C = torch.cat((A, B), dim=0)\n",
    "print(C.shape)"
   ]
  },
  {
   "cell_type": "markdown",
   "metadata": {},
   "source": [
    "##### Setting things"
   ]
  },
  {
   "cell_type": "markdown",
   "metadata": {},
   "source": [
    "The following puts all the elements of tensor F that are bigger than 3.14 equal to zero"
   ]
  },
  {
   "cell_type": "code",
   "execution_count": 17,
   "metadata": {},
   "outputs": [
    {
     "name": "stdout",
     "output_type": "stream",
     "text": [
      "tensor([[0.9273, 0.6761, 0.2425, 0.3231, 0.3337, 0.4793, 0.5196, 0.1617, 0.2206,\n",
      "         0.4407],\n",
      "        [0.6880, 0.1696, 0.8968, 0.6769, 0.0251, 0.2054, 0.2278, 0.8644, 0.2338,\n",
      "         0.1635],\n",
      "        [0.2741, 0.9852, 0.1770, 0.3100, 0.2241, 0.5664, 0.8903, 0.0038, 0.4136,\n",
      "         0.9927],\n",
      "        [0.2500, 0.1512, 0.3960, 0.7348, 0.9548, 0.1693, 0.0974, 0.9853, 0.5396,\n",
      "         0.7453],\n",
      "        [0.9494, 0.5144, 0.2818, 0.4343, 0.4806, 0.7221, 0.3886, 0.9563, 0.3644,\n",
      "         0.0798],\n",
      "        [0.8424, 0.6275, 0.8995, 0.8570, 0.6025, 0.1395, 0.4768, 0.9305, 0.2785,\n",
      "         0.0908],\n",
      "        [0.5889, 0.5322, 0.5549, 0.6207, 0.0763, 0.6249, 0.5758, 0.9802, 0.9486,\n",
      "         0.8564],\n",
      "        [0.9226, 0.1853, 0.7308, 0.7305, 0.2902, 0.9525, 0.3733, 0.6938, 0.7824,\n",
      "         0.2701],\n",
      "        [0.7261, 0.0495, 0.6441, 0.8142, 0.5089, 0.5384, 0.4519, 0.0585, 0.6076,\n",
      "         0.5851],\n",
      "        [0.1163, 0.0833, 0.0560, 0.4084, 0.8479, 0.4656, 0.9232, 0.8476, 0.5511,\n",
      "         0.3152]])\n"
     ]
    }
   ],
   "source": [
    "F = torch.rand((10,10), device=device)\n",
    "F[torch.gt(F, 3.14)] = 0\n",
    "print(F)"
   ]
  },
  {
   "cell_type": "code",
   "execution_count": null,
   "metadata": {},
   "outputs": [],
   "source": []
  }
 ],
 "metadata": {
  "kernelspec": {
   "display_name": "Python [conda env:mllanguage] *",
   "language": "python",
   "name": "conda-env-mllanguage-py"
  },
  "language_info": {
   "codemirror_mode": {
    "name": "ipython",
    "version": 3
   },
   "file_extension": ".py",
   "mimetype": "text/x-python",
   "name": "python",
   "nbconvert_exporter": "python",
   "pygments_lexer": "ipython3",
   "version": "3.7.4"
  }
 },
 "nbformat": 4,
 "nbformat_minor": 2
}
